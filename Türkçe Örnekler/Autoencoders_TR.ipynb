{
  "nbformat": 4,
  "nbformat_minor": 0,
  "metadata": {
    "colab": {
      "name": "Autoencoders-TR.ipynb",
      "provenance": [],
      "collapsed_sections": []
    },
    "kernelspec": {
      "display_name": "Python 3",
      "language": "python",
      "name": "python3"
    },
    "language_info": {
      "codemirror_mode": {
        "name": "ipython",
        "version": 3
      },
      "file_extension": ".py",
      "mimetype": "text/x-python",
      "name": "python",
      "nbconvert_exporter": "python",
      "pygments_lexer": "ipython3",
      "version": "3.6.8"
    }
  },
  "cells": [
    {
      "cell_type": "markdown",
      "metadata": {
        "id": "GnM9KVDLXJ0I",
        "colab_type": "text"
      },
      "source": [
        "## Autoencoder (otomatik kodlayıcı) nedir?\n",
        "Matematiksel tanımlamalardan kaçınarak olabildiğince basit bir şekilde Autoencoderların ne olduğundan bahsedelim\n",
        "\n",
        "Basitçe girdi olarak verilen verideki bilgiyi __sıkıştırarak__ verinin kodlanmasını sağlıyor. Sonrasında da bu __sıkıştırılmış__ bilgi yığınını kullanarak tekrar girdi olarak verilen veriyi oluşturmaya çalışıyor. \n",
        "\n",
        "\n",
        "![autoencoders](https://i.imgur.com/WVQnadc.png)\n",
        "\n"
      ]
    },
    {
      "cell_type": "markdown",
      "metadata": {
        "id": "CSvE5Q4wYaz1",
        "colab_type": "text"
      },
      "source": [
        "Yukarıda gördüğünüz `bottleneck` verinin sıkıştırıldığı katman oluyor. Çalışması için doğal olarak bir hata fonksiyonuna ihtiyacımız var, benim yaptığım basit örnekte üretilen ile elimizdeki görsel arasındaki farkı pikseller arasındaki farklara bağlı olarak ifade ediyoruz.\n",
        "\n",
        "Ama mesela daha önce hiç yaşamamış insaların yüzlerini üreten bir şey yapmak istiyor olsaydık o zaman farklı bir fonksiyon kullanmamız gerekirdi.\n",
        "\n",
        "`bottleneck` denilen bölüm verinin sıkıştırıldığı yer demiştim, dolayısıyla girdiyle alakalı olan her şey orada depolanıyor. Bunun için de __girdinin boyutu__, bottleneck'in __boyutu__ oldukça önemli. Girdi büyük fakat bottleneck küçük olursa bu durumda modelin sıkıştırmayı ve sonrasında yeniden üretmeyi öğrenmesi çok daha zor olacaktır.\n",
        "\n",
        "Bir kaç farklı autoencoder tipi var fakat en moderni bildiğim kadarıyla VAE (Variational Autoencoder) modelleri. Benim yaptığım örnekteki __Undercomplete Autoencoder__ olarak da biliniyor. "
      ]
    },
    {
      "cell_type": "code",
      "metadata": {
        "colab_type": "code",
        "id": "0jGBw5NK4NeM",
        "colab": {}
      },
      "source": [
        "# Tensorflow ile çalışıyorum :D\n",
        "import tensorflow as tf\n",
        "\n",
        "# veriyi manipüle edebilmek için (veriyi tanımlamak, düzenlemek vs.)\n",
        "import numpy as np\n",
        "\n",
        "# modelin eğitim sonuçlarını ve encode/decode işlemini gözlemleyebilmek için \n",
        "import matplotlib.pyplot as plt\n",
        "\n",
        "# notebooklarda plotly grafikleri gözükmüyor, bu yüzden yalnızca kendim proje üzerine çalışırken kullanıp sonrasında \n",
        "# matplotlib grafiklerine dönüştürüyorum\n",
        "import plotly.graph_objects as go\n",
        "import plotly.express as px"
      ],
      "execution_count": 27,
      "outputs": []
    },
    {
      "cell_type": "code",
      "metadata": {
        "colab_type": "code",
        "id": "U9ouUkV04cMI",
        "colab": {
          "base_uri": "https://localhost:8080/",
          "height": 34
        },
        "outputId": "9782d5c2-e95f-4b07-bd02-812f08fc3dc4"
      },
      "source": [
        "# MNIST datasetini yükleyelim\n",
        "from tensorflow.keras.datasets import mnist\n",
        "\n",
        "# Rakamların ne olduğuyla ilgilenmiyoruz, bu yüzden labellara gerek yok\n",
        "(x_train, _), (x_test, _) = mnist.load_data()\n",
        "\n",
        "# veriyi basit bir normalizasyondan geçiriyorum. Bu piksel değerlerinin 0 ile 1 arasında olmasını sağlıyor\n",
        "# Böylece modelin yapacağı matematiksel işlemler daha kısa sürecek + weightler de 0-1 aralığında olduğundan \n",
        "# modelin eğitimi muhtemelen daha başarılı olacak\n",
        "x_train = x_train / 255.0\n",
        "x_test = x_test / 255.0\n",
        "\n",
        "# Veriyi FC layerları ile işliyorum, tensorflowda bunun karşılığı Dense layerları\n",
        "# Aktivasyon fonksiyonu kullanan regresyon katmanları olarak görülebilir\n",
        "# Yani aktivasyon fonksiyonu f, normal regresyon çıktısı (w*x + b) = z olsun\n",
        "# o zaman Dense katmanından çıkan işlenmiş veri f(z) olacak \n",
        "\n",
        "# FC layerlarına veriyi ancak ve ancak tek boyutlu olarak gönderebilirim. \n",
        "# Bu yüzden elimdeki veriyi (örnek miktarı, 784) olacak şekilde düzenliyorum\n",
        "# Bunu yapmak için önce görselleri 28*28 = 784 boyutlu bir vektör haline getiriyorum,\n",
        "# Ama tek bir görsel olmadığı için görsel sayısı*784 boyutlu bir vektör geliyor elime\n",
        "# Sonrasında toplam örnek sayısına göre satırlara ayırıyorum\n",
        "# Böylece (örnek sayısı, 784) şeklinde bir matrix elde ediyorum\n",
        "\n",
        "# flatten görsel sayısı * 784 boyutlu vektörü veriyor, bunu görmek için flatten() dan sonrasını silin aşağıdaki satırlarda\n",
        "# sonra reshape ile (örnek sayısı, 784) boyutlu matris olacak şekilde düzenliyorum\n",
        "# x_train in normal boyutu (60000, 28, 28). O zaman x_train.shape[0] = 60000 olmalı\n",
        "# bende (60000, elde ne kaldıysa) şeklinde düzenliyorum, \n",
        "# flatten dan sonra elimde örnek sayısı * 784 boyutlu veri kaldığı için\n",
        "# (60000, elde ne kaldıysa) dediğimde \"elde ne kaldıysa\" kısmı (60000*784)/60000 = 784 olmalı\n",
        "# bu yüzden sonuç olarak (60000, 784) şekline dönüşmüş oluyor\n",
        "# tıpatıp aynı işlemi test verisi için de uyguluyorum.\n",
        "x_train = x_train.flatten().reshape((x_train.shape[0], -1))\n",
        "x_test = x_test.flatten().reshape((x_test.shape[0], -1))\n",
        "\n",
        "# Doğru yapıp yapmadığımıza bakalım hemen\n",
        "x_train.shape, x_test.shape"
      ],
      "execution_count": 28,
      "outputs": [
        {
          "output_type": "execute_result",
          "data": {
            "text/plain": [
              "((60000, 784), (10000, 784))"
            ]
          },
          "metadata": {
            "tags": []
          },
          "execution_count": 28
        }
      ]
    },
    {
      "cell_type": "code",
      "metadata": {
        "colab_type": "code",
        "id": "VfxbMKl04o3l",
        "colab": {}
      },
      "source": [
        "from tensorflow.keras.layers import Input, Dense\n",
        "\n",
        "# Girdi boyutu (784,) olacak (tek bir örnek için)\n",
        "# Bu yüzden tek bir örneğin boyutunu vermem yeterli\n",
        "i = Input(shape = x_train[0].shape)\n",
        "# Encode işleminin yapıldığı katmanları görebiliyorsunuz,\n",
        "# Gönderilen görseli daha az veriyle ifade ediyor (64, 128)\n",
        "# 128 olan encode katmanının çıktsını keyfinizce düzenleyip daha az veriye sıkıştırmayı öğretmeyi de deneyebilirsiniz\n",
        "encode_dims = 32 # Bunu küçültüp daha az veriye sıkıştırabilirsiniz (yalnızca çift sayı girin ki en aşağıda görselleştirme yaparken sıkıntı çıkmasın :D)\n",
        "encode = Dense(64)(i)\n",
        "encode = Dense(64)(encode)\n",
        "encode = Dense(encode_dims)(encode) # Son sıkıştırmayı burada yapıyor\n",
        "\n",
        "# artık sıkıştırmayı tersine çevirip görseli tekrar oluşturma zamanı\n",
        "decode = Dense(128)(encode)\n",
        "# Gitgide çıktı boyutunu arttırarak en sonunda verilen görselle aynı olmasını sağlıyorum\n",
        "decode = Dense(28*14)(decode) # Girdi boyutu 784 idi, bende yavaş yavaş ona yaklaşıyorum\n",
        "# burada x_train[0].shape = (784,) ve x_train[0].shape[0] = 784 olduğundan girdiyle aynı boyutta bir çıktı veriyor en sonunda\n",
        "o = Dense(x_train[0].shape[0])(decode) \n",
        "\n",
        "# şimdi bu modeli oluşturabiliriz\n",
        "model = tf.keras.models.Model(i, o)\n",
        "\n",
        "\n",
        "# gradient descent uygulayacak optimizer fonksiyonumuz 'adam'\n",
        "# modelin yaptıklarıyla arasındaki farkı ölçecek olan şey MSE (Mean Squared Error) fonksiyonu\n",
        "# tek tek her bir pikselin arasındaki değer farkının karesini alıp toplar.\n",
        "# Bu toplamın ortalamasını hata skoru olarak gösterecek\n",
        "# MAE de (Mean Absolute Error) aralarındaki farkları mutlak değerce toplayıp ortalamasını alarak kullanır.\n",
        "model.compile(optimizer = 'adam',\n",
        "              loss = 'mse', # model bu fonksiyon ile optimize ediliyor\n",
        "              metrics = ['mae']) # ama ekstra olarak bunu da gösterecek"
      ],
      "execution_count": 29,
      "outputs": []
    },
    {
      "cell_type": "code",
      "metadata": {
        "colab_type": "code",
        "id": "DwE2bBT27Hnl",
        "colab": {
          "base_uri": "https://localhost:8080/",
          "height": 697
        },
        "outputId": "4eeb8dc5-7d41-4c4a-f035-399e05c2ab6c"
      },
      "source": [
        "# artık eğitelim :D\n",
        "# batch_size burada verinin kaçlı gruplar halinde işleneceğini gösteriyor\n",
        "# yani eğer 64 ise elimizdeki toplam veriyi 64'e bölecek.\n",
        "# Bu durumda mesela antrenman için elimizde 60000 örnek vardı\n",
        "# eğer batch_size = 64 olursa veri 64 adet eşit miktarda görsel içeren gruba ayrılacak\n",
        "# Bu durumda 60000/64 yaklaşık olarak 938 olduğu için her bir adımda (epoch) 938 adet görselden oluşan 64 tane grup işleyecek\n",
        "# toplamda 20 adımdan sonra antrenman duracak, epochs parametresi bunu belirtiyor.\n",
        "# fotoğrafı önce şifreleyip sonra eski haline geri döndürmeyi öğretmeye çalışıyoruz, bu yüzden\n",
        "# modelden beklediğimiz çıktı da ona giren fotoğrafla aynı olacak. \n",
        "# O yüzden hedefimiz yani Y de modele gönderdiğimiz fotoğraflar yani X oluyor.\n",
        "\n",
        "# validation verisi modeli eğitim esnasında test verisinde test ediyor\n",
        "r = model.fit(x_train, x_train, validation_data = (x_test, x_test),\n",
        "              batch_size = 64, epochs = 20)"
      ],
      "execution_count": 30,
      "outputs": [
        {
          "output_type": "stream",
          "text": [
            "Epoch 1/20\n",
            "938/938 [==============================] - 8s 8ms/step - loss: 0.0217 - mae: 0.0825 - val_loss: 0.0174 - val_mae: 0.0735\n",
            "Epoch 2/20\n",
            "938/938 [==============================] - 7s 8ms/step - loss: 0.0177 - mae: 0.0736 - val_loss: 0.0172 - val_mae: 0.0721\n",
            "Epoch 3/20\n",
            "938/938 [==============================] - 7s 8ms/step - loss: 0.0176 - mae: 0.0729 - val_loss: 0.0171 - val_mae: 0.0719\n",
            "Epoch 4/20\n",
            "938/938 [==============================] - 7s 8ms/step - loss: 0.0176 - mae: 0.0726 - val_loss: 0.0173 - val_mae: 0.0722\n",
            "Epoch 5/20\n",
            "938/938 [==============================] - 7s 8ms/step - loss: 0.0175 - mae: 0.0724 - val_loss: 0.0171 - val_mae: 0.0718\n",
            "Epoch 6/20\n",
            "938/938 [==============================] - 7s 8ms/step - loss: 0.0175 - mae: 0.0723 - val_loss: 0.0172 - val_mae: 0.0718\n",
            "Epoch 7/20\n",
            "938/938 [==============================] - 7s 8ms/step - loss: 0.0175 - mae: 0.0721 - val_loss: 0.0170 - val_mae: 0.0713\n",
            "Epoch 8/20\n",
            "938/938 [==============================] - 7s 8ms/step - loss: 0.0175 - mae: 0.0720 - val_loss: 0.0170 - val_mae: 0.0715\n",
            "Epoch 9/20\n",
            "938/938 [==============================] - 7s 8ms/step - loss: 0.0175 - mae: 0.0720 - val_loss: 0.0171 - val_mae: 0.0713\n",
            "Epoch 10/20\n",
            "938/938 [==============================] - 7s 8ms/step - loss: 0.0175 - mae: 0.0719 - val_loss: 0.0170 - val_mae: 0.0712\n",
            "Epoch 11/20\n",
            "938/938 [==============================] - 8s 8ms/step - loss: 0.0175 - mae: 0.0719 - val_loss: 0.0170 - val_mae: 0.0714\n",
            "Epoch 12/20\n",
            "938/938 [==============================] - 8s 8ms/step - loss: 0.0175 - mae: 0.0718 - val_loss: 0.0170 - val_mae: 0.0711\n",
            "Epoch 13/20\n",
            "938/938 [==============================] - 9s 10ms/step - loss: 0.0175 - mae: 0.0718 - val_loss: 0.0170 - val_mae: 0.0712\n",
            "Epoch 14/20\n",
            "938/938 [==============================] - 8s 8ms/step - loss: 0.0174 - mae: 0.0718 - val_loss: 0.0170 - val_mae: 0.0709\n",
            "Epoch 15/20\n",
            "938/938 [==============================] - 11s 12ms/step - loss: 0.0174 - mae: 0.0717 - val_loss: 0.0170 - val_mae: 0.0710\n",
            "Epoch 16/20\n",
            "938/938 [==============================] - 7s 8ms/step - loss: 0.0174 - mae: 0.0717 - val_loss: 0.0170 - val_mae: 0.0709\n",
            "Epoch 17/20\n",
            "938/938 [==============================] - 7s 8ms/step - loss: 0.0174 - mae: 0.0717 - val_loss: 0.0170 - val_mae: 0.0709\n",
            "Epoch 18/20\n",
            "938/938 [==============================] - 7s 8ms/step - loss: 0.0174 - mae: 0.0717 - val_loss: 0.0170 - val_mae: 0.0711\n",
            "Epoch 19/20\n",
            "938/938 [==============================] - 7s 8ms/step - loss: 0.0174 - mae: 0.0716 - val_loss: 0.0170 - val_mae: 0.0708\n",
            "Epoch 20/20\n",
            "938/938 [==============================] - 8s 8ms/step - loss: 0.0174 - mae: 0.0716 - val_loss: 0.0170 - val_mae: 0.0708\n"
          ],
          "name": "stdout"
        }
      ]
    },
    {
      "cell_type": "code",
      "metadata": {
        "id": "uQwohKbrT8NU",
        "colab_type": "code",
        "colab": {
          "base_uri": "https://localhost:8080/",
          "height": 281
        },
        "outputId": "5069b70d-fc51-406e-930a-cee2aa2c93a8"
      },
      "source": [
        "# Modelin antrenman skorlarını grafiğe dökelim\n",
        "# model.fit fonksiyonu History denilen bir obje döndürüyor\n",
        "# bunun içinde de history adında bir dict var, bunun sayesinde eğitimde hesaplanan hata skoru veya MAE skoru gibi şeylere erişebiliyorum\n",
        "plt.title('Hata fonksiyonunun grafiği')\n",
        "plt.plot(r.history['loss'], label = 'loss')\n",
        "plt.plot(r.history['val_loss'], label = 'val_loss')\n",
        "plt.show()\n",
        "\n",
        "# Burada grafikten çıkarabileceğimiz en önemli çıkarım model eğitiminin oldukça başarılı olduğu ve 5. adımdan sonra gelişmenin neredeyse durduğu\n",
        "# Yani 5 epoch ile eğitmekte yeterli olacaktır bu durumda. (bunu da değiştirip tekrar eğitmeyi deneyin)\n",
        "# MAE değerlerini grafiğe dökmek pek anlamlı değil, o yüzden onunla uğraşmıyorum."
      ],
      "execution_count": 31,
      "outputs": [
        {
          "output_type": "display_data",
          "data": {
            "image/png": "[encoded data removed]",
            "text/plain": [
              "<Figure size 432x288 with 1 Axes>"
            ]
          },
          "metadata": {
            "tags": [],
            "needs_background": "light"
          }
        }
      ]
    },
    {
      "cell_type": "code",
      "metadata": {
        "colab_type": "code",
        "id": "KLogvQVO8yrS",
        "colab": {
          "base_uri": "https://localhost:8080/",
          "height": 136
        },
        "outputId": "2b980853-1aa8-4db1-ae8e-cc6ce06aeb76"
      },
      "source": [
        "# Modelin katmanları bunlar, girdi (Input) katmanı dahil olmak üzere ilk 4 tanesi şifrelemeyi sağlıyor\n",
        "# Son 3 tanesi de o şifreyi çözmeye çalışıyor\n",
        "model.layers"
      ],
      "execution_count": 32,
      "outputs": [
        {
          "output_type": "execute_result",
          "data": {
            "text/plain": [
              "[<tensorflow.python.keras.engine.input_layer.InputLayer at 0x7f958860d7f0>,\n",
              " <tensorflow.python.keras.layers.core.Dense at 0x7f95a393ae10>,\n",
              " <tensorflow.python.keras.layers.core.Dense at 0x7f958860d828>,\n",
              " <tensorflow.python.keras.layers.core.Dense at 0x7f95886c2940>,\n",
              " <tensorflow.python.keras.layers.core.Dense at 0x7f95886c2dd8>,\n",
              " <tensorflow.python.keras.layers.core.Dense at 0x7f958fc28fd0>,\n",
              " <tensorflow.python.keras.layers.core.Dense at 0x7f958fc01048>]"
            ]
          },
          "metadata": {
            "tags": []
          },
          "execution_count": 32
        }
      ]
    },
    {
      "cell_type": "code",
      "metadata": {
        "id": "7mg2sbc6am5e",
        "colab_type": "code",
        "colab": {}
      },
      "source": [
        "# burada yazdığım fonksiyon bir sayının orta çarpanını almamı sağlıyor, \n",
        "# genel projeyle bir alakası yok sadece grafikleri görmede kolaylık olsun diye yazıyorum\n",
        "def mid_multiplier(num):\n",
        "  multipliers = [i for i in range(1, num+1) if num%i == 0][::-1] # sayının çarpanlarını bulup büyükten küçüğe sıralıyorum\n",
        "  return multipliers[len(multipliers)//2 - 1]"
      ],
      "execution_count": 33,
      "outputs": []
    },
    {
      "cell_type": "code",
      "metadata": {
        "colab_type": "code",
        "id": "SIGVRuER8dmm",
        "colab": {
          "base_uri": "https://localhost:8080/",
          "height": 749
        },
        "outputId": "da70e76f-cfd4-46ad-8972-9a2123453896"
      },
      "source": [
        "# Rastgele bir görsel alabilmek için rastgele indis almam gerekiyor.\n",
        "random_idx = np.random.randint(0, len(x_test)-1)\n",
        "\n",
        "# Artık indis olduğundan görseli alabilirim\n",
        "# veriyi modelden geçirirken bir grup (batch) halinde geçiriyoruz bu yüzden eğer tek bir fotoğraf geçirmek istiyorsam\n",
        "# onu tek bir fotoğraftan oluşan bir grup olarak göstermeliyim. Bunun için boyutlarını (1, 784) olacak şekilde düzenliyorum\n",
        "test_img = x_test[random_idx].reshape((1, 784))\n",
        "# Aldığımız veri normalde (784,) şeklindeydi, bunu göstermek istiyorsam 28x28 olacak şekilde tekrar düzenlemeliyim\n",
        "test_img_reshaped = test_img.reshape((28,28))\n",
        "# modele göndereceğim veri ile göstereceğim veri birbirinden farklı değişkenlerde depolanıyorlar, buna dikkat edelim :D\n",
        "\n",
        "# görseli görüntüleyelim\n",
        "plt.imshow(test_img_reshaped, cmap = 'gray')\n",
        "plt.show()\n",
        "# Şimdi ilk 4 katmanı kullanarak şifreleyelim\n",
        "data = model.layers[0](test_img)\n",
        "data = model.layers[1](data)\n",
        "data = model.layers[2](data)\n",
        "data = model.layers[3](data)\n",
        "print('Encode edilmiş (kodlanmış) görsel:')\n",
        "# ilk önce tensörden matrise çevirelim \n",
        "encoded_data = data.numpy()\n",
        "# Son şifreleme katmanının çıktısı encode_dims değişkeninde duruyor, bunu görüntülemek için yukarıda yazdığım fonksiyonu kullanıyorum\n",
        "n_col = mid_multiplier(encode_dims) # encode_dims sayısının ortanca çarpanını sütun sayısı olarak kullanacağım\n",
        "# eğer verinin n_rows*n_cols boyutlarında olması gerekiyorsa ve encode_dims sayısı n_col ile bölünebiliyorsa \n",
        "# n_rows yerine encode_dims/n_col kullanabilirim. \n",
        "encoded_data_shape = (int(encode_dims/n_col), n_col)\n",
        "encoded_img = data.numpy().reshape(encoded_data_shape)\n",
        "plt.imshow(encoded_img, cmap = 'gray')\n",
        "plt.show()\n",
        "print('Decode edilmiş (kodu çözülmüş) görsel:')\n",
        "# Şimdi kodlamayı tersine çevirip görseli tekrar oluşturmak için kalan 3 katmandan geçirelim\n",
        "for layer in model.layers[4:]:\n",
        "  data = layer(data)\n",
        "\n",
        "# İşlem tersine döndüğünde girdiyle aynı boyutta bir şey çıkacak, bu yüzden onu da boyutları 28x28 şekilde düzenliyorum (reshape ile)\n",
        "data = data.numpy().reshape((28,28))\n",
        "plt.imshow(data, cmap = 'gray')\n",
        "plt.show()"
      ],
      "execution_count": 34,
      "outputs": [
        {
          "output_type": "display_data",
          "data": {
            "image/png": "[encoded data removed]",
            "text/plain": [
              "<Figure size 432x288 with 1 Axes>"
            ]
          },
          "metadata": {
            "tags": [],
            "needs_background": "light"
          }
        },
        {
          "output_type": "stream",
          "text": [
            "Encode edilmiş (kodlanmış) görsel:\n"
          ],
          "name": "stdout"
        },
        {
          "output_type": "display_data",
          "data": {
            "image/png": "[encoded data removed]",
            "text/plain": [
              "<Figure size 432x288 with 1 Axes>"
            ]
          },
          "metadata": {
            "tags": [],
            "needs_background": "light"
          }
        },
        {
          "output_type": "stream",
          "text": [
            "Decode edilmiş (kodu çözülmüş) görsel:\n"
          ],
          "name": "stdout"
        },
        {
          "output_type": "display_data",
          "data": {
            "image/png": "[encoded data removed]",
            "text/plain": [
              "<Figure size 432x288 with 1 Axes>"
            ]
          },
          "metadata": {
            "tags": [],
            "needs_background": "light"
          }
        }
      ]
    },
    {
      "cell_type": "markdown",
      "metadata": {
        "id": "n3RCajN7aEb7",
        "colab_type": "text"
      },
      "source": [
        "## Denoising Autoencoder (Gürültü arındırıcı Autoencoder)\n",
        "\n",
        "Bunlarda başlangıçta anlattığıma benzer şekilde çalışıyorlar. Sadece girdi olarak verilen veri __gürültü__ eklenmiş veri oluyor. \n",
        "\n",
        "![noisy autoencoder](https://i.imgur.com/pB6Omhd.png)"
      ]
    },
    {
      "cell_type": "code",
      "metadata": {
        "id": "jy_-AOnTi_RJ",
        "colab_type": "code",
        "colab": {
          "base_uri": "https://localhost:8080/",
          "height": 282
        },
        "outputId": "370c1693-3975-4fdb-83d4-b437c6f41cb3"
      },
      "source": [
        "# Gürültü ekleyebilmek için veriyi tekrar yüklüyorum\n",
        "(x_train, _), (x_test, _) = mnist.load_data()\n",
        "\n",
        "train_noise = np.random.random((28,28))\n",
        "test_noise = np.random.random((28,28))\n",
        "\n",
        "x_train = x_train + ( (train_noise) * 150 )\n",
        "x_test = x_test + ( (test_noise) * 150 )\n",
        "\n",
        "\n",
        "# gerçek normalization uyguluyorum, veri grubunu ortalaması 0 ve standart dağılımı 1 olacak bir hale dönüştürüyor\n",
        "x_train = ( x_train - x_train.mean() ) / x_train.std()\n",
        "x_test = ( x_test - x_train.mean() ) / x_train.std()\n",
        "\n",
        "# flatten the input data\n",
        "x_train = x_train.flatten().reshape(x_train.shape[0], -1)\n",
        "x_test = x_test.flatten().reshape(x_test.shape[0], -1 )\n",
        "\n",
        "# şimdi gürültü eklenmiş örnek bir fotoğraf gösterelim\n",
        "random_idx = np.random.randint(0, len(x_train) - 1)\n",
        "plt.imshow(x_train[random_idx].reshape((28,28)), cmap = 'gray')"
      ],
      "execution_count": 35,
      "outputs": [
        {
          "output_type": "execute_result",
          "data": {
            "text/plain": [
              "<matplotlib.image.AxesImage at 0x7f95889c4710>"
            ]
          },
          "metadata": {
            "tags": []
          },
          "execution_count": 35
        },
        {
          "output_type": "display_data",
          "data": {
            "image/png": "[encoded data removed]",
            "text/plain": [
              "<Figure size 432x288 with 1 Axes>"
            ]
          },
          "metadata": {
            "tags": [],
            "needs_background": "light"
          }
        }
      ]
    },
    {
      "cell_type": "code",
      "metadata": {
        "id": "zl3gfgMPu2E1",
        "colab_type": "code",
        "colab": {}
      },
      "source": [
        "i = Input(shape = x_train[0].shape)\n",
        "\n",
        "encode_dims = 64 \n",
        "\n",
        "encode = Dense(256)(i)\n",
        "encode = Dense(128)(encode)\n",
        "encode = Dense(encode_dims)(encode)\n",
        "\n",
        "decode = Dense(128)(encode)\n",
        "decode = Dense(28*14)(decode)\n",
        "o = Dense(x_train[0].shape[0])(decode) \n",
        "\n",
        "model = tf.keras.models.Model(i, o)\n",
        "\n",
        "model.compile(optimizer = 'adam',\n",
        "              loss = 'mse',\n",
        "              metrics = ['mae'])"
      ],
      "execution_count": 44,
      "outputs": []
    },
    {
      "cell_type": "code",
      "metadata": {
        "id": "g3vX3lhavC_C",
        "colab_type": "code",
        "colab": {
          "base_uri": "https://localhost:8080/",
          "height": 697
        },
        "outputId": "6174312e-6a2c-4817-8186-bdb1e07d861a"
      },
      "source": [
        "r = model.fit(x_train, x_train, validation_data = (x_test, x_test), epochs = 20, batch_size = 64)"
      ],
      "execution_count": 45,
      "outputs": [
        {
          "output_type": "stream",
          "text": [
            "Epoch 1/20\n",
            "938/938 [==============================] - 9s 10ms/step - loss: 0.1296 - mae: 0.2078 - val_loss: 5341.9775 - val_mae: 59.1056\n",
            "Epoch 2/20\n",
            "938/938 [==============================] - 9s 10ms/step - loss: 0.0811 - mae: 0.1634 - val_loss: 5234.3613 - val_mae: 59.1266\n",
            "Epoch 3/20\n",
            "938/938 [==============================] - 9s 10ms/step - loss: 0.0797 - mae: 0.1606 - val_loss: 5269.7529 - val_mae: 59.2246\n",
            "Epoch 4/20\n",
            "938/938 [==============================] - 9s 10ms/step - loss: 0.0795 - mae: 0.1598 - val_loss: 5435.7344 - val_mae: 60.6494\n",
            "Epoch 5/20\n",
            "938/938 [==============================] - 9s 10ms/step - loss: 0.0786 - mae: 0.1578 - val_loss: 6092.8638 - val_mae: 64.8344\n",
            "Epoch 6/20\n",
            "938/938 [==============================] - 9s 10ms/step - loss: 0.0783 - mae: 0.1569 - val_loss: 6036.4268 - val_mae: 64.4936\n",
            "Epoch 7/20\n",
            "938/938 [==============================] - 9s 10ms/step - loss: 0.0781 - mae: 0.1564 - val_loss: 6142.7715 - val_mae: 65.0446\n",
            "Epoch 8/20\n",
            "938/938 [==============================] - 9s 10ms/step - loss: 0.0782 - mae: 0.1563 - val_loss: 6196.2183 - val_mae: 65.4224\n",
            "Epoch 9/20\n",
            "938/938 [==============================] - 9s 10ms/step - loss: 0.0779 - mae: 0.1558 - val_loss: 6094.5908 - val_mae: 64.9382\n",
            "Epoch 10/20\n",
            "938/938 [==============================] - 9s 10ms/step - loss: 0.0780 - mae: 0.1558 - val_loss: 6265.4878 - val_mae: 65.9804\n",
            "Epoch 11/20\n",
            "938/938 [==============================] - 9s 10ms/step - loss: 0.0777 - mae: 0.1554 - val_loss: 6060.2593 - val_mae: 64.6272\n",
            "Epoch 12/20\n",
            "938/938 [==============================] - 9s 10ms/step - loss: 0.0777 - mae: 0.1552 - val_loss: 6204.3130 - val_mae: 65.5497\n",
            "Epoch 13/20\n",
            "938/938 [==============================] - 9s 10ms/step - loss: 0.0776 - mae: 0.1551 - val_loss: 6006.1655 - val_mae: 64.3756\n",
            "Epoch 14/20\n",
            "938/938 [==============================] - 9s 10ms/step - loss: 0.0775 - mae: 0.1548 - val_loss: 6199.6909 - val_mae: 65.5024\n",
            "Epoch 15/20\n",
            "938/938 [==============================] - 9s 10ms/step - loss: 0.0774 - mae: 0.1546 - val_loss: 6211.5474 - val_mae: 65.5669\n",
            "Epoch 16/20\n",
            "938/938 [==============================] - 9s 10ms/step - loss: 0.0774 - mae: 0.1544 - val_loss: 6018.0835 - val_mae: 64.3791\n",
            "Epoch 17/20\n",
            "938/938 [==============================] - 9s 10ms/step - loss: 0.0773 - mae: 0.1543 - val_loss: 6036.4194 - val_mae: 64.5275\n",
            "Epoch 18/20\n",
            "938/938 [==============================] - 10s 10ms/step - loss: 0.0773 - mae: 0.1542 - val_loss: 6075.0430 - val_mae: 64.7241\n",
            "Epoch 19/20\n",
            "938/938 [==============================] - 9s 10ms/step - loss: 0.0772 - mae: 0.1540 - val_loss: 6137.0669 - val_mae: 65.0715\n",
            "Epoch 20/20\n",
            "938/938 [==============================] - 9s 10ms/step - loss: 0.0771 - mae: 0.1539 - val_loss: 6117.3989 - val_mae: 64.9627\n"
          ],
          "name": "stdout"
        }
      ]
    },
    {
      "cell_type": "code",
      "metadata": {
        "id": "L_3ztyR2vfzT",
        "colab_type": "code",
        "colab": {
          "base_uri": "https://localhost:8080/",
          "height": 662
        },
        "outputId": "517be3a5-da9d-43f9-fcc7-244a1354627a"
      },
      "source": [
        "random_idx = np.random.randint(0, len(x_test)-1)\n",
        "\n",
        "test_img = x_test[random_idx].reshape((1, 784))\n",
        "test_img_reshaped = test_img.reshape((28,28))\n",
        "\n",
        "plt.imshow(test_img_reshaped, cmap = 'gray')\n",
        "plt.show()\n",
        "data = model.layers[0](test_img)\n",
        "data = model.layers[1](data)\n",
        "data = model.layers[2](data)\n",
        "data = model.layers[3](data)\n",
        "\n",
        "print('Encode edilmiş (kodlanmış) görsel:')\n",
        "encoded_data = data.numpy()\n",
        "n_col = mid_multiplier(encode_dims)\n",
        "encoded_data_shape = (int(encode_dims/n_col), n_col)\n",
        "encoded_img = data.numpy().reshape(encoded_data_shape)\n",
        "plt.imshow(encoded_img, cmap = 'gray')\n",
        "plt.show()\n",
        "print('Decode edilmiş (kodu çözülmüş) görsel:')\n",
        "for layer in model.layers[4:]:\n",
        "  data = layer(data)\n",
        "\n",
        "data = data.numpy().reshape((28,28))\n",
        "plt.imshow(data, cmap = 'gray')\n",
        "plt.show()"
      ],
      "execution_count": 46,
      "outputs": [
        {
          "output_type": "display_data",
          "data": {
            "image/png": "[encoded data removed]",
            "text/plain": [
              "<Figure size 432x288 with 1 Axes>"
            ]
          },
          "metadata": {
            "tags": [],
            "needs_background": "light"
          }
        },
        {
          "output_type": "stream",
          "text": [
            "Encode edilmiş (kodlanmış) görsel:\n"
          ],
          "name": "stdout"
        },
        {
          "output_type": "display_data",
          "data": {
            "image/png": "[encoded data removed]",
            "text/plain": [
              "<Figure size 432x288 with 1 Axes>"
            ]
          },
          "metadata": {
            "tags": [],
            "needs_background": "light"
          }
        },
        {
          "output_type": "stream",
          "text": [
            "Decode edilmiş (kodu çözülmüş) görsel:\n"
          ],
          "name": "stdout"
        },
        {
          "output_type": "display_data",
          "data": {
            "image/png": "[encoded data removed]",
            "text/plain": [
              "<Figure size 432x288 with 1 Axes>"
            ]
          },
          "metadata": {
            "tags": [],
            "needs_background": "light"
          }
        }
      ]
    }
  ]
}