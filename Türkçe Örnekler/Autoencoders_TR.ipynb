{
  "nbformat": 4,
  "nbformat_minor": 0,
  "metadata": {
    "colab": {
      "name": "Autoencoders-TR.ipynb",
      "provenance": [],
      "collapsed_sections": []
    },
    "kernelspec": {
      "display_name": "Python 3",
      "language": "python",
      "name": "python3"
    },
    "language_info": {
      "codemirror_mode": {
        "name": "ipython",
        "version": 3
      },
      "file_extension": ".py",
      "mimetype": "text/x-python",
      "name": "python",
      "nbconvert_exporter": "python",
      "pygments_lexer": "ipython3",
      "version": "3.6.8"
    }
  },
  "cells": [
    {
      "cell_type": "code",
      "metadata": {
        "colab_type": "code",
        "id": "0jGBw5NK4NeM",
        "colab": {}
      },
      "source": [
        "# Tensorflow ile çalışıyorum :D\n",
        "import tensorflow as tf\n",
        "\n",
        "# veriyi manipüle edebilmek için (veriyi tanımlamak, düzenlemek vs.)\n",
        "import numpy as np\n",
        "\n",
        "# modelin eğitim sonuçlarını ve encode/decode işlemini gözlemleyebilmek için \n",
        "import matplotlib.pyplot as plt\n",
        "\n",
        "# notebooklarda plotly grafikleri gözükmüyor, bu yüzden yalnızca kendim proje üzerine çalışırken kullanıp sonrasında \n",
        "# matplotlib grafiklerine dönüştürüyorum\n",
        "import plotly.graph_objects as go\n",
        "import plotly.express as px"
      ],
      "execution_count": null,
      "outputs": []
    },
    {
      "cell_type": "code",
      "metadata": {
        "colab_type": "code",
        "id": "U9ouUkV04cMI",
        "colab": {
          "base_uri": "https://localhost:8080/",
          "height": 68
        },
        "outputId": "8b08ef54-9766-4842-b8dd-d7448925fd32"
      },
      "source": [
        "# MNIST datasetini yükleyelim\n",
        "from tensorflow.keras.datasets import mnist\n",
        "\n",
        "# Rakamların ne olduğuyla ilgilenmiyoruz, bu yüzden labellara gerek yok\n",
        "(x_train, _), (x_test, _) = mnist.load_data()\n",
        "\n",
        "# veriyi basit bir normalizasyondan geçiriyorum. Bu piksel değerlerinin 0 ile 1 arasında olmasını sağlıyor\n",
        "# Böylece modelin yapacağı matematiksel işlemler daha kısa sürecek + weightler de 0-1 aralığında olduğundan \n",
        "# modelin eğitimi muhtemelen daha başarılı olacak\n",
        "x_train = x_train / 255.0\n",
        "x_test = x_test / 255.0\n",
        "\n",
        "# Veriyi FC layerları ile işliyorum, tensorflowda bunun karşılığı Dense layerları\n",
        "# Aktivasyon fonksiyonu kullanan regresyon katmanları olarak görülebilir\n",
        "# Yani aktivasyon fonksiyonu f, normal regresyon çıktısı (w*x + b) = z olsun\n",
        "# o zaman Dense katmanından çıkan işlenmiş veri f(z) olacak \n",
        "\n",
        "# FC layerlarına veriyi ancak ve ancak tek boyutlu olarak gönderebilirim. \n",
        "# Bu yüzden elimdeki veriyi (örnek miktarı, 784) olacak şekilde düzenliyorum\n",
        "# Bunu yapmak için önce görselleri 28*28 = 784 boyutlu bir vektör haline getiriyorum,\n",
        "# Ama tek bir görsel olmadığı için görsel sayısı*784 boyutlu bir vektör geliyor elime\n",
        "# Sonrasında toplam örnek sayısına göre satırlara ayırıyorum\n",
        "# Böylece (örnek sayısı, 784) şeklinde bir matrix elde ediyorum\n",
        "\n",
        "# flatten görsel sayısı * 784 boyutlu vektörü veriyor, bunu görmek için flatten() dan sonrasını silin aşağıdaki satırlarda\n",
        "# sonra reshape ile (örnek sayısı, 784) boyutlu matris olacak şekilde düzenliyorum\n",
        "# x_train in normal boyutu (60000, 28, 28). O zaman x_train.shape[0] = 60000 olmalı\n",
        "# bende (60000, elde ne kaldıysa) şeklinde düzenliyorum, \n",
        "# flatten dan sonra elimde örnek sayısı * 784 boyutlu veri kaldığı için\n",
        "# (60000, elde ne kaldıysa) dediğimde \"elde ne kaldıysa\" kısmı (60000*784)/60000 = 784 olmalı\n",
        "# bu yüzden sonuç olarak (60000, 784) şekline dönüşmüş oluyor\n",
        "# tıpatıp aynı işlemi test verisi için de uyguluyorum.\n",
        "x_train = x_train.flatten().reshape((x_train.shape[0], -1))\n",
        "x_test = x_test.flatten().reshape((x_test.shape[0], -1))\n",
        "\n",
        "# Doğru yapıp yapmadığımıza bakalım hemen\n",
        "x_train.shape, x_test.shape"
      ],
      "execution_count": null,
      "outputs": [
        {
          "output_type": "stream",
          "text": [
            "Downloading data from https://storage.googleapis.com/tensorflow/tf-keras-datasets/mnist.npz\n",
            "11493376/11490434 [==============================] - 0s 0us/step\n"
          ],
          "name": "stdout"
        },
        {
          "output_type": "execute_result",
          "data": {
            "text/plain": [
              "((60000, 784), (10000, 784))"
            ]
          },
          "metadata": {
            "tags": []
          },
          "execution_count": 2
        }
      ]
    },
    {
      "cell_type": "code",
      "metadata": {
        "colab_type": "code",
        "id": "VfxbMKl04o3l",
        "colab": {}
      },
      "source": [
        "from tensorflow.keras.layers import Input, Dense\n",
        "\n",
        "# Girdi boyutu (784,) olacak (tek bir örnek için)\n",
        "# Bu yüzden tek bir örneğin boyutunu vermem yeterli\n",
        "i = Input(shape = x_train[0].shape)\n",
        "# Encode işleminin yapıldığı katmanları görebiliyorsunuz,\n",
        "# Gönderilen görseli daha az veriyle ifade ediyor (64, 128)\n",
        "# 128 olan encode katmanının çıktsını keyfinizce düzenleyip daha az veriye sıkıştırmayı öğretmeyi de deneyebilirsiniz\n",
        "encode_dims = 32 # Bunu küçültüp daha az veriye sıkıştırabilirsiniz (yalnızca çift sayı girin ki en aşağıda görselleştirme yaparken sıkıntı çıkmasın :D)\n",
        "encode = Dense(64)(i)\n",
        "encode = Dense(64)(encode)\n",
        "encode = Dense(encode_dims)(encode) # Son sıkıştırmayı burada yapıyor\n",
        "\n",
        "# artık sıkıştırmayı tersine çevirip görseli tekrar oluşturma zamanı\n",
        "decode = Dense(128)(encode)\n",
        "# Gitgide çıktı boyutunu arttırarak en sonunda verilen görselle aynı olmasını sağlıyorum\n",
        "decode = Dense(28*14)(decode) # Girdi boyutu 784 idi, bende yavaş yavaş ona yaklaşıyorum\n",
        "# burada x_train[0].shape = (784,) ve x_train[0].shape[0] = 784 olduğundan girdiyle aynı boyutta bir çıktı veriyor en sonunda\n",
        "o = Dense(x_train[0].shape[0])(decode) \n",
        "\n",
        "# şimdi bu modeli oluşturabiliriz\n",
        "model = tf.keras.models.Model(i, o)\n",
        "\n",
        "\n",
        "# gradient descent uygulayacak optimizer fonksiyonumuz 'adam'\n",
        "# modelin yaptıklarıyla arasındaki farkı ölçecek olan şey MSE (Mean Squared Error) fonksiyonu\n",
        "# tek tek her bir pikselin arasındaki değer farkının karesini alıp toplar.\n",
        "# Bu toplamın ortalamasını hata skoru olarak gösterecek\n",
        "# MAE de (Mean Absolute Error) aralarındaki farkları mutlak değerce toplayıp ortalamasını alarak kullanır.\n",
        "model.compile(optimizer = 'adam',\n",
        "              loss = 'mse', # model bu fonksiyon ile optimize ediliyor\n",
        "              metrics = ['mae']) # ama ekstra olarak bunu da gösterecek"
      ],
      "execution_count": null,
      "outputs": []
    },
    {
      "cell_type": "code",
      "metadata": {
        "colab_type": "code",
        "id": "DwE2bBT27Hnl",
        "colab": {
          "base_uri": "https://localhost:8080/",
          "height": 697
        },
        "outputId": "15b0696e-5455-466f-d3f6-ab71a3b33d89"
      },
      "source": [
        "# artık eğitelim :D\n",
        "# batch_size burada verinin kaçlı gruplar halinde işleneceğini gösteriyor\n",
        "# yani eğer 64 ise elimizdeki toplam veriyi 64'e bölecek.\n",
        "# Bu durumda mesela antrenman için elimizde 60000 örnek vardı\n",
        "# eğer batch_size = 64 olursa veri 64 adet eşit miktarda görsel içeren gruba ayrılacak\n",
        "# Bu durumda 60000/64 yaklaşık olarak 938 olduğu için her bir adımda (epoch) 938 adet görselden oluşan 64 tane grup işleyecek\n",
        "# toplamda 20 adımdan sonra antrenman duracak, epochs parametresi bunu belirtiyor.\n",
        "# fotoğrafı önce şifreleyip sonra eski haline geri döndürmeyi öğretmeye çalışıyoruz, bu yüzden\n",
        "# modelden beklediğimiz çıktı da ona giren fotoğrafla aynı olacak. \n",
        "# O yüzden hedefimiz yani Y de modele gönderdiğimiz fotoğraflar yani X oluyor.\n",
        "\n",
        "# validation verisi modeli eğitim esnasında test verisinde test ediyor\n",
        "r = model.fit(x_train, x_train, validation_data = (x_test, x_test),\n",
        "              batch_size = 64, epochs = 20)"
      ],
      "execution_count": null,
      "outputs": [
        {
          "output_type": "stream",
          "text": [
            "Epoch 1/20\n",
            "938/938 [==============================] - 8s 8ms/step - loss: 0.0221 - mae: 0.0831 - val_loss: 0.0175 - val_mae: 0.0734\n",
            "Epoch 2/20\n",
            "938/938 [==============================] - 8s 8ms/step - loss: 0.0177 - mae: 0.0737 - val_loss: 0.0172 - val_mae: 0.0722\n",
            "Epoch 3/20\n",
            "938/938 [==============================] - 8s 9ms/step - loss: 0.0176 - mae: 0.0729 - val_loss: 0.0171 - val_mae: 0.0717\n",
            "Epoch 4/20\n",
            "938/938 [==============================] - 8s 8ms/step - loss: 0.0176 - mae: 0.0726 - val_loss: 0.0171 - val_mae: 0.0716\n",
            "Epoch 5/20\n",
            "938/938 [==============================] - 7s 8ms/step - loss: 0.0175 - mae: 0.0724 - val_loss: 0.0171 - val_mae: 0.0713\n",
            "Epoch 6/20\n",
            "938/938 [==============================] - 8s 8ms/step - loss: 0.0175 - mae: 0.0723 - val_loss: 0.0170 - val_mae: 0.0711\n",
            "Epoch 7/20\n",
            "938/938 [==============================] - 8s 8ms/step - loss: 0.0175 - mae: 0.0722 - val_loss: 0.0171 - val_mae: 0.0715\n",
            "Epoch 8/20\n",
            "938/938 [==============================] - 8s 8ms/step - loss: 0.0175 - mae: 0.0721 - val_loss: 0.0170 - val_mae: 0.0714\n",
            "Epoch 9/20\n",
            "938/938 [==============================] - 7s 8ms/step - loss: 0.0175 - mae: 0.0720 - val_loss: 0.0170 - val_mae: 0.0710\n",
            "Epoch 10/20\n",
            "938/938 [==============================] - 8s 8ms/step - loss: 0.0175 - mae: 0.0719 - val_loss: 0.0170 - val_mae: 0.0712\n",
            "Epoch 11/20\n",
            "938/938 [==============================] - 7s 8ms/step - loss: 0.0175 - mae: 0.0719 - val_loss: 0.0170 - val_mae: 0.0714\n",
            "Epoch 12/20\n",
            "938/938 [==============================] - 8s 8ms/step - loss: 0.0175 - mae: 0.0719 - val_loss: 0.0171 - val_mae: 0.0712\n",
            "Epoch 13/20\n",
            "938/938 [==============================] - 7s 8ms/step - loss: 0.0175 - mae: 0.0718 - val_loss: 0.0170 - val_mae: 0.0711\n",
            "Epoch 14/20\n",
            "938/938 [==============================] - 7s 8ms/step - loss: 0.0174 - mae: 0.0718 - val_loss: 0.0170 - val_mae: 0.0709\n",
            "Epoch 15/20\n",
            "938/938 [==============================] - 7s 8ms/step - loss: 0.0174 - mae: 0.0717 - val_loss: 0.0170 - val_mae: 0.0709\n",
            "Epoch 16/20\n",
            "938/938 [==============================] - 7s 8ms/step - loss: 0.0174 - mae: 0.0717 - val_loss: 0.0170 - val_mae: 0.0710\n",
            "Epoch 17/20\n",
            "938/938 [==============================] - 7s 8ms/step - loss: 0.0174 - mae: 0.0717 - val_loss: 0.0170 - val_mae: 0.0708\n",
            "Epoch 18/20\n",
            "938/938 [==============================] - 7s 8ms/step - loss: 0.0174 - mae: 0.0716 - val_loss: 0.0170 - val_mae: 0.0709\n",
            "Epoch 19/20\n",
            "938/938 [==============================] - 7s 8ms/step - loss: 0.0174 - mae: 0.0716 - val_loss: 0.0170 - val_mae: 0.0709\n",
            "Epoch 20/20\n",
            "938/938 [==============================] - 7s 8ms/step - loss: 0.0174 - mae: 0.0716 - val_loss: 0.0170 - val_mae: 0.0708\n"
          ],
          "name": "stdout"
        }
      ]
    },
    {
      "cell_type": "code",
      "metadata": {
        "id": "uQwohKbrT8NU",
        "colab_type": "code",
        "colab": {
          "base_uri": "https://localhost:8080/",
          "height": 281
        },
        "outputId": "818e591e-9335-4ea7-8250-6d53ade5dd7c"
      },
      "source": [
        "# Modelin antrenman skorlarını grafiğe dökelim\n",
        "# model.fit fonksiyonu History denilen bir obje döndürüyor\n",
        "# bunun içinde de history adında bir dict var, bunun sayesinde eğitimde hesaplanan hata skoru veya MAE skoru gibi şeylere erişebiliyorum\n",
        "plt.title('Hata fonksiyonunun grafiği')\n",
        "plt.plot(r.history['loss'], label = 'loss')\n",
        "plt.plot(r.history['val_loss'], label = 'val_loss')\n",
        "plt.show()\n",
        "\n",
        "# Burada grafikten çıkarabileceğimiz en önemli çıkarım model eğitiminin oldukça başarılı olduğu ve 5. adımdan sonra gelişmenin neredeyse durduğu\n",
        "# Yani 5 epoch ile eğitmekte yeterli olacaktır bu durumda. (bunu da değiştirip tekrar eğitmeyi deneyin)\n",
        "# MAE değerlerini grafiğe dökmek pek anlamlı değil, o yüzden onunla uğraşmıyorum."
      ],
      "execution_count": null,
      "outputs": [
        {
          "output_type": "display_data",
          "data": {
            "image/png": "[encoded data removed]",
            "text/plain": [
              "<Figure size 432x288 with 1 Axes>"
            ]
          },
          "metadata": {
            "tags": [],
            "needs_background": "light"
          }
        }
      ]
    },
    {
      "cell_type": "code",
      "metadata": {
        "colab_type": "code",
        "id": "KLogvQVO8yrS",
        "colab": {
          "base_uri": "https://localhost:8080/",
          "height": 136
        },
        "outputId": "2def099a-eb84-436b-c12d-d8503b75e639"
      },
      "source": [
        "# Modelin katmanları bunlar, girdi (Input) katmanı dahil olmak üzere ilk 4 tanesi şifrelemeyi sağlıyor\n",
        "# Son 3 tanesi de o şifreyi çözmeye çalışıyor\n",
        "model.layers "
      ],
      "execution_count": null,
      "outputs": [
        {
          "output_type": "execute_result",
          "data": {
            "text/plain": [
              "[<tensorflow.python.keras.engine.input_layer.InputLayer at 0x7fe88c4bf240>,\n",
              " <tensorflow.python.keras.layers.core.Dense at 0x7fe88c4bfef0>,\n",
              " <tensorflow.python.keras.layers.core.Dense at 0x7fe88c4bf898>,\n",
              " <tensorflow.python.keras.layers.core.Dense at 0x7fe88c4bf3c8>,\n",
              " <tensorflow.python.keras.layers.core.Dense at 0x7fe88c4bff60>,\n",
              " <tensorflow.python.keras.layers.core.Dense at 0x7fe88b3a83c8>,\n",
              " <tensorflow.python.keras.layers.core.Dense at 0x7fe88b3947b8>]"
            ]
          },
          "metadata": {
            "tags": []
          },
          "execution_count": 26
        }
      ]
    },
    {
      "cell_type": "code",
      "metadata": {
        "id": "7mg2sbc6am5e",
        "colab_type": "code",
        "colab": {}
      },
      "source": [
        "# burada yazdığım fonksiyon bir sayının orta çarpanını almamı sağlıyor, \n",
        "# genel projeyle bir alakası yok sadece grafikleri görmede kolaylık olsun diye yazıyorum\n",
        "def mid_multiplier(num):\n",
        "  multipliers = [i for i in range(1, num+1) if num%i == 0][::-1] # sayının çarpanlarını bulup büyükten küçüğe sıralıyorum\n",
        "  return multipliers[len(multipliers)//2 - 1]"
      ],
      "execution_count": null,
      "outputs": []
    },
    {
      "cell_type": "code",
      "metadata": {
        "colab_type": "code",
        "id": "SIGVRuER8dmm",
        "colab": {
          "base_uri": "https://localhost:8080/",
          "height": 749
        },
        "outputId": "284b89d2-95ea-4b64-d5bf-7dc5c7fab726"
      },
      "source": [
        "# Rastgele bir görsel alabilmek için rastgele indis almam gerekiyor.\n",
        "random_idx = np.random.randint(0, len(x_test)-1)\n",
        "\n",
        "# Artık indis olduğundan görseli alabilirim\n",
        "# veriyi modelden geçirirken bir grup (batch) halinde geçiriyoruz bu yüzden eğer tek bir fotoğraf geçirmek istiyorsam\n",
        "# onu tek bir fotoğraftan oluşan bir grup olarak göstermeliyim. Bunun için boyutlarını (1, 784) olacak şekilde düzenliyorum\n",
        "test_img = x_test[random_idx].reshape((1, 784))\n",
        "# Aldığımız veri normalde (784,) şeklindeydi, bunu göstermek istiyorsam 28x28 olacak şekilde tekrar düzenlemeliyim\n",
        "test_img_reshaped = test_img.reshape((28,28))\n",
        "# modele göndereceğim veri ile göstereceğim veri birbirinden farklı değişkenlerde depolanıyorlar, buna dikkat edelim :D\n",
        "\n",
        "# görseli görüntüleyelim\n",
        "plt.imshow(test_img_reshaped, cmap = 'gray')\n",
        "plt.show()\n",
        "# Şimdi ilk 4 katmanı kullanarak şifreleyelim\n",
        "data = model.layers[0](test_img)\n",
        "data = model.layers[1](data)\n",
        "data = model.layers[2](data)\n",
        "data = model.layers[3](data)\n",
        "print('Encode edilmiş (kodlanmış) görsel:')\n",
        "# ilk önce tensörden matrise çevirelim \n",
        "encoded_data = data.numpy()\n",
        "# Son şifreleme katmanının çıktısı encode_dims değişkeninde duruyor, bunu görüntülemek için yukarıda yazdığım fonksiyonu kullanıyorum\n",
        "n_col = mid_multiplier(encode_dims) # encode_dims sayısının ortanca çarpanını sütun sayısı olarak kullanacağım\n",
        "# eğer verinin n_rows*n_cols boyutlarında olması gerekiyorsa ve encode_dims sayısı n_col ile bölünebiliyorsa \n",
        "# n_rows yerine encode_dims/n_col kullanabilirim. \n",
        "encoded_data_shape = (int(encode_dims/n_col), n_col)\n",
        "encoded_img = data.numpy().reshape(encoded_data_shape)\n",
        "plt.imshow(encoded_img, cmap = 'gray')\n",
        "plt.show()\n",
        "print('Decode edilmiş (kodu çözülmüş) görsel:')\n",
        "# Şimdi kodlamayı tersine çevirip görseli tekrar oluşturmak için kalan 3 katmandan geçirelim\n",
        "for layer in model.layers[4:]:\n",
        "  data = layer(data)\n",
        "\n",
        "# İşlem tersine döndüğünde girdiyle aynı boyutta bir şey çıkacak, bu yüzden onu da boyutları 28x28 şekilde düzenliyorum (reshape ile)\n",
        "data = data.numpy().reshape((28,28))\n",
        "plt.imshow(data, cmap = 'gray')\n",
        "plt.show()"
      ],
      "execution_count": null,
      "outputs": [
        {
          "output_type": "display_data",
          "data": {
            "image/png": "[encoded data removed]",
            "text/plain": [
              "<Figure size 432x288 with 1 Axes>"
            ]
          },
          "metadata": {
            "tags": [],
            "needs_background": "light"
          }
        },
        {
          "output_type": "stream",
          "text": [
            "Encode edilmiş (kodlanmış) görsel:\n"
          ],
          "name": "stdout"
        },
        {
          "output_type": "display_data",
          "data": {
            "image/png": "[encoded data removed]",
            "text/plain": [
              "<Figure size 432x288 with 1 Axes>"
            ]
          },
          "metadata": {
            "tags": [],
            "needs_background": "light"
          }
        },
        {
          "output_type": "stream",
          "text": [
            "Decode edilmiş (kodu çözülmüş) görsel:\n"
          ],
          "name": "stdout"
        },
        {
          "output_type": "display_data",
          "data": {
            "image/png": "[encoded data removed]",
            "text/plain": [
              "<Figure size 432x288 with 1 Axes>"
            ]
          },
          "metadata": {
            "tags": [],
            "needs_background": "light"
          }
        }
      ]
    }
  ]
}