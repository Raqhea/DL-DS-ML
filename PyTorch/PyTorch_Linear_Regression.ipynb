{
  "nbformat": 4,
  "nbformat_minor": 0,
  "metadata": {
    "colab": {
      "name": "PyTorch Linear Regression.ipynb",
      "provenance": []
    },
    "kernelspec": {
      "name": "python3",
      "display_name": "Python 3"
    }
  },
  "cells": [
    {
      "cell_type": "code",
      "metadata": {
        "id": "4ic_y7yt2cCC",
        "colab_type": "code",
        "colab": {}
      },
      "source": [
        "import torch\n",
        "import torch.nn as nn\n",
        "import numpy as np\n",
        "import matplotlib.pyplot as plt\n"
      ],
      "execution_count": 1,
      "outputs": []
    },
    {
      "cell_type": "code",
      "metadata": {
        "id": "K2XGCmUu2tzz",
        "colab_type": "code",
        "colab": {
          "base_uri": "https://localhost:8080/",
          "height": 265
        },
        "outputId": "12545df8-a0f7-47a8-9028-8a7d8f79f379"
      },
      "source": [
        "# generate 20 data points\n",
        "N = 20\n",
        "\n",
        "# rnadom data on the x-axis in (-5,5)\n",
        "X = np.random.random(N)*10 - 5\n",
        "\n",
        "# a line plus some noise\n",
        "# we add gaussian noise with mean 1 and variance 0 because\n",
        "# MSE is roughly the same as the variance of a normally distributed \n",
        "# variable, so MSE should increase roughly by the variance of the noise\n",
        "# you're adding. If the noise has 0 variance, MSE shouldn't increase\n",
        "# too much even if we add some noise to the data. \n",
        "# you can see this demonstration in \n",
        "Y = .5 * X - 1 + np.random.randn(N)\n",
        "\n",
        "# plot synthetic data\n",
        "plt.scatter(X, Y);"
      ],
      "execution_count": 3,
      "outputs": [
        {
          "output_type": "display_data",
          "data": {
            "image/png": "[encoded data removed]",
            "text/plain": [
              "<Figure size 432x288 with 1 Axes>"
            ]
          },
          "metadata": {
            "tags": [],
            "needs_background": "light"
          }
        }
      ]
    },
    {
      "cell_type": "code",
      "metadata": {
        "id": "TGKBJqLQ4EtT",
        "colab_type": "code",
        "colab": {}
      },
      "source": [
        "# Create the linear regression model\n",
        "model = nn.Linear(1,1) # we have 1 input and 1 output"
      ],
      "execution_count": 12,
      "outputs": []
    },
    {
      "cell_type": "code",
      "metadata": {
        "id": "Xw__gbqa4TSw",
        "colab_type": "code",
        "colab": {}
      },
      "source": [
        "# Define loss and optimizer\n",
        "criterion = nn.MSELoss()\n",
        "optimizer = torch.optim.SGD(model.parameters(), lr = 0.1)"
      ],
      "execution_count": 13,
      "outputs": []
    },
    {
      "cell_type": "code",
      "metadata": {
        "id": "3hSzzuej4ZA3",
        "colab_type": "code",
        "colab": {}
      },
      "source": [
        "# In ML we want our data to be of shape (num_samples x num_dimensions)\n",
        "# So reshape the data\n",
        "X = X.reshape(N, 1)\n",
        "Y = Y.reshape(N, 1)"
      ],
      "execution_count": 6,
      "outputs": []
    },
    {
      "cell_type": "code",
      "metadata": {
        "id": "0yBhetRo4iJe",
        "colab_type": "code",
        "colab": {}
      },
      "source": [
        "# PyTorch uses float32 tensors by default\n",
        "# Numpy creates float64 matrices by default\n",
        "# so if we want to work on PyTorch, we should change the datatype\n",
        "inputs = torch.from_numpy(X.astype(np.float32))\n",
        "targets = torch.from_numpy(Y.astype(np.float32))"
      ],
      "execution_count": 8,
      "outputs": []
    },
    {
      "cell_type": "code",
      "metadata": {
        "id": "QQmhJ1LN4xwE",
        "colab_type": "code",
        "colab": {
          "base_uri": "https://localhost:8080/",
          "height": 34
        },
        "outputId": "953f45eb-f0df-46a9-b0a8-c3c6e1a3644b"
      },
      "source": [
        "print(type(inputs),type(targets))"
      ],
      "execution_count": 9,
      "outputs": [
        {
          "output_type": "stream",
          "text": [
            "<class 'torch.Tensor'> <class 'torch.Tensor'>\n"
          ],
          "name": "stdout"
        }
      ]
    },
    {
      "cell_type": "code",
      "metadata": {
        "id": "5ILzdQtv43Y8",
        "colab_type": "code",
        "colab": {
          "base_uri": "https://localhost:8080/",
          "height": 527
        },
        "outputId": "52d94484-eb56-4787-eb05-bb72a9fb749b"
      },
      "source": [
        "# Training part\n",
        "n_epochs = 30\n",
        "losses = [] # keep the losses to plot them later\n",
        "\n",
        "for _ in range(n_epochs):\n",
        "  # set parameter gradients zero\n",
        "  # Well this is kinda seems meanless but when you're doing\n",
        "  # back-propagation the automatic differentiation library that\n",
        "  # pytorch use (autograd) is just remembers how to compute \n",
        "  # the gradient for a given variable. Also it accumulates \n",
        "  # the calculated gradients over time so if you don't clear\n",
        "  # the calculated gradients, the gradient that calculated in previous\n",
        "  # step would interfere the gradient that autograd calculating in \n",
        "  # this step. So we're resetting the gradients on every step\n",
        "  # to prevent this \"accumulation\" of gradients\n",
        "  # source: https://discuss.pytorch.org/t/why-do-we-need-to-set-the-gradients-manually-to-zero-in-pytorch/4903\n",
        "  optimizer.zero_grad()\n",
        "\n",
        "  # Forward propagation\n",
        "  outputs = model(inputs) # calculate prediction | returns pytorch tensor\n",
        "  loss = criterion(outputs,targets) # calculate the loss | returns pytorch tensor\n",
        "\n",
        "  # keep the loss so we can plot it later\n",
        "  losses.append(loss.item())\n",
        "\n",
        "  # Backward propagation\n",
        "  loss.backward() # calculate gradients\n",
        "  optimizer.step() # optimize the step for doing gradient descent\n",
        "  \n",
        "  print(f\"Epoch {_+1}/{n_epochs}, Loss: {loss.item():.4f}\")\n"
      ],
      "execution_count": 14,
      "outputs": [
        {
          "output_type": "stream",
          "text": [
            "Epoch 1/30, Loss: 1.8219\n",
            "Epoch 2/30, Loss: 1.3848\n",
            "Epoch 3/30, Loss: 1.1184\n",
            "Epoch 4/30, Loss: 0.9555\n",
            "Epoch 5/30, Loss: 0.8555\n",
            "Epoch 6/30, Loss: 0.7939\n",
            "Epoch 7/30, Loss: 0.7558\n",
            "Epoch 8/30, Loss: 0.7322\n",
            "Epoch 9/30, Loss: 0.7176\n",
            "Epoch 10/30, Loss: 0.7084\n",
            "Epoch 11/30, Loss: 0.7027\n",
            "Epoch 12/30, Loss: 0.6992\n",
            "Epoch 13/30, Loss: 0.6969\n",
            "Epoch 14/30, Loss: 0.6955\n",
            "Epoch 15/30, Loss: 0.6946\n",
            "Epoch 16/30, Loss: 0.6941\n",
            "Epoch 17/30, Loss: 0.6937\n",
            "Epoch 18/30, Loss: 0.6935\n",
            "Epoch 19/30, Loss: 0.6933\n",
            "Epoch 20/30, Loss: 0.6932\n",
            "Epoch 21/30, Loss: 0.6932\n",
            "Epoch 22/30, Loss: 0.6932\n",
            "Epoch 23/30, Loss: 0.6931\n",
            "Epoch 24/30, Loss: 0.6931\n",
            "Epoch 25/30, Loss: 0.6931\n",
            "Epoch 26/30, Loss: 0.6931\n",
            "Epoch 27/30, Loss: 0.6931\n",
            "Epoch 28/30, Loss: 0.6931\n",
            "Epoch 29/30, Loss: 0.6931\n",
            "Epoch 30/30, Loss: 0.6931\n"
          ],
          "name": "stdout"
        }
      ]
    },
    {
      "cell_type": "code",
      "metadata": {
        "id": "ARrDU2jc8_5g",
        "colab_type": "code",
        "colab": {
          "base_uri": "https://localhost:8080/",
          "height": 265
        },
        "outputId": "723a521c-9283-4b6c-f9b5-dca05c7027e5"
      },
      "source": [
        "# plot the loss\n",
        "plt.plot(losses);"
      ],
      "execution_count": 16,
      "outputs": [
        {
          "output_type": "display_data",
          "data": {
            "image/png": "[encoded data removed]",
            "text/plain": [
              "<Figure size 432x288 with 1 Axes>"
            ]
          },
          "metadata": {
            "tags": [],
            "needs_background": "light"
          }
        }
      ]
    },
    {
      "cell_type": "code",
      "metadata": {
        "id": "TFGxaLUJ9IYi",
        "colab_type": "code",
        "colab": {
          "base_uri": "https://localhost:8080/",
          "height": 282
        },
        "outputId": "4b991218-588c-4f03-84ca-31e71d7f303e"
      },
      "source": [
        "# plot the graph with found line\n",
        "# when you initialize a tensor in pytorch, torch.Tensor class start tracking every operation on the initialized tensor\n",
        "# so if you want to convert the tensor to the numpy array, you should first detach the tensor from this tracking, then you can convert it to numpy array\n",
        "\n",
        "# TLDR; you can't call numpy() on variable that requires gradient calculation\n",
        "# because torch.Tensor class tracks the operations on that variable\n",
        "\n",
        "predicted = model(inputs).detach().numpy() \n",
        "plt.scatter(X,Y, label = 'Generated data')\n",
        "plt.plot(X, predicted, label = 'Fitted line')\n",
        "plt.legend()\n",
        "plt.plot()"
      ],
      "execution_count": 22,
      "outputs": [
        {
          "output_type": "execute_result",
          "data": {
            "text/plain": [
              "[]"
            ]
          },
          "metadata": {
            "tags": []
          },
          "execution_count": 22
        },
        {
          "output_type": "display_data",
          "data": {
            "image/png": "[encoded data removed]",
            "text/plain": [
              "<Figure size 432x288 with 1 Axes>"
            ]
          },
          "metadata": {
            "tags": [],
            "needs_background": "light"
          }
        }
      ]
    },
    {
      "cell_type": "code",
      "metadata": {
        "id": "bvqbMO9Y-YLB",
        "colab_type": "code",
        "colab": {
          "base_uri": "https://localhost:8080/",
          "height": 357
        },
        "outputId": "13c7846b-01e7-46e3-e6c6-9e202a0d0f66"
      },
      "source": [
        "# but we can also calculate predictions by simply not calculating gradients,\n",
        "# this will stop the tracking of operations so we now can call numpy()\n",
        "# to convert tensor to the numpy array\n",
        "\n",
        "with torch.no_grad():\n",
        "  out = model(inputs).numpy()\n",
        "out"
      ],
      "execution_count": 24,
      "outputs": [
        {
          "output_type": "execute_result",
          "data": {
            "text/plain": [
              "array([[ 1.6458799 ],\n",
              "       [-0.88608515],\n",
              "       [-4.108967  ],\n",
              "       [-0.57055116],\n",
              "       [-2.5732446 ],\n",
              "       [ 0.49692738],\n",
              "       [-3.795415  ],\n",
              "       [ 0.0207268 ],\n",
              "       [-1.2161112 ],\n",
              "       [ 0.8828567 ],\n",
              "       [ 1.8627638 ],\n",
              "       [-0.15648949],\n",
              "       [-1.4953457 ],\n",
              "       [-1.7953506 ],\n",
              "       [ 1.6728386 ],\n",
              "       [-1.0505748 ],\n",
              "       [-3.3614287 ],\n",
              "       [-2.6249132 ],\n",
              "       [-3.4930377 ],\n",
              "       [-1.5023557 ]], dtype=float32)"
            ]
          },
          "metadata": {
            "tags": []
          },
          "execution_count": 24
        }
      ]
    },
    {
      "cell_type": "code",
      "metadata": {
        "id": "jvakV4Ih-xix",
        "colab_type": "code",
        "colab": {
          "base_uri": "https://localhost:8080/",
          "height": 34
        },
        "outputId": "ed638c35-44a0-499b-b123-12d3e799134e"
      },
      "source": [
        "# In order to test the efficacy of the model,\n",
        "# synthetic data is useful because we already know the answers\n",
        "# True values for (w,b) are (.5, -1)\n",
        "# so let's check if the gradient descent found something close to these\n",
        "w = model.weight.data.numpy()\n",
        "b = model.bias.data.numpy()\n",
        "print(w,b)\n",
        "# we can say that the algorithm almost found the correct values"
      ],
      "execution_count": 25,
      "outputs": [
        {
          "output_type": "stream",
          "text": [
            "[[0.61137915]] [-1.1517528]\n"
          ],
          "name": "stdout"
        }
      ]
    }
  ]
}