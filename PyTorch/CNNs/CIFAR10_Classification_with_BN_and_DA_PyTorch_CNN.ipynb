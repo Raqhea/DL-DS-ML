{
  "nbformat": 4,
  "nbformat_minor": 0,
  "metadata": {
    "colab": {
      "name": "CIFAR10 Classification with BN and DA PyTorch CNN.ipynb",
      "provenance": [],
      "collapsed_sections": []
    },
    "kernelspec": {
      "name": "python3",
      "display_name": "Python 3"
    },
    "accelerator": "GPU",
    "widgets": {
      "application/vnd.jupyter.widget-state+json": {
        "f0d18b27168f43ef8ed03e629dff697f": {
          "model_module": "@jupyter-widgets/controls",
          "model_name": "HBoxModel",
          "state": {
            "_view_name": "HBoxView",
            "_dom_classes": [],
            "_model_name": "HBoxModel",
            "_view_module": "@jupyter-widgets/controls",
            "_model_module_version": "1.5.0",
            "_view_count": null,
            "_view_module_version": "1.5.0",
            "box_style": "",
            "layout": "IPY_MODEL_b2ffff4a34a0443582c0120611e7306e",
            "_model_module": "@jupyter-widgets/controls",
            "children": [
              "IPY_MODEL_045d4e717584491eb030bd1dd7c1ee61",
              "IPY_MODEL_9f3c97307c3240e7920267e1b40e2b90"
            ]
          }
        },
        "b2ffff4a34a0443582c0120611e7306e": {
          "model_module": "@jupyter-widgets/base",
          "model_name": "LayoutModel",
          "state": {
            "_view_name": "LayoutView",
            "grid_template_rows": null,
            "right": null,
            "justify_content": null,
            "_view_module": "@jupyter-widgets/base",
            "overflow": null,
            "_model_module_version": "1.2.0",
            "_view_count": null,
            "flex_flow": null,
            "width": null,
            "min_width": null,
            "border": null,
            "align_items": null,
            "bottom": null,
            "_model_module": "@jupyter-widgets/base",
            "top": null,
            "grid_column": null,
            "overflow_y": null,
            "overflow_x": null,
            "grid_auto_flow": null,
            "grid_area": null,
            "grid_template_columns": null,
            "flex": null,
            "_model_name": "LayoutModel",
            "justify_items": null,
            "grid_row": null,
            "max_height": null,
            "align_content": null,
            "visibility": null,
            "align_self": null,
            "height": null,
            "min_height": null,
            "padding": null,
            "grid_auto_rows": null,
            "grid_gap": null,
            "max_width": null,
            "order": null,
            "_view_module_version": "1.2.0",
            "grid_template_areas": null,
            "object_position": null,
            "object_fit": null,
            "grid_auto_columns": null,
            "margin": null,
            "display": null,
            "left": null
          }
        },
        "045d4e717584491eb030bd1dd7c1ee61": {
          "model_module": "@jupyter-widgets/controls",
          "model_name": "FloatProgressModel",
          "state": {
            "_view_name": "ProgressView",
            "style": "IPY_MODEL_25180c36e95f4131b84e467e4ab078ca",
            "_dom_classes": [],
            "description": "",
            "_model_name": "FloatProgressModel",
            "bar_style": "info",
            "max": 1,
            "_view_module": "@jupyter-widgets/controls",
            "_model_module_version": "1.5.0",
            "value": 1,
            "_view_count": null,
            "_view_module_version": "1.5.0",
            "orientation": "horizontal",
            "min": 0,
            "description_tooltip": null,
            "_model_module": "@jupyter-widgets/controls",
            "layout": "IPY_MODEL_f89c4eddb4c042bb99ea363d28de55f0"
          }
        },
        "9f3c97307c3240e7920267e1b40e2b90": {
          "model_module": "@jupyter-widgets/controls",
          "model_name": "HTMLModel",
          "state": {
            "_view_name": "HTMLView",
            "style": "IPY_MODEL_47a32e45f14e463882e5f39ced71bbea",
            "_dom_classes": [],
            "description": "",
            "_model_name": "HTMLModel",
            "placeholder": "​",
            "_view_module": "@jupyter-widgets/controls",
            "_model_module_version": "1.5.0",
            "value": " 170500096/? [00:20&lt;00:00, 84167920.88it/s]",
            "_view_count": null,
            "_view_module_version": "1.5.0",
            "description_tooltip": null,
            "_model_module": "@jupyter-widgets/controls",
            "layout": "IPY_MODEL_b0d4c524ec044fb7a458c37eb5a87a85"
          }
        },
        "25180c36e95f4131b84e467e4ab078ca": {
          "model_module": "@jupyter-widgets/controls",
          "model_name": "ProgressStyleModel",
          "state": {
            "_view_name": "StyleView",
            "_model_name": "ProgressStyleModel",
            "description_width": "initial",
            "_view_module": "@jupyter-widgets/base",
            "_model_module_version": "1.5.0",
            "_view_count": null,
            "_view_module_version": "1.2.0",
            "bar_color": null,
            "_model_module": "@jupyter-widgets/controls"
          }
        },
        "f89c4eddb4c042bb99ea363d28de55f0": {
          "model_module": "@jupyter-widgets/base",
          "model_name": "LayoutModel",
          "state": {
            "_view_name": "LayoutView",
            "grid_template_rows": null,
            "right": null,
            "justify_content": null,
            "_view_module": "@jupyter-widgets/base",
            "overflow": null,
            "_model_module_version": "1.2.0",
            "_view_count": null,
            "flex_flow": null,
            "width": null,
            "min_width": null,
            "border": null,
            "align_items": null,
            "bottom": null,
            "_model_module": "@jupyter-widgets/base",
            "top": null,
            "grid_column": null,
            "overflow_y": null,
            "overflow_x": null,
            "grid_auto_flow": null,
            "grid_area": null,
            "grid_template_columns": null,
            "flex": null,
            "_model_name": "LayoutModel",
            "justify_items": null,
            "grid_row": null,
            "max_height": null,
            "align_content": null,
            "visibility": null,
            "align_self": null,
            "height": null,
            "min_height": null,
            "padding": null,
            "grid_auto_rows": null,
            "grid_gap": null,
            "max_width": null,
            "order": null,
            "_view_module_version": "1.2.0",
            "grid_template_areas": null,
            "object_position": null,
            "object_fit": null,
            "grid_auto_columns": null,
            "margin": null,
            "display": null,
            "left": null
          }
        },
        "47a32e45f14e463882e5f39ced71bbea": {
          "model_module": "@jupyter-widgets/controls",
          "model_name": "DescriptionStyleModel",
          "state": {
            "_view_name": "StyleView",
            "_model_name": "DescriptionStyleModel",
            "description_width": "",
            "_view_module": "@jupyter-widgets/base",
            "_model_module_version": "1.5.0",
            "_view_count": null,
            "_view_module_version": "1.2.0",
            "_model_module": "@jupyter-widgets/controls"
          }
        },
        "b0d4c524ec044fb7a458c37eb5a87a85": {
          "model_module": "@jupyter-widgets/base",
          "model_name": "LayoutModel",
          "state": {
            "_view_name": "LayoutView",
            "grid_template_rows": null,
            "right": null,
            "justify_content": null,
            "_view_module": "@jupyter-widgets/base",
            "overflow": null,
            "_model_module_version": "1.2.0",
            "_view_count": null,
            "flex_flow": null,
            "width": null,
            "min_width": null,
            "border": null,
            "align_items": null,
            "bottom": null,
            "_model_module": "@jupyter-widgets/base",
            "top": null,
            "grid_column": null,
            "overflow_y": null,
            "overflow_x": null,
            "grid_auto_flow": null,
            "grid_area": null,
            "grid_template_columns": null,
            "flex": null,
            "_model_name": "LayoutModel",
            "justify_items": null,
            "grid_row": null,
            "max_height": null,
            "align_content": null,
            "visibility": null,
            "align_self": null,
            "height": null,
            "min_height": null,
            "padding": null,
            "grid_auto_rows": null,
            "grid_gap": null,
            "max_width": null,
            "order": null,
            "_view_module_version": "1.2.0",
            "grid_template_areas": null,
            "object_position": null,
            "object_fit": null,
            "grid_auto_columns": null,
            "margin": null,
            "display": null,
            "left": null
          }
        }
      }
    }
  },
  "cells": [
    {
      "cell_type": "code",
      "metadata": {
        "id": "r95sVQYPWbuS",
        "colab_type": "code",
        "colab": {}
      },
      "source": [
        "import torch\n",
        "import torch.nn as nn\n",
        "import torchvision\n",
        "import torchvision.transforms as transforms\n",
        "import torch.nn.functional as F\n",
        "import numpy as np\n",
        "import matplotlib.pyplot as plt\n",
        "import plotly.express as px\n",
        "import plotly.graph_objects as go\n",
        "import time"
      ],
      "execution_count": 1,
      "outputs": []
    },
    {
      "cell_type": "code",
      "metadata": {
        "id": "EWwUaE_bWsaY",
        "colab_type": "code",
        "colab": {
          "base_uri": "https://localhost:8080/",
          "height": 100,
          "referenced_widgets": [
            "f0d18b27168f43ef8ed03e629dff697f",
            "b2ffff4a34a0443582c0120611e7306e",
            "045d4e717584491eb030bd1dd7c1ee61",
            "9f3c97307c3240e7920267e1b40e2b90",
            "25180c36e95f4131b84e467e4ab078ca",
            "f89c4eddb4c042bb99ea363d28de55f0",
            "47a32e45f14e463882e5f39ced71bbea",
            "b0d4c524ec044fb7a458c37eb5a87a85"
          ]
        },
        "outputId": "9d22f56e-3dde-4663-8334-54469dc87ecd"
      },
      "source": [
        "# Data augmentation\n",
        "transformations = torchvision.transforms.Compose([\n",
        "  torchvision.transforms.ColorJitter(brightness = .2, contrast = .2, saturation = .2, hue = .15),\n",
        "  torchvision.transforms.RandomCrop(32, padding = 4), # add padding to borders of the image and crop randomly, output size is 32x32 (like cifar10 images)\n",
        "  torchvision.transforms.RandomHorizontalFlip(p = .3),\n",
        "  torchvision.transforms.RandomAffine(0, translate = (.1,.1)),\n",
        "  torchvision.transforms.RandomPerspective(.3, .25),\n",
        "  torchvision.transforms.ToTensor()\n",
        "])\n",
        "\n",
        "train_ds = torchvision.datasets.CIFAR10(\".\", train = True, transform = transformations, download = True)\n",
        "test_ds = torchvision.datasets.CIFAR10(\".\", train = False, transform = transformations, download = True)\n",
        "\n",
        "K = len(train_ds.classes)\n",
        "batch_size = 128\n",
        "train_loader = torch.utils.data.DataLoader(train_ds, batch_size = batch_size, shuffle = True)\n",
        "test_loader = torch.utils.data.DataLoader(test_ds, batch_size = batch_size, shuffle = False)"
      ],
      "execution_count": 2,
      "outputs": [
        {
          "output_type": "stream",
          "text": [
            "Downloading https://www.cs.toronto.edu/~kriz/cifar-10-python.tar.gz to ./cifar-10-python.tar.gz\n"
          ],
          "name": "stdout"
        },
        {
          "output_type": "display_data",
          "data": {
            "application/vnd.jupyter.widget-view+json": {
              "model_id": "f0d18b27168f43ef8ed03e629dff697f",
              "version_minor": 0,
              "version_major": 2
            },
            "text/plain": [
              "HBox(children=(FloatProgress(value=1.0, bar_style='info', max=1.0), HTML(value='')))"
            ]
          },
          "metadata": {
            "tags": []
          }
        },
        {
          "output_type": "stream",
          "text": [
            "Extracting ./cifar-10-python.tar.gz to .\n",
            "Files already downloaded and verified\n"
          ],
          "name": "stdout"
        }
      ]
    },
    {
      "cell_type": "code",
      "metadata": {
        "id": "eocyc78vYT8O",
        "colab_type": "code",
        "colab": {}
      },
      "source": [
        "# define custom class\n",
        "\n",
        "class CNN(nn.Module):\n",
        "  def __init__(self, K):\n",
        "    super(CNN, self).__init__()\n",
        "    \n",
        "    # define the convolutional layers\n",
        "    self.conv1 = nn.Sequential(\n",
        "        nn.Conv2d(3, 32, kernel_size = 3, padding = 1),\n",
        "        nn.ReLU(),\n",
        "        nn.BatchNorm2d(32),\n",
        "\n",
        "        nn.Conv2d(32, 32, kernel_size = 3, padding = 1),\n",
        "        nn.ReLU(),\n",
        "        nn.BatchNorm2d(32),\n",
        "\n",
        "        nn.MaxPool2d(2),\n",
        "    )\n",
        "    self.conv2 = nn.Sequential(\n",
        "        nn.Conv2d(32, 64, kernel_size = 3, padding = 1),\n",
        "        nn.ReLU(),\n",
        "        nn.BatchNorm2d(64),\n",
        "\n",
        "        nn.Conv2d(64, 64, kernel_size = 3, padding = 1),\n",
        "        nn.ReLU(),\n",
        "        nn.BatchNorm2d(64),\n",
        "        \n",
        "        nn.MaxPool2d(2)\n",
        "    )\n",
        "    self.conv3 = nn.Sequential(\n",
        "        nn.Conv2d(64, 128, kernel_size = 3, padding = 1),\n",
        "        nn.ReLU(),\n",
        "        nn.BatchNorm2d(128),\n",
        "\n",
        "        nn.Conv2d(128, 128, kernel_size = 3, padding = 1),\n",
        "        nn.ReLU(),\n",
        "        nn.BatchNorm2d(128),\n",
        "        \n",
        "        nn.MaxPool2d(2)\n",
        "    )\n",
        "    # since H_out = H_in + 2p - 2. If we solve this for p, then for p=1 the result will be H_out = H_in. This means we can do \"same\" mode convolution \n",
        "    # if p=1\n",
        "\n",
        "    # so the image sizes are just reducing because of pooling. Therefore:\n",
        "    # 32x32 -> 16x16 -> 8x8 -> 4x4\n",
        "\n",
        "    self.fc_dropout = nn.Sequential(\n",
        "        nn.Dropout(.5),\n",
        "        nn.Linear(128 * 4 * 4, 1024),\n",
        "        nn.Dropout(.2),\n",
        "        nn.Linear(1024, K)\n",
        "    )\n",
        "  \n",
        "  def forward(self, x):\n",
        "    x = self.conv1(x)\n",
        "    x = self.conv2(x)\n",
        "    x = self.conv3(x)\n",
        "    x = x.view(x.size(0), -1) # flatten the image\n",
        "    x = self.fc_dropout(x)\n",
        "    return x"
      ],
      "execution_count": 3,
      "outputs": []
    },
    {
      "cell_type": "code",
      "metadata": {
        "id": "cFW5htllcZ9q",
        "colab_type": "code",
        "colab": {}
      },
      "source": [
        "cnn = CNN(K)"
      ],
      "execution_count": 4,
      "outputs": []
    },
    {
      "cell_type": "code",
      "metadata": {
        "id": "NPbj7s0AcCL4",
        "colab_type": "code",
        "colab": {
          "base_uri": "https://localhost:8080/",
          "height": 629
        },
        "outputId": "673da6f8-d0c2-41e0-b49f-178c5b833959"
      },
      "source": [
        "device = torch.device(\"cuda:0\" if torch.cuda.is_available() else \"cpu\")\n",
        "print(device)\n",
        "cnn.to(device)"
      ],
      "execution_count": 5,
      "outputs": [
        {
          "output_type": "stream",
          "text": [
            "cuda:0\n"
          ],
          "name": "stdout"
        },
        {
          "output_type": "execute_result",
          "data": {
            "text/plain": [
              "CNN(\n",
              "  (conv1): Sequential(\n",
              "    (0): Conv2d(3, 32, kernel_size=(3, 3), stride=(1, 1), padding=(1, 1))\n",
              "    (1): ReLU()\n",
              "    (2): BatchNorm2d(32, eps=1e-05, momentum=0.1, affine=True, track_running_stats=True)\n",
              "    (3): Conv2d(32, 32, kernel_size=(3, 3), stride=(1, 1), padding=(1, 1))\n",
              "    (4): ReLU()\n",
              "    (5): BatchNorm2d(32, eps=1e-05, momentum=0.1, affine=True, track_running_stats=True)\n",
              "    (6): MaxPool2d(kernel_size=2, stride=2, padding=0, dilation=1, ceil_mode=False)\n",
              "  )\n",
              "  (conv2): Sequential(\n",
              "    (0): Conv2d(32, 64, kernel_size=(3, 3), stride=(1, 1), padding=(1, 1))\n",
              "    (1): ReLU()\n",
              "    (2): BatchNorm2d(64, eps=1e-05, momentum=0.1, affine=True, track_running_stats=True)\n",
              "    (3): Conv2d(64, 64, kernel_size=(3, 3), stride=(1, 1), padding=(1, 1))\n",
              "    (4): ReLU()\n",
              "    (5): BatchNorm2d(64, eps=1e-05, momentum=0.1, affine=True, track_running_stats=True)\n",
              "    (6): MaxPool2d(kernel_size=2, stride=2, padding=0, dilation=1, ceil_mode=False)\n",
              "  )\n",
              "  (conv3): Sequential(\n",
              "    (0): Conv2d(64, 128, kernel_size=(3, 3), stride=(1, 1), padding=(1, 1))\n",
              "    (1): ReLU()\n",
              "    (2): BatchNorm2d(128, eps=1e-05, momentum=0.1, affine=True, track_running_stats=True)\n",
              "    (3): Conv2d(128, 128, kernel_size=(3, 3), stride=(1, 1), padding=(1, 1))\n",
              "    (4): ReLU()\n",
              "    (5): BatchNorm2d(128, eps=1e-05, momentum=0.1, affine=True, track_running_stats=True)\n",
              "    (6): MaxPool2d(kernel_size=2, stride=2, padding=0, dilation=1, ceil_mode=False)\n",
              "  )\n",
              "  (fc_dropout): Sequential(\n",
              "    (0): Dropout(p=0.5, inplace=False)\n",
              "    (1): Linear(in_features=2048, out_features=1024, bias=True)\n",
              "    (2): Dropout(p=0.2, inplace=False)\n",
              "    (3): Linear(in_features=1024, out_features=10, bias=True)\n",
              "  )\n",
              ")"
            ]
          },
          "metadata": {
            "tags": []
          },
          "execution_count": 5
        }
      ]
    },
    {
      "cell_type": "code",
      "metadata": {
        "id": "6fZ2ODHpdJji",
        "colab_type": "code",
        "colab": {}
      },
      "source": [
        "criterion = nn.CrossEntropyLoss()\n",
        "optimizer = torch.optim.Adam(cnn.parameters())"
      ],
      "execution_count": 6,
      "outputs": []
    },
    {
      "cell_type": "code",
      "metadata": {
        "id": "BOmCiodtcbFS",
        "colab_type": "code",
        "colab": {}
      },
      "source": [
        "# define prediction and training functions\n",
        "def batch_gd(model, criterion, optimizer, train_loader, test_loader, epochs):\n",
        "  \"\"\"\n",
        "  Apply batch gradient descent to given model and data.\n",
        "  Data must be DataLoader object\n",
        "  \"\"\"\n",
        "  \n",
        "  train_losses = np.zeros(epochs)\n",
        "  test_losses = np.zeros(epochs)\n",
        "\n",
        "  for i in range(epochs):\n",
        "    t0 = time.time()\n",
        "    train_loss = []\n",
        "    test_loss = []\n",
        "    for inputs, targets in train_loader:\n",
        "      inputs, targets = inputs.to(device), targets.to(device)\n",
        "      # we don't need to flatten the input since\n",
        "      # we use CNN's as first layers of our NN\n",
        "\n",
        "      # forward pass\n",
        "      outputs = model(inputs)\n",
        "      loss = criterion(outputs, targets)\n",
        "      # backward propagation\n",
        "      loss.backward()\n",
        "      optimizer.step()\n",
        "      optimizer.zero_grad()\n",
        "      # keep the loss\n",
        "      train_loss.append(loss.item())\n",
        "\n",
        "    # calculate the loss for training too\n",
        "    for inputs, targets in test_loader:\n",
        "      inputs, targets = inputs.to(device), targets.to(device)\n",
        "      outputs = model(inputs)\n",
        "      loss = criterion(outputs, targets)\n",
        "      test_loss.append(loss.item())\n",
        "    \n",
        "    # get the average loss for both train and test sets and keep them too\n",
        "    avg_train_loss = np.mean(train_loss)\n",
        "    avg_test_loss = np.mean(test_loss)\n",
        "    train_losses[i] = avg_train_loss\n",
        "    test_losses[i] = avg_test_loss\n",
        "\n",
        "    # calculate the time\n",
        "    t1 = time.time()\n",
        "\n",
        "    print(\"-\"*50)\n",
        "    print(f\"Epoch {i+1}/{epochs} took {t1-t0:.3f}s \\n avg_loss for train: {avg_train_loss:.4f} \\n avg_loss for test: {avg_test_loss:.4f}\")\n",
        "    print(\"-\"*50)\n",
        "\n",
        "  return train_loss, test_loss\n",
        "\n",
        "def validation_predict(model, data_loader, acc=True):\n",
        "  \"\"\"\n",
        "  Make predictions with given DataLoader object. \n",
        "  Return the predictions and accuracy(if acc=True) \n",
        "  \"\"\"\n",
        "  n_correct = 0\n",
        "  n_total = 0\n",
        "  predictions = np.array([])\n",
        "  with torch.no_grad():\n",
        "    for inputs, targets in data_loader:\n",
        "      # we're getting logits from model, so applying\n",
        "      # softmax would be enough\n",
        "\n",
        "      # pass the data to gpu\n",
        "      inputs, targets = inputs.to(device), targets.to(device)\n",
        "      outputs = model(inputs)\n",
        "\n",
        "      # return the index that has maximum value of a column\n",
        "      # this is almost same as applying softmax itself in our situation\n",
        "      _, preds = torch.max(outputs, 1)\n",
        "      if acc:\n",
        "        accuracy = (preds == targets).sum().item()\n",
        "        n_correct += accuracy\n",
        "        n_total += (targets.shape[0])\n",
        "      predictions = np.concatenate((predictions, preds.cpu().numpy()))\n",
        "\n",
        "  return [predictions,(n_correct/n_total)] if acc else predictions"
      ],
      "execution_count": 7,
      "outputs": []
    },
    {
      "cell_type": "code",
      "metadata": {
        "id": "ofsZ_r4l2tOA",
        "colab_type": "code",
        "colab": {
          "base_uri": "https://localhost:8080/",
          "height": 1000
        },
        "outputId": "424de168-2bc7-439f-ad61-d157123728da"
      },
      "source": [
        "n_epochs = 20\n",
        "train_loss, test_loss = batch_gd(cnn, criterion, optimizer, train_loader, test_loader, n_epochs)"
      ],
      "execution_count": 8,
      "outputs": [
        {
          "output_type": "stream",
          "text": [
            "--------------------------------------------------\n",
            "Epoch 1/20 took 42.524s \n",
            " avg_loss for train: 1.8636 \n",
            " avg_loss for test: 1.4158\n",
            "--------------------------------------------------\n",
            "--------------------------------------------------\n",
            "Epoch 2/20 took 42.444s \n",
            " avg_loss for train: 1.2667 \n",
            " avg_loss for test: 1.1604\n",
            "--------------------------------------------------\n",
            "--------------------------------------------------\n",
            "Epoch 3/20 took 42.235s \n",
            " avg_loss for train: 1.0563 \n",
            " avg_loss for test: 1.0426\n",
            "--------------------------------------------------\n",
            "--------------------------------------------------\n",
            "Epoch 4/20 took 42.405s \n",
            " avg_loss for train: 0.9358 \n",
            " avg_loss for test: 0.8858\n",
            "--------------------------------------------------\n",
            "--------------------------------------------------\n",
            "Epoch 5/20 took 42.366s \n",
            " avg_loss for train: 0.8478 \n",
            " avg_loss for test: 0.8197\n",
            "--------------------------------------------------\n",
            "--------------------------------------------------\n",
            "Epoch 6/20 took 42.662s \n",
            " avg_loss for train: 0.7875 \n",
            " avg_loss for test: 0.8069\n",
            "--------------------------------------------------\n",
            "--------------------------------------------------\n",
            "Epoch 7/20 took 42.574s \n",
            " avg_loss for train: 0.7349 \n",
            " avg_loss for test: 0.7571\n",
            "--------------------------------------------------\n",
            "--------------------------------------------------\n",
            "Epoch 8/20 took 43.047s \n",
            " avg_loss for train: 0.6920 \n",
            " avg_loss for test: 0.7362\n",
            "--------------------------------------------------\n",
            "--------------------------------------------------\n",
            "Epoch 9/20 took 42.782s \n",
            " avg_loss for train: 0.6577 \n",
            " avg_loss for test: 0.6636\n",
            "--------------------------------------------------\n",
            "--------------------------------------------------\n",
            "Epoch 10/20 took 42.974s \n",
            " avg_loss for train: 0.6257 \n",
            " avg_loss for test: 0.6684\n",
            "--------------------------------------------------\n",
            "--------------------------------------------------\n",
            "Epoch 11/20 took 43.043s \n",
            " avg_loss for train: 0.5998 \n",
            " avg_loss for test: 0.6449\n",
            "--------------------------------------------------\n",
            "--------------------------------------------------\n",
            "Epoch 12/20 took 42.879s \n",
            " avg_loss for train: 0.5792 \n",
            " avg_loss for test: 0.6206\n",
            "--------------------------------------------------\n",
            "--------------------------------------------------\n",
            "Epoch 13/20 took 43.340s \n",
            " avg_loss for train: 0.5598 \n",
            " avg_loss for test: 0.6099\n",
            "--------------------------------------------------\n",
            "--------------------------------------------------\n",
            "Epoch 14/20 took 43.188s \n",
            " avg_loss for train: 0.5487 \n",
            " avg_loss for test: 0.6057\n",
            "--------------------------------------------------\n",
            "--------------------------------------------------\n",
            "Epoch 15/20 took 43.600s \n",
            " avg_loss for train: 0.5334 \n",
            " avg_loss for test: 0.5822\n",
            "--------------------------------------------------\n",
            "--------------------------------------------------\n",
            "Epoch 16/20 took 43.295s \n",
            " avg_loss for train: 0.5155 \n",
            " avg_loss for test: 0.5990\n",
            "--------------------------------------------------\n",
            "--------------------------------------------------\n",
            "Epoch 17/20 took 43.515s \n",
            " avg_loss for train: 0.5014 \n",
            " avg_loss for test: 0.5816\n",
            "--------------------------------------------------\n",
            "--------------------------------------------------\n",
            "Epoch 18/20 took 43.423s \n",
            " avg_loss for train: 0.4923 \n",
            " avg_loss for test: 0.5793\n",
            "--------------------------------------------------\n",
            "--------------------------------------------------\n",
            "Epoch 19/20 took 43.680s \n",
            " avg_loss for train: 0.4905 \n",
            " avg_loss for test: 0.5605\n",
            "--------------------------------------------------\n",
            "--------------------------------------------------\n",
            "Epoch 20/20 took 43.486s \n",
            " avg_loss for train: 0.4713 \n",
            " avg_loss for test: 0.5592\n",
            "--------------------------------------------------\n"
          ],
          "name": "stdout"
        }
      ]
    },
    {
      "cell_type": "code",
      "metadata": {
        "id": "oT85-1XZ331e",
        "colab_type": "code",
        "colab": {
          "base_uri": "https://localhost:8080/",
          "height": 34
        },
        "outputId": "f24b8a81-ed3d-46f2-e57a-69163f8b58b3"
      },
      "source": [
        "# calculate the accuracy for train and test sets\n",
        "_, train_accuracy = validation_predict(cnn, train_loader)\n",
        "test_preds, test_accuracy = validation_predict(cnn, test_loader)\n",
        "print(f\"Train accuracy: {train_accuracy:.4f} | Test accuracy: {test_accuracy:.4f} \")"
      ],
      "execution_count": 9,
      "outputs": [
        {
          "output_type": "stream",
          "text": [
            "Train accuracy: 0.8439 | Test accuracy: 0.8089 \n"
          ],
          "name": "stdout"
        }
      ]
    },
    {
      "cell_type": "code",
      "metadata": {
        "id": "_WOnDRjE6XST",
        "colab_type": "code",
        "colab": {
          "base_uri": "https://localhost:8080/",
          "height": 542
        },
        "outputId": "1b52952c-bf18-4ee4-f441-87472a782e93"
      },
      "source": [
        "# now plot the losses again with plotly\n",
        "import plotly.graph_objects as go\n",
        "fig = go.Figure()\n",
        "fig.add_trace(go.Scatter(x=list(range(1,n_epochs+1)), y=train_loss, name='Train loss', mode = 'lines+markers'))\n",
        "fig.add_trace(go.Scatter(x=list(range(1,n_epochs+1)), y=test_loss, name='Test loss', mode = 'lines+markers'))\n",
        "fig.show()"
      ],
      "execution_count": 10,
      "outputs": [
        {
          "output_type": "display_data",
          "data": {
            "text/html": [
              "<html>\n",
              "<head><meta charset=\"utf-8\" /></head>\n",
              "<body>\n",
              "    <div>\n",
              "            <script src=\"https://cdnjs.cloudflare.com/ajax/libs/mathjax/2.7.5/MathJax.js?config=TeX-AMS-MML_SVG\"></script><script type=\"text/javascript\">if (window.MathJax) {MathJax.Hub.Config({SVG: {font: \"STIX-Web\"}});}</script>\n",
              "                <script type=\"text/javascript\">window.PlotlyConfig = {MathJaxConfig: 'local'};</script>\n",
              "        <script src=\"https://cdn.plot.ly/plotly-latest.min.js\"></script>    \n",
              "            <div id=\"f0b73a0e-e338-42c9-8e53-8c1acd4b31e4\" class=\"plotly-graph-div\" style=\"height:525px; width:100%;\"></div>\n",
              "            <script type=\"text/javascript\">\n",
              "                \n",
              "                    window.PLOTLYENV=window.PLOTLYENV || {};\n",
              "                    \n",
              "                if (document.getElementById(\"f0b73a0e-e338-42c9-8e53-8c1acd4b31e4\")) {\n",
              "                    Plotly.newPlot(\n",
              "                        'f0b73a0e-e338-42c9-8e53-8c1acd4b31e4',\n",
              "                        [{\"mode\": \"lines+markers\", \"name\": \"Train loss\", \"type\": \"scatter\", \"x\": [1, 2, 3, 4, 5, 6, 7, 8, 9, 10, 11, 12, 13, 14, 15, 16, 17, 18, 19, 20], \"y\": [0.4979284703731537, 0.4255650043487549, 0.6406735181808472, 0.44877365231513977, 0.5830403566360474, 0.4384317398071289, 0.46840688586235046, 0.4383571147918701, 0.43447452783584595, 0.49514085054397583, 0.4307165741920471, 0.48080122470855713, 0.4990255832672119, 0.5390248894691467, 0.4918210506439209, 0.5900125503540039, 0.41224467754364014, 0.6757171154022217, 0.4149205982685089, 0.5775404572486877, 0.508679986000061, 0.38950490951538086, 0.40182751417160034, 0.3690751791000366, 0.3665980100631714, 0.5573397874832153, 0.5203524231910706, 0.40447479486465454, 0.6778134107589722, 0.4869316518306732, 0.3790084719657898, 0.5052638053894043, 0.35223791003227234, 0.4453432857990265, 0.5447132587432861, 0.4779265522956848, 0.47809284925460815, 0.46325403451919556, 0.4626799523830414, 0.6460429430007935, 0.5323927402496338, 0.5036303400993347, 0.5246124863624573, 0.49405279755592346, 0.6048211455345154, 0.4779698848724365, 0.38795679807662964, 0.42351728677749634, 0.35642823576927185, 0.366666316986084, 0.4512452185153961, 0.48675060272216797, 0.45457449555397034, 0.4101181924343109, 0.44538724422454834, 0.4511530101299286, 0.5075663328170776, 0.41838720440864563, 0.5009703040122986, 0.4277206063270569, 0.4997663199901581, 0.33185839653015137, 0.5637543797492981, 0.5508763194084167, 0.3903238773345947, 0.4885154962539673, 0.5014533996582031, 0.4078933596611023, 0.5764328837394714, 0.43456900119781494, 0.43588876724243164, 0.5229465365409851, 0.47333621978759766, 0.6387867331504822, 0.4168970584869385, 0.4833012521266937, 0.5402441620826721, 0.4531515836715698, 0.41605591773986816, 0.4069491922855377, 0.4817933440208435, 0.3747446537017822, 0.497113436460495, 0.39884236454963684, 0.44192367792129517, 0.5956883430480957, 0.4704243242740631, 0.6043198704719543, 0.40670886635780334, 0.45579734444618225, 0.613110363483429, 0.6529584527015686, 0.36212944984436035, 0.445784330368042, 0.5364081859588623, 0.6052879095077515, 0.3339405953884125, 0.3143596649169922, 0.4209495484828949, 0.4158846437931061, 0.4124094843864441, 0.5833485722541809, 0.49139320850372314, 0.6190372705459595, 0.4460641145706177, 0.2925674319267273, 0.6006778478622437, 0.30296918749809265, 0.406075119972229, 0.46899107098579407, 0.5511237978935242, 0.4049767553806305, 0.3333848714828491, 0.49340832233428955, 0.569656491279602, 0.546297550201416, 0.45155394077301025, 0.43077003955841064, 0.647735595703125, 0.30671438574790955, 0.4888462722301483, 0.4362686276435852, 0.3440590798854828, 0.5147340297698975, 0.5504329204559326, 0.4228845238685608, 0.585625946521759, 0.6702975034713745, 0.6652820706367493, 0.4911627173423767, 0.4785681962966919, 0.386281818151474, 0.4852597415447235, 0.41622889041900635, 0.49414265155792236, 0.4319055378437042, 0.4242170453071594, 0.455789715051651, 0.4092579782009125, 0.44796115159988403, 0.4250863194465637, 0.4392104744911194, 0.40954476594924927, 0.43660926818847656, 0.3801616430282593, 0.403534859418869, 0.44665807485580444, 0.41675591468811035, 0.6726285219192505, 0.4421796500682831, 0.5837291479110718, 0.5923260450363159, 0.5741832852363586, 0.4864903688430786, 0.5289495587348938, 0.4068225622177124, 0.5875632166862488, 0.43701180815696716, 0.5422350168228149, 0.42679768800735474, 0.4529631435871124, 0.30358362197875977, 0.7422745227813721, 0.5459533929824829, 0.6505360007286072, 0.4536294937133789, 0.5361252427101135, 0.6349661946296692, 0.4409087896347046, 0.4757825434207916, 0.48936375975608826, 0.5593909621238708, 0.4981169104576111, 0.4984605014324188, 0.4213156998157501, 0.5442101955413818, 0.48844873905181885, 0.5181927680969238, 0.5079803466796875, 0.5635319948196411, 0.5074968338012695, 0.4181438088417053, 0.5383056998252869, 0.47925522923469543, 0.3925081193447113, 0.4434579610824585, 0.6116905808448792, 0.4499286115169525, 0.5501434206962585, 0.506424069404602, 0.39958757162094116, 0.4542030394077301, 0.4798402488231659, 0.37473252415657043, 0.5778051018714905, 0.3996560275554657, 0.5898470878601074, 0.4430483281612396, 0.49580085277557373, 0.5331737995147705, 0.6317263245582581, 0.49557924270629883, 0.5351610779762268, 0.40671440958976746, 0.44835472106933594, 0.5013636350631714, 0.4727816879749298, 0.5150685906410217, 0.5568394660949707, 0.3819429576396942, 0.6448914408683777, 0.5068535804748535, 0.5051708221435547, 0.61283278465271, 0.5218020677566528, 0.573230504989624, 0.4366399049758911, 0.4571390748023987, 0.5172290205955505, 0.43093401193618774, 0.5282184481620789, 0.3704206645488739, 0.40818142890930176, 0.45089465379714966, 0.4790523052215576, 0.4683082401752472, 0.5395437479019165, 0.4827103614807129, 0.5765522122383118, 0.397158682346344, 0.46317869424819946, 0.4982437789440155, 0.6403242945671082, 0.5529149174690247, 0.350886732339859, 0.28126290440559387, 0.5105112195014954, 0.43038976192474365, 0.4042161703109741, 0.4423987865447998, 0.4082247018814087, 0.45746222138404846, 0.45525357127189636, 0.3435582220554352, 0.551216721534729, 0.4582577049732208, 0.47504082322120667, 0.3776995539665222, 0.47356536984443665, 0.46589377522468567, 0.5486719608306885, 0.2983108162879944, 0.4659089148044586, 0.3372635841369629, 0.43156591057777405, 0.571397066116333, 0.5373218059539795, 0.5119854211807251, 0.4961271584033966, 0.37212875485420227, 0.4658716320991516, 0.4151451289653778, 0.505638599395752, 0.482991099357605, 0.4831582009792328, 0.45167478919029236, 0.4496538043022156, 0.5523915886878967, 0.45147159695625305, 0.5984362959861755, 0.4470627009868622, 0.4281766712665558, 0.5414533019065857, 0.4145154654979706, 0.48301932215690613, 0.35137492418289185, 0.40173226594924927, 0.4526967406272888, 0.6731472611427307, 0.5473936796188354, 0.36402976512908936, 0.42636704444885254, 0.5496978163719177, 0.5009957551956177, 0.5655587315559387, 0.46282047033309937, 0.4661417007446289, 0.4709405303001404, 0.4355456531047821, 0.42464911937713623, 0.4232342839241028, 0.40167638659477234, 0.3624573349952698, 0.35550767183303833, 0.44484925270080566, 0.5176933407783508, 0.3446787893772125, 0.4235655963420868, 0.528774619102478, 0.4933539927005768, 0.5001620054244995, 0.4454481899738312, 0.45691293478012085, 0.5291779041290283, 0.5321527123451233, 0.5054500699043274, 0.5636903047561646, 0.42849546670913696, 0.4695169925689697, 0.36815527081489563, 0.46671584248542786, 0.4682842195034027, 0.3856200575828552, 0.44341927766799927, 0.4693601131439209, 0.3785918056964874, 0.46844249963760376, 0.38839268684387207, 0.6647937297821045, 0.423721045255661, 0.6454173922538757, 0.5515127182006836, 0.3538106679916382, 0.3432216942310333, 0.5037674307823181, 0.5013753175735474, 0.426719069480896, 0.41590940952301025, 0.5912178158760071, 0.38882309198379517, 0.32405003905296326, 0.39109575748443604, 0.36800989508628845, 0.7677691578865051, 0.6580538153648376, 0.34015652537345886, 0.4227443337440491, 0.3338228464126587, 0.4014587998390198, 0.4293850064277649, 0.3531093895435333, 0.3615458905696869, 0.3814358413219452, 0.3957678973674774, 0.4478936493396759, 0.5838976502418518, 0.5100660920143127, 0.4439822733402252, 0.2987951934337616, 0.3546155095100403, 0.4605594873428345, 0.39939063787460327, 0.48769229650497437, 0.5141115188598633, 0.4530389606952667, 0.258683443069458, 0.44802871346473694, 0.43752554059028625, 0.49927741289138794, 0.48968344926834106, 0.3629813492298126, 0.4377431869506836, 0.28236162662506104, 0.5655195713043213, 0.3317577838897705, 0.2725490927696228, 0.49923694133758545, 0.4329525828361511, 0.40781810879707336, 0.5378786325454712, 0.3576618432998657, 0.2938750386238098, 0.30551981925964355, 0.49091488122940063, 0.5553544163703918, 0.4224886894226074, 0.47502222657203674, 0.5736108422279358, 0.5398404598236084, 0.37896329164505005, 0.40760862827301025, 0.5797389149665833, 0.5219326019287109, 0.5186232328414917, 0.6661149859428406, 0.4158801734447479, 0.5994826555252075, 0.45026952028274536, 0.4945502281188965, 0.4680984318256378, 0.34669971466064453]}, {\"mode\": \"lines+markers\", \"name\": \"Test loss\", \"type\": \"scatter\", \"x\": [1, 2, 3, 4, 5, 6, 7, 8, 9, 10, 11, 12, 13, 14, 15, 16, 17, 18, 19, 20], \"y\": [0.4861036539077759, 0.5982628464698792, 0.4736384451389313, 0.5511987805366516, 0.44396308064460754, 0.5477858781814575, 0.6787601709365845, 0.527204155921936, 0.5898365378379822, 0.5080821514129639, 0.45287665724754333, 0.5323419570922852, 0.5054543614387512, 0.6974376440048218, 0.5968766808509827, 0.6660215854644775, 0.5663195848464966, 0.6101632714271545, 0.7622961401939392, 0.8330585360527039, 0.6383247375488281, 0.6020193099975586, 0.5062081813812256, 0.7058016657829285, 0.5347982048988342, 0.6601929068565369, 0.6721960306167603, 0.5719478726387024, 0.6279794573783875, 0.47808972001075745, 0.3504660725593567, 0.6704998016357422, 0.5684698224067688, 0.4729638695716858, 0.5537272095680237, 0.5674290657043457, 0.4835895895957947, 0.5156692862510681, 0.6310166120529175, 0.4913964867591858, 0.6269198060035706, 0.5429016947746277, 0.6000730395317078, 0.5613574385643005, 0.5937497615814209, 0.6005540490150452, 0.5353984236717224, 0.4672691226005554, 0.5969766974449158, 0.38305506110191345, 0.6803568601608276, 0.4091213047504425, 0.547995388507843, 0.4798634350299835, 0.6273057460784912, 0.42751526832580566, 0.34984907507896423, 0.6214433908462524, 0.4032304883003235, 0.5982701778411865, 0.5539243817329407, 0.5462828278541565, 0.37109139561653137, 0.5670777559280396, 0.7664077281951904, 0.5465548634529114, 0.7719781398773193, 0.5560272932052612, 0.6135839223861694, 0.5058227777481079, 0.6086944341659546, 0.38726791739463806, 0.6140632629394531, 0.48840048909187317, 0.4069225788116455, 0.42955178022384644, 0.6628566980361938, 0.4971851706504822, 0.7009802460670471]}],\n",
              "                        {\"template\": {\"data\": {\"bar\": [{\"error_x\": {\"color\": \"#2a3f5f\"}, \"error_y\": {\"color\": \"#2a3f5f\"}, \"marker\": {\"line\": {\"color\": \"#E5ECF6\", \"width\": 0.5}}, \"type\": \"bar\"}], \"barpolar\": [{\"marker\": {\"line\": {\"color\": \"#E5ECF6\", \"width\": 0.5}}, \"type\": \"barpolar\"}], \"carpet\": [{\"aaxis\": {\"endlinecolor\": \"#2a3f5f\", \"gridcolor\": \"white\", \"linecolor\": \"white\", \"minorgridcolor\": \"white\", \"startlinecolor\": \"#2a3f5f\"}, \"baxis\": {\"endlinecolor\": \"#2a3f5f\", \"gridcolor\": \"white\", \"linecolor\": \"white\", \"minorgridcolor\": \"white\", \"startlinecolor\": \"#2a3f5f\"}, \"type\": \"carpet\"}], \"choropleth\": [{\"colorbar\": {\"outlinewidth\": 0, \"ticks\": \"\"}, \"type\": \"choropleth\"}], \"contour\": [{\"colorbar\": {\"outlinewidth\": 0, \"ticks\": \"\"}, \"colorscale\": [[0.0, \"#0d0887\"], [0.1111111111111111, \"#46039f\"], [0.2222222222222222, \"#7201a8\"], [0.3333333333333333, \"#9c179e\"], [0.4444444444444444, \"#bd3786\"], [0.5555555555555556, \"#d8576b\"], [0.6666666666666666, \"#ed7953\"], [0.7777777777777778, \"#fb9f3a\"], [0.8888888888888888, \"#fdca26\"], [1.0, \"#f0f921\"]], \"type\": \"contour\"}], \"contourcarpet\": [{\"colorbar\": {\"outlinewidth\": 0, \"ticks\": \"\"}, \"type\": \"contourcarpet\"}], \"heatmap\": [{\"colorbar\": {\"outlinewidth\": 0, \"ticks\": \"\"}, \"colorscale\": [[0.0, \"#0d0887\"], [0.1111111111111111, \"#46039f\"], [0.2222222222222222, \"#7201a8\"], [0.3333333333333333, \"#9c179e\"], [0.4444444444444444, \"#bd3786\"], [0.5555555555555556, \"#d8576b\"], [0.6666666666666666, \"#ed7953\"], [0.7777777777777778, \"#fb9f3a\"], [0.8888888888888888, \"#fdca26\"], [1.0, \"#f0f921\"]], \"type\": \"heatmap\"}], \"heatmapgl\": [{\"colorbar\": {\"outlinewidth\": 0, \"ticks\": \"\"}, \"colorscale\": [[0.0, \"#0d0887\"], [0.1111111111111111, \"#46039f\"], [0.2222222222222222, \"#7201a8\"], [0.3333333333333333, \"#9c179e\"], [0.4444444444444444, \"#bd3786\"], [0.5555555555555556, \"#d8576b\"], [0.6666666666666666, \"#ed7953\"], [0.7777777777777778, \"#fb9f3a\"], [0.8888888888888888, \"#fdca26\"], [1.0, \"#f0f921\"]], \"type\": \"heatmapgl\"}], \"histogram\": [{\"marker\": {\"colorbar\": {\"outlinewidth\": 0, \"ticks\": \"\"}}, \"type\": \"histogram\"}], \"histogram2d\": [{\"colorbar\": {\"outlinewidth\": 0, \"ticks\": \"\"}, \"colorscale\": [[0.0, \"#0d0887\"], [0.1111111111111111, \"#46039f\"], [0.2222222222222222, \"#7201a8\"], [0.3333333333333333, \"#9c179e\"], [0.4444444444444444, \"#bd3786\"], [0.5555555555555556, \"#d8576b\"], [0.6666666666666666, \"#ed7953\"], [0.7777777777777778, \"#fb9f3a\"], [0.8888888888888888, \"#fdca26\"], [1.0, \"#f0f921\"]], \"type\": \"histogram2d\"}], \"histogram2dcontour\": [{\"colorbar\": {\"outlinewidth\": 0, \"ticks\": \"\"}, \"colorscale\": [[0.0, \"#0d0887\"], [0.1111111111111111, \"#46039f\"], [0.2222222222222222, \"#7201a8\"], [0.3333333333333333, \"#9c179e\"], [0.4444444444444444, \"#bd3786\"], [0.5555555555555556, \"#d8576b\"], [0.6666666666666666, \"#ed7953\"], [0.7777777777777778, \"#fb9f3a\"], [0.8888888888888888, \"#fdca26\"], [1.0, \"#f0f921\"]], \"type\": \"histogram2dcontour\"}], \"mesh3d\": [{\"colorbar\": {\"outlinewidth\": 0, \"ticks\": \"\"}, \"type\": \"mesh3d\"}], \"parcoords\": [{\"line\": {\"colorbar\": {\"outlinewidth\": 0, \"ticks\": \"\"}}, \"type\": \"parcoords\"}], \"pie\": [{\"automargin\": true, \"type\": \"pie\"}], \"scatter\": [{\"marker\": {\"colorbar\": {\"outlinewidth\": 0, \"ticks\": \"\"}}, \"type\": \"scatter\"}], \"scatter3d\": [{\"line\": {\"colorbar\": {\"outlinewidth\": 0, \"ticks\": \"\"}}, \"marker\": {\"colorbar\": {\"outlinewidth\": 0, \"ticks\": \"\"}}, \"type\": \"scatter3d\"}], \"scattercarpet\": [{\"marker\": {\"colorbar\": {\"outlinewidth\": 0, \"ticks\": \"\"}}, \"type\": \"scattercarpet\"}], \"scattergeo\": [{\"marker\": {\"colorbar\": {\"outlinewidth\": 0, \"ticks\": \"\"}}, \"type\": \"scattergeo\"}], \"scattergl\": [{\"marker\": {\"colorbar\": {\"outlinewidth\": 0, \"ticks\": \"\"}}, \"type\": \"scattergl\"}], \"scattermapbox\": [{\"marker\": {\"colorbar\": {\"outlinewidth\": 0, \"ticks\": \"\"}}, \"type\": \"scattermapbox\"}], \"scatterpolar\": [{\"marker\": {\"colorbar\": {\"outlinewidth\": 0, \"ticks\": \"\"}}, \"type\": \"scatterpolar\"}], \"scatterpolargl\": [{\"marker\": {\"colorbar\": {\"outlinewidth\": 0, \"ticks\": \"\"}}, \"type\": \"scatterpolargl\"}], \"scatterternary\": [{\"marker\": {\"colorbar\": {\"outlinewidth\": 0, \"ticks\": \"\"}}, \"type\": \"scatterternary\"}], \"surface\": [{\"colorbar\": {\"outlinewidth\": 0, \"ticks\": \"\"}, \"colorscale\": [[0.0, \"#0d0887\"], [0.1111111111111111, \"#46039f\"], [0.2222222222222222, \"#7201a8\"], [0.3333333333333333, \"#9c179e\"], [0.4444444444444444, \"#bd3786\"], [0.5555555555555556, \"#d8576b\"], [0.6666666666666666, \"#ed7953\"], [0.7777777777777778, \"#fb9f3a\"], [0.8888888888888888, \"#fdca26\"], [1.0, \"#f0f921\"]], \"type\": \"surface\"}], \"table\": [{\"cells\": {\"fill\": {\"color\": \"#EBF0F8\"}, \"line\": {\"color\": \"white\"}}, \"header\": {\"fill\": {\"color\": \"#C8D4E3\"}, \"line\": {\"color\": \"white\"}}, \"type\": \"table\"}]}, \"layout\": {\"annotationdefaults\": {\"arrowcolor\": \"#2a3f5f\", \"arrowhead\": 0, \"arrowwidth\": 1}, \"coloraxis\": {\"colorbar\": {\"outlinewidth\": 0, \"ticks\": \"\"}}, \"colorscale\": {\"diverging\": [[0, \"#8e0152\"], [0.1, \"#c51b7d\"], [0.2, \"#de77ae\"], [0.3, \"#f1b6da\"], [0.4, \"#fde0ef\"], [0.5, \"#f7f7f7\"], [0.6, \"#e6f5d0\"], [0.7, \"#b8e186\"], [0.8, \"#7fbc41\"], [0.9, \"#4d9221\"], [1, \"#276419\"]], \"sequential\": [[0.0, \"#0d0887\"], [0.1111111111111111, \"#46039f\"], [0.2222222222222222, \"#7201a8\"], [0.3333333333333333, \"#9c179e\"], [0.4444444444444444, \"#bd3786\"], [0.5555555555555556, \"#d8576b\"], [0.6666666666666666, \"#ed7953\"], [0.7777777777777778, \"#fb9f3a\"], [0.8888888888888888, \"#fdca26\"], [1.0, \"#f0f921\"]], \"sequentialminus\": [[0.0, \"#0d0887\"], [0.1111111111111111, \"#46039f\"], [0.2222222222222222, \"#7201a8\"], [0.3333333333333333, \"#9c179e\"], [0.4444444444444444, \"#bd3786\"], [0.5555555555555556, \"#d8576b\"], [0.6666666666666666, \"#ed7953\"], [0.7777777777777778, \"#fb9f3a\"], [0.8888888888888888, \"#fdca26\"], [1.0, \"#f0f921\"]]}, \"colorway\": [\"#636efa\", \"#EF553B\", \"#00cc96\", \"#ab63fa\", \"#FFA15A\", \"#19d3f3\", \"#FF6692\", \"#B6E880\", \"#FF97FF\", \"#FECB52\"], \"font\": {\"color\": \"#2a3f5f\"}, \"geo\": {\"bgcolor\": \"white\", \"lakecolor\": \"white\", \"landcolor\": \"#E5ECF6\", \"showlakes\": true, \"showland\": true, \"subunitcolor\": \"white\"}, \"hoverlabel\": {\"align\": \"left\"}, \"hovermode\": \"closest\", \"mapbox\": {\"style\": \"light\"}, \"paper_bgcolor\": \"white\", \"plot_bgcolor\": \"#E5ECF6\", \"polar\": {\"angularaxis\": {\"gridcolor\": \"white\", \"linecolor\": \"white\", \"ticks\": \"\"}, \"bgcolor\": \"#E5ECF6\", \"radialaxis\": {\"gridcolor\": \"white\", \"linecolor\": \"white\", \"ticks\": \"\"}}, \"scene\": {\"xaxis\": {\"backgroundcolor\": \"#E5ECF6\", \"gridcolor\": \"white\", \"gridwidth\": 2, \"linecolor\": \"white\", \"showbackground\": true, \"ticks\": \"\", \"zerolinecolor\": \"white\"}, \"yaxis\": {\"backgroundcolor\": \"#E5ECF6\", \"gridcolor\": \"white\", \"gridwidth\": 2, \"linecolor\": \"white\", \"showbackground\": true, \"ticks\": \"\", \"zerolinecolor\": \"white\"}, \"zaxis\": {\"backgroundcolor\": \"#E5ECF6\", \"gridcolor\": \"white\", \"gridwidth\": 2, \"linecolor\": \"white\", \"showbackground\": true, \"ticks\": \"\", \"zerolinecolor\": \"white\"}}, \"shapedefaults\": {\"line\": {\"color\": \"#2a3f5f\"}}, \"ternary\": {\"aaxis\": {\"gridcolor\": \"white\", \"linecolor\": \"white\", \"ticks\": \"\"}, \"baxis\": {\"gridcolor\": \"white\", \"linecolor\": \"white\", \"ticks\": \"\"}, \"bgcolor\": \"#E5ECF6\", \"caxis\": {\"gridcolor\": \"white\", \"linecolor\": \"white\", \"ticks\": \"\"}}, \"title\": {\"x\": 0.05}, \"xaxis\": {\"automargin\": true, \"gridcolor\": \"white\", \"linecolor\": \"white\", \"ticks\": \"\", \"title\": {\"standoff\": 15}, \"zerolinecolor\": \"white\", \"zerolinewidth\": 2}, \"yaxis\": {\"automargin\": true, \"gridcolor\": \"white\", \"linecolor\": \"white\", \"ticks\": \"\", \"title\": {\"standoff\": 15}, \"zerolinecolor\": \"white\", \"zerolinewidth\": 2}}}},\n",
              "                        {\"responsive\": true}\n",
              "                    ).then(function(){\n",
              "                            \n",
              "var gd = document.getElementById('f0b73a0e-e338-42c9-8e53-8c1acd4b31e4');\n",
              "var x = new MutationObserver(function (mutations, observer) {{\n",
              "        var display = window.getComputedStyle(gd).display;\n",
              "        if (!display || display === 'none') {{\n",
              "            console.log([gd, 'removed!']);\n",
              "            Plotly.purge(gd);\n",
              "            observer.disconnect();\n",
              "        }}\n",
              "}});\n",
              "\n",
              "// Listen for the removal of the full notebook cells\n",
              "var notebookContainer = gd.closest('#notebook-container');\n",
              "if (notebookContainer) {{\n",
              "    x.observe(notebookContainer, {childList: true});\n",
              "}}\n",
              "\n",
              "// Listen for the clearing of the current output cell\n",
              "var outputEl = gd.closest('.output');\n",
              "if (outputEl) {{\n",
              "    x.observe(outputEl, {childList: true});\n",
              "}}\n",
              "\n",
              "                        })\n",
              "                };\n",
              "                \n",
              "            </script>\n",
              "        </div>\n",
              "</body>\n",
              "</html>"
            ]
          },
          "metadata": {
            "tags": []
          }
        }
      ]
    },
    {
      "cell_type": "code",
      "metadata": {
        "id": "EgiQSNhx85O-",
        "colab_type": "code",
        "colab": {
          "base_uri": "https://localhost:8080/",
          "height": 51
        },
        "outputId": "0430444a-7a29-4b82-ea43-2e68c8dd0386"
      },
      "source": [
        "test_preds = test_preds.astype(np.uint8)\n",
        "test_inputs = test_ds.data\n",
        "test_targets = np.array(test_ds.targets)\n",
        "misclassified_idx = np.where(test_preds != test_targets)[0]\n",
        "print(f\"Total misclassified image count is {len(misclassified_idx)}\")\n",
        "print(f\"{(len(misclassified_idx)/test_targets.shape[0]) * 100:.2f}% of the images are misclassified by the model.\")"
      ],
      "execution_count": 11,
      "outputs": [
        {
          "output_type": "stream",
          "text": [
            "Total misclassified image count is 1911\n",
            "19.11% of the images are misclassified by the model.\n"
          ],
          "name": "stdout"
        }
      ]
    },
    {
      "cell_type": "code",
      "metadata": {
        "id": "GuMaTSvp_r9V",
        "colab_type": "code",
        "colab": {
          "base_uri": "https://localhost:8080/",
          "height": 281
        },
        "outputId": "714fda9e-c938-4d9b-d912-4ea6880daef9"
      },
      "source": [
        "# plot a random example\n",
        "r = np.random.choice(misclassified_idx)\n",
        "plt.imshow(test_inputs[r].reshape(32,32,3), cmap = 'gray')\n",
        "plt.title(f\"True label: {test_ds.classes[test_targets[r]]} | Predicted: {test_ds.classes[test_preds[r]]}\")\n",
        "plt.show()"
      ],
      "execution_count": 12,
      "outputs": [
        {
          "output_type": "display_data",
          "data": {
            "image/png": "[encoded data removed]",
            "text/plain": [
              "<Figure size 432x288 with 1 Axes>"
            ]
          },
          "metadata": {
            "tags": [],
            "needs_background": "light"
          }
        }
      ]
    }
  ]
}