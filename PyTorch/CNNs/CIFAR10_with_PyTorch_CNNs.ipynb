{
  "nbformat": 4,
  "nbformat_minor": 0,
  "metadata": {
    "colab": {
      "name": "CIFAR10 with PyTorch CNNs.ipynb",
      "provenance": [],
      "collapsed_sections": []
    },
    "kernelspec": {
      "name": "python3",
      "display_name": "Python 3"
    },
    "accelerator": "GPU"
  },
  "cells": [
    {
      "cell_type": "code",
      "metadata": {
        "id": "C3wONf8PBh6M",
        "colab_type": "code",
        "colab": {}
      },
      "source": [
        "import torch\n",
        "import torch.nn as nn\n",
        "import torch.nn.functional as F\n",
        "import torchvision\n",
        "import torchvision.transforms as transforms\n",
        "import numpy as np\n",
        "import pandas as pd\n",
        "import matplotlib.pyplot as plt\n",
        "import plotly.express as px\n",
        "import plotly.graph_objects as go\n",
        "import time"
      ],
      "execution_count": 1,
      "outputs": []
    },
    {
      "cell_type": "code",
      "metadata": {
        "id": "b6j3KRdhBtLQ",
        "colab_type": "code",
        "colab": {
          "base_uri": "https://localhost:8080/",
          "height": 51
        },
        "outputId": "1de1a518-b29e-4c64-8970-70fe0a1e4b87"
      },
      "source": [
        "train_data = torchvision.datasets.CIFAR10('.', train = True, transform = transforms.ToTensor(), download = True)\n",
        "test_data = torchvision.datasets.CIFAR10('.', train = False, transform = transforms.ToTensor(), download = True)\n",
        "\n",
        "\n",
        "batch_size = 128\n",
        "train_loader = torch.utils.data.DataLoader(train_data, batch_size = batch_size, shuffle = True)\n",
        "test_loader = torch.utils.data.DataLoader(test_data, batch_size = batch_size, shuffle = False)"
      ],
      "execution_count": 2,
      "outputs": [
        {
          "output_type": "stream",
          "text": [
            "Files already downloaded and verified\n",
            "Files already downloaded and verified\n"
          ],
          "name": "stdout"
        }
      ]
    },
    {
      "cell_type": "code",
      "metadata": {
        "id": "j4_5s7LYCAm-",
        "colab_type": "code",
        "colab": {
          "base_uri": "https://localhost:8080/",
          "height": 34
        },
        "outputId": "bed9cff8-36d2-40b1-f111-6c900f6260ff"
      },
      "source": [
        "# images are in the shape of 32x32x3 (HxWxC) | C: color channels\n",
        "train_data.data.shape"
      ],
      "execution_count": 3,
      "outputs": [
        {
          "output_type": "execute_result",
          "data": {
            "text/plain": [
              "(50000, 32, 32, 3)"
            ]
          },
          "metadata": {
            "tags": []
          },
          "execution_count": 3
        }
      ]
    },
    {
      "cell_type": "code",
      "metadata": {
        "id": "SzjBBUlzJjaL",
        "colab_type": "code",
        "colab": {}
      },
      "source": [
        "# we have K=10 classes\n",
        "K = len(train_data.classes)"
      ],
      "execution_count": 4,
      "outputs": []
    },
    {
      "cell_type": "code",
      "metadata": {
        "id": "CQfYQTBWCZdJ",
        "colab_type": "code",
        "colab": {
          "base_uri": "https://localhost:8080/",
          "height": 542
        },
        "outputId": "983db359-2679-40e0-876d-d7ff696bb2f3"
      },
      "source": [
        "# class distribution\n",
        "class_count = []\n",
        "for c in range(len(train_data.classes)):\n",
        "  count = (np.array(train_data.targets) == c).sum()\n",
        "  class_count.append(count)\n",
        "\n",
        "px.bar(x=train_data.classes, y = class_count)"
      ],
      "execution_count": 5,
      "outputs": [
        {
          "output_type": "display_data",
          "data": {
            "text/html": [
              "<html>\n",
              "<head><meta charset=\"utf-8\" /></head>\n",
              "<body>\n",
              "    <div>\n",
              "            <script src=\"https://cdnjs.cloudflare.com/ajax/libs/mathjax/2.7.5/MathJax.js?config=TeX-AMS-MML_SVG\"></script><script type=\"text/javascript\">if (window.MathJax) {MathJax.Hub.Config({SVG: {font: \"STIX-Web\"}});}</script>\n",
              "                <script type=\"text/javascript\">window.PlotlyConfig = {MathJaxConfig: 'local'};</script>\n",
              "        <script src=\"https://cdn.plot.ly/plotly-latest.min.js\"></script>    \n",
              "            <div id=\"56fb72ff-a082-459f-a3f0-de64ff6108fc\" class=\"plotly-graph-div\" style=\"height:525px; width:100%;\"></div>\n",
              "            <script type=\"text/javascript\">\n",
              "                \n",
              "                    window.PLOTLYENV=window.PLOTLYENV || {};\n",
              "                    \n",
              "                if (document.getElementById(\"56fb72ff-a082-459f-a3f0-de64ff6108fc\")) {\n",
              "                    Plotly.newPlot(\n",
              "                        '56fb72ff-a082-459f-a3f0-de64ff6108fc',\n",
              "                        [{\"alignmentgroup\": \"True\", \"hoverlabel\": {\"namelength\": 0}, \"hovertemplate\": \"x=%{x}<br>y=%{y}\", \"legendgroup\": \"\", \"marker\": {\"color\": \"#636efa\"}, \"name\": \"\", \"offsetgroup\": \"\", \"orientation\": \"v\", \"showlegend\": false, \"textposition\": \"auto\", \"type\": \"bar\", \"x\": [\"airplane\", \"automobile\", \"bird\", \"cat\", \"deer\", \"dog\", \"frog\", \"horse\", \"ship\", \"truck\"], \"xaxis\": \"x\", \"y\": [5000, 5000, 5000, 5000, 5000, 5000, 5000, 5000, 5000, 5000], \"yaxis\": \"y\"}],\n",
              "                        {\"barmode\": \"relative\", \"legend\": {\"tracegroupgap\": 0}, \"margin\": {\"t\": 60}, \"template\": {\"data\": {\"bar\": [{\"error_x\": {\"color\": \"#2a3f5f\"}, \"error_y\": {\"color\": \"#2a3f5f\"}, \"marker\": {\"line\": {\"color\": \"#E5ECF6\", \"width\": 0.5}}, \"type\": \"bar\"}], \"barpolar\": [{\"marker\": {\"line\": {\"color\": \"#E5ECF6\", \"width\": 0.5}}, \"type\": \"barpolar\"}], \"carpet\": [{\"aaxis\": {\"endlinecolor\": \"#2a3f5f\", \"gridcolor\": \"white\", \"linecolor\": \"white\", \"minorgridcolor\": \"white\", \"startlinecolor\": \"#2a3f5f\"}, \"baxis\": {\"endlinecolor\": \"#2a3f5f\", \"gridcolor\": \"white\", \"linecolor\": \"white\", \"minorgridcolor\": \"white\", \"startlinecolor\": \"#2a3f5f\"}, \"type\": \"carpet\"}], \"choropleth\": [{\"colorbar\": {\"outlinewidth\": 0, \"ticks\": \"\"}, \"type\": \"choropleth\"}], \"contour\": [{\"colorbar\": {\"outlinewidth\": 0, \"ticks\": \"\"}, \"colorscale\": [[0.0, \"#0d0887\"], [0.1111111111111111, \"#46039f\"], [0.2222222222222222, \"#7201a8\"], [0.3333333333333333, \"#9c179e\"], [0.4444444444444444, \"#bd3786\"], [0.5555555555555556, \"#d8576b\"], [0.6666666666666666, \"#ed7953\"], [0.7777777777777778, \"#fb9f3a\"], [0.8888888888888888, \"#fdca26\"], [1.0, \"#f0f921\"]], \"type\": \"contour\"}], \"contourcarpet\": [{\"colorbar\": {\"outlinewidth\": 0, \"ticks\": \"\"}, \"type\": \"contourcarpet\"}], \"heatmap\": [{\"colorbar\": {\"outlinewidth\": 0, \"ticks\": \"\"}, \"colorscale\": [[0.0, \"#0d0887\"], [0.1111111111111111, \"#46039f\"], [0.2222222222222222, \"#7201a8\"], [0.3333333333333333, \"#9c179e\"], [0.4444444444444444, \"#bd3786\"], [0.5555555555555556, \"#d8576b\"], [0.6666666666666666, \"#ed7953\"], [0.7777777777777778, \"#fb9f3a\"], [0.8888888888888888, \"#fdca26\"], [1.0, \"#f0f921\"]], \"type\": \"heatmap\"}], \"heatmapgl\": [{\"colorbar\": {\"outlinewidth\": 0, \"ticks\": \"\"}, \"colorscale\": [[0.0, \"#0d0887\"], [0.1111111111111111, \"#46039f\"], [0.2222222222222222, \"#7201a8\"], [0.3333333333333333, \"#9c179e\"], [0.4444444444444444, \"#bd3786\"], [0.5555555555555556, \"#d8576b\"], [0.6666666666666666, \"#ed7953\"], [0.7777777777777778, \"#fb9f3a\"], [0.8888888888888888, \"#fdca26\"], [1.0, \"#f0f921\"]], \"type\": \"heatmapgl\"}], \"histogram\": [{\"marker\": {\"colorbar\": {\"outlinewidth\": 0, \"ticks\": \"\"}}, \"type\": \"histogram\"}], \"histogram2d\": [{\"colorbar\": {\"outlinewidth\": 0, \"ticks\": \"\"}, \"colorscale\": [[0.0, \"#0d0887\"], [0.1111111111111111, \"#46039f\"], [0.2222222222222222, \"#7201a8\"], [0.3333333333333333, \"#9c179e\"], [0.4444444444444444, \"#bd3786\"], [0.5555555555555556, \"#d8576b\"], [0.6666666666666666, \"#ed7953\"], [0.7777777777777778, \"#fb9f3a\"], [0.8888888888888888, \"#fdca26\"], [1.0, \"#f0f921\"]], \"type\": \"histogram2d\"}], \"histogram2dcontour\": [{\"colorbar\": {\"outlinewidth\": 0, \"ticks\": \"\"}, \"colorscale\": [[0.0, \"#0d0887\"], [0.1111111111111111, \"#46039f\"], [0.2222222222222222, \"#7201a8\"], [0.3333333333333333, \"#9c179e\"], [0.4444444444444444, \"#bd3786\"], [0.5555555555555556, \"#d8576b\"], [0.6666666666666666, \"#ed7953\"], [0.7777777777777778, \"#fb9f3a\"], [0.8888888888888888, \"#fdca26\"], [1.0, \"#f0f921\"]], \"type\": \"histogram2dcontour\"}], \"mesh3d\": [{\"colorbar\": {\"outlinewidth\": 0, \"ticks\": \"\"}, \"type\": \"mesh3d\"}], \"parcoords\": [{\"line\": {\"colorbar\": {\"outlinewidth\": 0, \"ticks\": \"\"}}, \"type\": \"parcoords\"}], \"pie\": [{\"automargin\": true, \"type\": \"pie\"}], \"scatter\": [{\"marker\": {\"colorbar\": {\"outlinewidth\": 0, \"ticks\": \"\"}}, \"type\": \"scatter\"}], \"scatter3d\": [{\"line\": {\"colorbar\": {\"outlinewidth\": 0, \"ticks\": \"\"}}, \"marker\": {\"colorbar\": {\"outlinewidth\": 0, \"ticks\": \"\"}}, \"type\": \"scatter3d\"}], \"scattercarpet\": [{\"marker\": {\"colorbar\": {\"outlinewidth\": 0, \"ticks\": \"\"}}, \"type\": \"scattercarpet\"}], \"scattergeo\": [{\"marker\": {\"colorbar\": {\"outlinewidth\": 0, \"ticks\": \"\"}}, \"type\": \"scattergeo\"}], \"scattergl\": [{\"marker\": {\"colorbar\": {\"outlinewidth\": 0, \"ticks\": \"\"}}, \"type\": \"scattergl\"}], \"scattermapbox\": [{\"marker\": {\"colorbar\": {\"outlinewidth\": 0, \"ticks\": \"\"}}, \"type\": \"scattermapbox\"}], \"scatterpolar\": [{\"marker\": {\"colorbar\": {\"outlinewidth\": 0, \"ticks\": \"\"}}, \"type\": \"scatterpolar\"}], \"scatterpolargl\": [{\"marker\": {\"colorbar\": {\"outlinewidth\": 0, \"ticks\": \"\"}}, \"type\": \"scatterpolargl\"}], \"scatterternary\": [{\"marker\": {\"colorbar\": {\"outlinewidth\": 0, \"ticks\": \"\"}}, \"type\": \"scatterternary\"}], \"surface\": [{\"colorbar\": {\"outlinewidth\": 0, \"ticks\": \"\"}, \"colorscale\": [[0.0, \"#0d0887\"], [0.1111111111111111, \"#46039f\"], [0.2222222222222222, \"#7201a8\"], [0.3333333333333333, \"#9c179e\"], [0.4444444444444444, \"#bd3786\"], [0.5555555555555556, \"#d8576b\"], [0.6666666666666666, \"#ed7953\"], [0.7777777777777778, \"#fb9f3a\"], [0.8888888888888888, \"#fdca26\"], [1.0, \"#f0f921\"]], \"type\": \"surface\"}], \"table\": [{\"cells\": {\"fill\": {\"color\": \"#EBF0F8\"}, \"line\": {\"color\": \"white\"}}, \"header\": {\"fill\": {\"color\": \"#C8D4E3\"}, \"line\": {\"color\": \"white\"}}, \"type\": \"table\"}]}, \"layout\": {\"annotationdefaults\": {\"arrowcolor\": \"#2a3f5f\", \"arrowhead\": 0, \"arrowwidth\": 1}, \"coloraxis\": {\"colorbar\": {\"outlinewidth\": 0, \"ticks\": \"\"}}, \"colorscale\": {\"diverging\": [[0, \"#8e0152\"], [0.1, \"#c51b7d\"], [0.2, \"#de77ae\"], [0.3, \"#f1b6da\"], [0.4, \"#fde0ef\"], [0.5, \"#f7f7f7\"], [0.6, \"#e6f5d0\"], [0.7, \"#b8e186\"], [0.8, \"#7fbc41\"], [0.9, \"#4d9221\"], [1, \"#276419\"]], \"sequential\": [[0.0, \"#0d0887\"], [0.1111111111111111, \"#46039f\"], [0.2222222222222222, \"#7201a8\"], [0.3333333333333333, \"#9c179e\"], [0.4444444444444444, \"#bd3786\"], [0.5555555555555556, \"#d8576b\"], [0.6666666666666666, \"#ed7953\"], [0.7777777777777778, \"#fb9f3a\"], [0.8888888888888888, \"#fdca26\"], [1.0, \"#f0f921\"]], \"sequentialminus\": [[0.0, \"#0d0887\"], [0.1111111111111111, \"#46039f\"], [0.2222222222222222, \"#7201a8\"], [0.3333333333333333, \"#9c179e\"], [0.4444444444444444, \"#bd3786\"], [0.5555555555555556, \"#d8576b\"], [0.6666666666666666, \"#ed7953\"], [0.7777777777777778, \"#fb9f3a\"], [0.8888888888888888, \"#fdca26\"], [1.0, \"#f0f921\"]]}, \"colorway\": [\"#636efa\", \"#EF553B\", \"#00cc96\", \"#ab63fa\", \"#FFA15A\", \"#19d3f3\", \"#FF6692\", \"#B6E880\", \"#FF97FF\", \"#FECB52\"], \"font\": {\"color\": \"#2a3f5f\"}, \"geo\": {\"bgcolor\": \"white\", \"lakecolor\": \"white\", \"landcolor\": \"#E5ECF6\", \"showlakes\": true, \"showland\": true, \"subunitcolor\": \"white\"}, \"hoverlabel\": {\"align\": \"left\"}, \"hovermode\": \"closest\", \"mapbox\": {\"style\": \"light\"}, \"paper_bgcolor\": \"white\", \"plot_bgcolor\": \"#E5ECF6\", \"polar\": {\"angularaxis\": {\"gridcolor\": \"white\", \"linecolor\": \"white\", \"ticks\": \"\"}, \"bgcolor\": \"#E5ECF6\", \"radialaxis\": {\"gridcolor\": \"white\", \"linecolor\": \"white\", \"ticks\": \"\"}}, \"scene\": {\"xaxis\": {\"backgroundcolor\": \"#E5ECF6\", \"gridcolor\": \"white\", \"gridwidth\": 2, \"linecolor\": \"white\", \"showbackground\": true, \"ticks\": \"\", \"zerolinecolor\": \"white\"}, \"yaxis\": {\"backgroundcolor\": \"#E5ECF6\", \"gridcolor\": \"white\", \"gridwidth\": 2, \"linecolor\": \"white\", \"showbackground\": true, \"ticks\": \"\", \"zerolinecolor\": \"white\"}, \"zaxis\": {\"backgroundcolor\": \"#E5ECF6\", \"gridcolor\": \"white\", \"gridwidth\": 2, \"linecolor\": \"white\", \"showbackground\": true, \"ticks\": \"\", \"zerolinecolor\": \"white\"}}, \"shapedefaults\": {\"line\": {\"color\": \"#2a3f5f\"}}, \"ternary\": {\"aaxis\": {\"gridcolor\": \"white\", \"linecolor\": \"white\", \"ticks\": \"\"}, \"baxis\": {\"gridcolor\": \"white\", \"linecolor\": \"white\", \"ticks\": \"\"}, \"bgcolor\": \"#E5ECF6\", \"caxis\": {\"gridcolor\": \"white\", \"linecolor\": \"white\", \"ticks\": \"\"}}, \"title\": {\"x\": 0.05}, \"xaxis\": {\"automargin\": true, \"gridcolor\": \"white\", \"linecolor\": \"white\", \"ticks\": \"\", \"title\": {\"standoff\": 15}, \"zerolinecolor\": \"white\", \"zerolinewidth\": 2}, \"yaxis\": {\"automargin\": true, \"gridcolor\": \"white\", \"linecolor\": \"white\", \"ticks\": \"\", \"title\": {\"standoff\": 15}, \"zerolinecolor\": \"white\", \"zerolinewidth\": 2}}}, \"xaxis\": {\"anchor\": \"y\", \"domain\": [0.0, 1.0], \"title\": {\"text\": \"x\"}}, \"yaxis\": {\"anchor\": \"x\", \"domain\": [0.0, 1.0], \"title\": {\"text\": \"y\"}}},\n",
              "                        {\"responsive\": true}\n",
              "                    ).then(function(){\n",
              "                            \n",
              "var gd = document.getElementById('56fb72ff-a082-459f-a3f0-de64ff6108fc');\n",
              "var x = new MutationObserver(function (mutations, observer) {{\n",
              "        var display = window.getComputedStyle(gd).display;\n",
              "        if (!display || display === 'none') {{\n",
              "            console.log([gd, 'removed!']);\n",
              "            Plotly.purge(gd);\n",
              "            observer.disconnect();\n",
              "        }}\n",
              "}});\n",
              "\n",
              "// Listen for the removal of the full notebook cells\n",
              "var notebookContainer = gd.closest('#notebook-container');\n",
              "if (notebookContainer) {{\n",
              "    x.observe(notebookContainer, {childList: true});\n",
              "}}\n",
              "\n",
              "// Listen for the clearing of the current output cell\n",
              "var outputEl = gd.closest('.output');\n",
              "if (outputEl) {{\n",
              "    x.observe(outputEl, {childList: true});\n",
              "}}\n",
              "\n",
              "                        })\n",
              "                };\n",
              "                \n",
              "            </script>\n",
              "        </div>\n",
              "</body>\n",
              "</html>"
            ]
          },
          "metadata": {
            "tags": []
          }
        }
      ]
    },
    {
      "cell_type": "code",
      "metadata": {
        "id": "1tSQeFmIE-bh",
        "colab_type": "code",
        "colab": {}
      },
      "source": [
        "# create model for the class\n",
        "class CNN_v1(nn.Module):\n",
        "  def __init__(self, K):\n",
        "    super(CNN_v1, self).__init__()\n",
        "    self.conv1 = nn.Conv2d(3, 32, kernel_size = 3, stride = 2) # 32x32x(3) -> 15x15x(3)x32\n",
        "    self.conv2 = nn.Conv2d(32, 64, kernel_size = 3, stride = 2) # 15x15x(3)x32 -> 7x7x(3)x64\n",
        "    self.conv3 = nn.Conv2d(64, 128, kernel_size = 3, stride = 2) # 7x7x(3)x64 ->  3x3x(3)x128\n",
        "\n",
        "    self.fc1 = nn.Linear(3*3*128,1024)\n",
        "    self.fc2 = nn.Linear(1024, K)\n",
        "  \n",
        "  def forward(self, x):\n",
        "    x = F.relu(self.conv1(x))\n",
        "    x = F.relu(self.conv2(x))\n",
        "    x = F.relu(self.conv3(x))\n",
        "    x = x.view(-1, 128 * 3 * 3) # flatten the image \n",
        "    x = F.dropout(x, p = .5)\n",
        "    x = F.relu(self.fc1(x))\n",
        "    x = F.dropout(x, p = .2)\n",
        "    x = self.fc2(x)\n",
        "    return x"
      ],
      "execution_count": 6,
      "outputs": []
    },
    {
      "cell_type": "code",
      "metadata": {
        "id": "pfR2L4-tmLq0",
        "colab_type": "code",
        "colab": {}
      },
      "source": [
        "# initalize the model\n",
        "cnn_model = CNN_v1(K)\n",
        "\n",
        "# initialize the criterion and the optimizer instances\n",
        "criterion = nn.CrossEntropyLoss()\n",
        "optimizer = torch.optim.Adam(cnn_model.parameters())"
      ],
      "execution_count": 7,
      "outputs": []
    },
    {
      "cell_type": "code",
      "metadata": {
        "id": "qoVrMfn8mWzL",
        "colab_type": "code",
        "colab": {
          "base_uri": "https://localhost:8080/",
          "height": 153
        },
        "outputId": "86dcbac8-7a12-4c36-f19f-6fdf5aa9e928"
      },
      "source": [
        "# pick a device\n",
        "device = torch.device('cuda:0' if torch.cuda.is_available() else 'cpu')\n",
        "print('selected %s ' % device)\n",
        "# pass the model to selected device\n",
        "cnn_model.to(device)"
      ],
      "execution_count": 8,
      "outputs": [
        {
          "output_type": "stream",
          "text": [
            "selected cuda:0 \n"
          ],
          "name": "stdout"
        },
        {
          "output_type": "execute_result",
          "data": {
            "text/plain": [
              "CNN_v1(\n",
              "  (conv1): Conv2d(3, 32, kernel_size=(3, 3), stride=(2, 2))\n",
              "  (conv2): Conv2d(32, 64, kernel_size=(3, 3), stride=(2, 2))\n",
              "  (conv3): Conv2d(64, 128, kernel_size=(3, 3), stride=(2, 2))\n",
              "  (fc1): Linear(in_features=1152, out_features=1024, bias=True)\n",
              "  (fc2): Linear(in_features=1024, out_features=10, bias=True)\n",
              ")"
            ]
          },
          "metadata": {
            "tags": []
          },
          "execution_count": 8
        }
      ]
    },
    {
      "cell_type": "code",
      "metadata": {
        "id": "AmRT1N5unJum",
        "colab_type": "code",
        "colab": {}
      },
      "source": [
        "# define prediction and training functions\n",
        "def batch_gd(model, criterion, optimizer, train_loader, test_loader, epochs):\n",
        "  \"\"\"\n",
        "  Apply batch gradient descent to given model and data.\n",
        "  Data must be DataLoader object\n",
        "  \"\"\"\n",
        "  \n",
        "  train_losses = np.zeros(epochs)\n",
        "  test_losses = np.zeros(epochs)\n",
        "\n",
        "  for i in range(epochs):\n",
        "    t0 = time.time()\n",
        "    train_loss = []\n",
        "    test_loss = []\n",
        "    for inputs, targets in train_loader:\n",
        "      inputs, targets = inputs.to(device), targets.to(device)\n",
        "      # we don't need to flatten the input since\n",
        "      # we use CNN's as first layers of our NN\n",
        "\n",
        "      # forward pass\n",
        "      outputs = model(inputs)\n",
        "      loss = criterion(outputs, targets)\n",
        "      # backward propagation\n",
        "      loss.backward()\n",
        "      optimizer.step()\n",
        "      optimizer.zero_grad()\n",
        "      # keep the loss\n",
        "      train_loss.append(loss.item())\n",
        "\n",
        "    # calculate the loss for training too\n",
        "    for inputs, targets in test_loader:\n",
        "      inputs, targets = inputs.to(device), targets.to(device)\n",
        "      outputs = model(inputs)\n",
        "      loss = criterion(outputs, targets)\n",
        "      test_loss.append(loss.item())\n",
        "    \n",
        "    # get the average loss for both train and test sets and keep them too\n",
        "    avg_train_loss = np.mean(train_loss)\n",
        "    avg_test_loss = np.mean(test_loss)\n",
        "    train_losses[i] = avg_train_loss\n",
        "    test_losses[i] = avg_test_loss\n",
        "\n",
        "    # calculate the time\n",
        "    t1 = time.time()\n",
        "\n",
        "    print(\"-\"*50)\n",
        "    print(f\"Epoch {i+1}/{epochs} took {t1-t0:.3f}s \\n avg_loss for train: {avg_train_loss:.4f} \\n avg_loss for test: {avg_test_loss:.4f}\")\n",
        "    print(\"-\"*50)\n",
        "\n",
        "  return train_loss, test_loss\n",
        "\n",
        "def validation_predict(model, data_loader, acc=True):\n",
        "  \"\"\"\n",
        "  Make predictions with given DataLoader object. \n",
        "  Return the predictions and accuracy(if acc=True) \n",
        "  \"\"\"\n",
        "  n_correct = 0\n",
        "  n_total = 0\n",
        "  predictions = np.array([])\n",
        "  with torch.no_grad():\n",
        "    for inputs, targets in data_loader:\n",
        "      # we're getting logits from model, so applying\n",
        "      # softmax would be enough\n",
        "\n",
        "      # pass the data to gpu\n",
        "      inputs, targets = inputs.to(device), targets.to(device)\n",
        "      outputs = model(inputs)\n",
        "\n",
        "      # return the index that has maximum value of a column\n",
        "      # this is almost same as applying softmax itself in our situation\n",
        "      _, preds = torch.max(outputs, 1)\n",
        "      if acc:\n",
        "        accuracy = (preds == targets).sum().item()\n",
        "        n_correct += accuracy\n",
        "        n_total += (targets.shape[0])\n",
        "      predictions = np.concatenate((predictions, preds.cpu().numpy()))\n",
        "\n",
        "  return [predictions,(n_correct/n_total)] if acc else predictions"
      ],
      "execution_count": 9,
      "outputs": []
    },
    {
      "cell_type": "code",
      "metadata": {
        "id": "ofsZ_r4l2tOA",
        "colab_type": "code",
        "colab": {
          "base_uri": "https://localhost:8080/",
          "height": 1000
        },
        "outputId": "8e914604-e840-4598-afa4-f6fc7ec99116"
      },
      "source": [
        "n_epochs = 20\n",
        "train_loss, test_loss = batch_gd(cnn_model, criterion, optimizer, train_loader, test_loader, n_epochs)"
      ],
      "execution_count": 10,
      "outputs": [
        {
          "output_type": "stream",
          "text": [
            "--------------------------------------------------\n",
            "Epoch 1/20 took 13.678s \n",
            " avg_loss for train: 1.6971 \n",
            " avg_loss for test: 1.4798\n",
            "--------------------------------------------------\n",
            "--------------------------------------------------\n",
            "Epoch 2/20 took 13.682s \n",
            " avg_loss for train: 1.4135 \n",
            " avg_loss for test: 1.3449\n",
            "--------------------------------------------------\n",
            "--------------------------------------------------\n",
            "Epoch 3/20 took 13.584s \n",
            " avg_loss for train: 1.3011 \n",
            " avg_loss for test: 1.2662\n",
            "--------------------------------------------------\n",
            "--------------------------------------------------\n",
            "Epoch 4/20 took 13.328s \n",
            " avg_loss for train: 1.2132 \n",
            " avg_loss for test: 1.2073\n",
            "--------------------------------------------------\n",
            "--------------------------------------------------\n",
            "Epoch 5/20 took 13.441s \n",
            " avg_loss for train: 1.1414 \n",
            " avg_loss for test: 1.1549\n",
            "--------------------------------------------------\n",
            "--------------------------------------------------\n",
            "Epoch 6/20 took 13.235s \n",
            " avg_loss for train: 1.0766 \n",
            " avg_loss for test: 1.1369\n",
            "--------------------------------------------------\n",
            "--------------------------------------------------\n",
            "Epoch 7/20 took 13.324s \n",
            " avg_loss for train: 1.0303 \n",
            " avg_loss for test: 1.1054\n",
            "--------------------------------------------------\n",
            "--------------------------------------------------\n",
            "Epoch 8/20 took 13.207s \n",
            " avg_loss for train: 0.9888 \n",
            " avg_loss for test: 1.0741\n",
            "--------------------------------------------------\n",
            "--------------------------------------------------\n",
            "Epoch 9/20 took 13.268s \n",
            " avg_loss for train: 0.9465 \n",
            " avg_loss for test: 1.0640\n",
            "--------------------------------------------------\n",
            "--------------------------------------------------\n",
            "Epoch 10/20 took 13.255s \n",
            " avg_loss for train: 0.9015 \n",
            " avg_loss for test: 1.0463\n",
            "--------------------------------------------------\n",
            "--------------------------------------------------\n",
            "Epoch 11/20 took 13.368s \n",
            " avg_loss for train: 0.8717 \n",
            " avg_loss for test: 1.0595\n",
            "--------------------------------------------------\n",
            "--------------------------------------------------\n",
            "Epoch 12/20 took 13.421s \n",
            " avg_loss for train: 0.8374 \n",
            " avg_loss for test: 1.0276\n",
            "--------------------------------------------------\n",
            "--------------------------------------------------\n",
            "Epoch 13/20 took 13.456s \n",
            " avg_loss for train: 0.8135 \n",
            " avg_loss for test: 1.0102\n",
            "--------------------------------------------------\n",
            "--------------------------------------------------\n",
            "Epoch 14/20 took 13.582s \n",
            " avg_loss for train: 0.7841 \n",
            " avg_loss for test: 1.0243\n",
            "--------------------------------------------------\n",
            "--------------------------------------------------\n",
            "Epoch 15/20 took 13.470s \n",
            " avg_loss for train: 0.7558 \n",
            " avg_loss for test: 1.0271\n",
            "--------------------------------------------------\n",
            "--------------------------------------------------\n",
            "Epoch 16/20 took 13.451s \n",
            " avg_loss for train: 0.7385 \n",
            " avg_loss for test: 1.0250\n",
            "--------------------------------------------------\n",
            "--------------------------------------------------\n",
            "Epoch 17/20 took 13.712s \n",
            " avg_loss for train: 0.7142 \n",
            " avg_loss for test: 1.0249\n",
            "--------------------------------------------------\n",
            "--------------------------------------------------\n",
            "Epoch 18/20 took 13.517s \n",
            " avg_loss for train: 0.6951 \n",
            " avg_loss for test: 1.0152\n",
            "--------------------------------------------------\n",
            "--------------------------------------------------\n",
            "Epoch 19/20 took 13.553s \n",
            " avg_loss for train: 0.6738 \n",
            " avg_loss for test: 1.0257\n",
            "--------------------------------------------------\n",
            "--------------------------------------------------\n",
            "Epoch 20/20 took 13.367s \n",
            " avg_loss for train: 0.6564 \n",
            " avg_loss for test: 1.0254\n",
            "--------------------------------------------------\n"
          ],
          "name": "stdout"
        }
      ]
    },
    {
      "cell_type": "code",
      "metadata": {
        "id": "oT85-1XZ331e",
        "colab_type": "code",
        "colab": {
          "base_uri": "https://localhost:8080/",
          "height": 34
        },
        "outputId": "3f02b7a4-c401-4d3d-e6a5-3d5569bf1c82"
      },
      "source": [
        "# calculate the accuracy for train and test sets\n",
        "_, train_accuracy = validation_predict(cnn_model, train_loader)\n",
        "test_preds, test_accuracy = validation_predict(cnn_model, test_loader)\n",
        "print(f\"Train accuracy: {train_accuracy:.4f} | Test accuracy: {test_accuracy:.4f} \")"
      ],
      "execution_count": 11,
      "outputs": [
        {
          "output_type": "stream",
          "text": [
            "Train accuracy: 0.7780 | Test accuracy: 0.6523 \n"
          ],
          "name": "stdout"
        }
      ]
    },
    {
      "cell_type": "code",
      "metadata": {
        "id": "_WOnDRjE6XST",
        "colab_type": "code",
        "colab": {
          "base_uri": "https://localhost:8080/",
          "height": 542
        },
        "outputId": "708f92e3-a024-4525-8313-cd11ada6d498"
      },
      "source": [
        "# now plot the losses again with plotly\n",
        "import plotly.graph_objects as go\n",
        "fig = go.Figure()\n",
        "fig.add_trace(go.Scatter(x=list(range(1,n_epochs+1)), y=train_loss, name='Train loss', mode = 'lines+markers'))\n",
        "fig.add_trace(go.Scatter(x=list(range(1,n_epochs+1)), y=test_loss, name='Test loss', mode = 'lines+markers'))\n",
        "fig.show()"
      ],
      "execution_count": 12,
      "outputs": [
        {
          "output_type": "display_data",
          "data": {
            "text/html": [
              "<html>\n",
              "<head><meta charset=\"utf-8\" /></head>\n",
              "<body>\n",
              "    <div>\n",
              "            <script src=\"https://cdnjs.cloudflare.com/ajax/libs/mathjax/2.7.5/MathJax.js?config=TeX-AMS-MML_SVG\"></script><script type=\"text/javascript\">if (window.MathJax) {MathJax.Hub.Config({SVG: {font: \"STIX-Web\"}});}</script>\n",
              "                <script type=\"text/javascript\">window.PlotlyConfig = {MathJaxConfig: 'local'};</script>\n",
              "        <script src=\"https://cdn.plot.ly/plotly-latest.min.js\"></script>    \n",
              "            <div id=\"50ea33df-4a4e-452a-9b66-d30d626edf37\" class=\"plotly-graph-div\" style=\"height:525px; width:100%;\"></div>\n",
              "            <script type=\"text/javascript\">\n",
              "                \n",
              "                    window.PLOTLYENV=window.PLOTLYENV || {};\n",
              "                    \n",
              "                if (document.getElementById(\"50ea33df-4a4e-452a-9b66-d30d626edf37\")) {\n",
              "                    Plotly.newPlot(\n",
              "                        '50ea33df-4a4e-452a-9b66-d30d626edf37',\n",
              "                        [{\"mode\": \"lines+markers\", \"name\": \"Train loss\", \"type\": \"scatter\", \"x\": [1, 2, 3, 4, 5, 6, 7, 8, 9, 10, 11, 12, 13, 14, 15, 16, 17, 18, 19, 20], \"y\": [0.5692248344421387, 0.6771942377090454, 0.6776555776596069, 0.6653794646263123, 0.6399787664413452, 0.6449835896492004, 0.5353166460990906, 0.7949641942977905, 0.657826840877533, 0.6099004745483398, 0.6527349948883057, 0.6047113537788391, 0.7438374757766724, 0.49581074714660645, 0.6407003998756409, 0.5931212306022644, 0.47953352332115173, 0.6711278557777405, 0.6263664960861206, 0.7120373249053955, 0.5992014408111572, 0.6612451076507568, 0.5223871469497681, 0.6050097942352295, 0.7606576681137085, 0.6955983638763428, 0.6908507347106934, 0.7074167728424072, 0.5927749872207642, 0.660879373550415, 0.5373536944389343, 0.6291232705116272, 0.5929068326950073, 0.8199592232704163, 0.6088508367538452, 0.5645337700843811, 0.7048580050468445, 0.6665598750114441, 0.667422890663147, 0.7375089526176453, 0.6054955720901489, 0.5475823879241943, 0.6536239385604858, 0.5007538795471191, 0.7456910610198975, 0.8076409697532654, 0.7076623439788818, 0.5010088086128235, 0.5887628197669983, 0.6377208828926086, 0.5277425646781921, 0.4066298007965088, 0.6547003388404846, 0.7837223410606384, 0.5095580220222473, 0.6258794069290161, 0.6176162958145142, 0.6282529234886169, 0.63870769739151, 0.6626244783401489, 0.4944649040699005, 0.6160334944725037, 0.5685398578643799, 0.5309882164001465, 0.6054754853248596, 0.7096733450889587, 0.7641146183013916, 0.6458269953727722, 0.6965866684913635, 0.5450285077095032, 0.5610847473144531, 0.5476449728012085, 0.70917809009552, 0.7236700654029846, 0.6578875184059143, 0.5415832996368408, 0.5533492565155029, 0.49457108974456787, 0.6707642078399658, 0.6303194761276245, 0.7043178677558899, 0.6332060694694519, 0.5776337385177612, 0.729592502117157, 0.6711851954460144, 0.6739629507064819, 0.47354885935783386, 0.4707651436328888, 0.6803566813468933, 0.7003544569015503, 0.6692366003990173, 0.5067734122276306, 0.6373705267906189, 0.6645389795303345, 0.706398606300354, 0.6711274981498718, 0.6200044751167297, 0.6077324151992798, 0.5665316581726074, 0.7614134550094604, 0.6637886166572571, 0.46980804204940796, 0.5798373222351074, 0.7865020632743835, 0.681972861289978, 0.529036283493042, 0.7484204769134521, 0.5410265922546387, 0.5773685574531555, 0.6960837841033936, 0.621785044670105, 0.597003161907196, 0.6820123791694641, 0.5318372249603271, 0.583834707736969, 0.7666634917259216, 0.5714949369430542, 0.6214185953140259, 0.5979909896850586, 0.5785361528396606, 0.4690338969230652, 0.6864830851554871, 0.9001781940460205, 0.5375104546546936, 0.5362936854362488, 0.6757591366767883, 0.69314044713974, 0.6903051733970642, 0.5878965854644775, 0.5858864188194275, 0.5711357593536377, 0.6963538527488708, 0.6470895409584045, 0.5508449673652649, 0.5814943909645081, 0.5941956043243408, 0.5694116353988647, 0.6137714982032776, 0.6302313208580017, 0.9232077598571777, 0.8056041598320007, 0.4854520559310913, 0.47523394227027893, 0.6459271311759949, 0.6237773895263672, 0.7902336716651917, 0.6578592658042908, 0.48139315843582153, 0.6700876951217651, 0.7550530433654785, 0.718797504901886, 0.6782122254371643, 0.8466610312461853, 0.7073002457618713, 0.598333477973938, 0.4948028028011322, 0.5175697803497314, 0.5429646968841553, 0.5245915651321411, 0.7702019214630127, 0.6447610855102539, 0.6927365660667419, 0.5714582204818726, 0.5686348676681519, 0.7358763217926025, 0.7261608242988586, 0.588042676448822, 0.5845142602920532, 0.7093439102172852, 0.5849228501319885, 0.5496047139167786, 0.594621479511261, 0.7510238289833069, 0.6679378747940063, 0.6410396099090576, 0.7163338661193848, 0.6692240834236145, 0.6209416389465332, 0.551195502281189, 0.6910161972045898, 0.6041412353515625, 0.6326379776000977, 0.6552281975746155, 0.7668171525001526, 0.7664154171943665, 0.6767329573631287, 0.7825170755386353, 0.5357115268707275, 0.7146416902542114, 0.5908754467964172, 0.625386118888855, 0.7527326941490173, 0.5055501461029053, 0.6306180953979492, 0.7448117733001709, 0.6477647423744202, 0.6865732073783875, 0.6953766345977783, 0.6389491558074951, 0.6323311924934387, 0.7424336671829224, 0.7338245511054993, 0.5659724473953247, 0.6231327056884766, 0.5199888944625854, 0.783867359161377, 0.7083585858345032, 0.7760599851608276, 0.6159941554069519, 0.7040764093399048, 0.5694714188575745, 0.6620513796806335, 0.6296975016593933, 0.5885598659515381, 0.7088795900344849, 0.5749287009239197, 0.6585924625396729, 0.6739153861999512, 0.6907432079315186, 0.7422666549682617, 0.7052227258682251, 0.830035388469696, 0.6915081739425659, 0.6893165111541748, 0.6948995590209961, 0.5600748062133789, 0.621291995048523, 0.5621855854988098, 0.713042140007019, 0.8792099356651306, 0.8778438568115234, 0.5291001200675964, 0.7594492435455322, 0.651793897151947, 0.7036829590797424, 0.7438969016075134, 0.6389462947845459, 0.7818675637245178, 0.6056351661682129, 0.5850281715393066, 0.4374704658985138, 0.6435956358909607, 0.4409550726413727, 0.627065896987915, 0.5769578814506531, 0.7342061996459961, 0.6751137971878052, 0.7327789068222046, 0.5712841749191284, 0.6817508339881897, 0.7008799910545349, 0.8645651936531067, 0.7597932815551758, 0.5098499655723572, 0.6918763518333435, 0.6316727995872498, 0.6602261066436768, 0.6576452851295471, 0.6090256571769714, 0.7113723158836365, 0.7432443499565125, 0.8651938438415527, 0.8473454713821411, 0.4504498541355133, 0.6435353755950928, 0.6175062656402588, 0.8116418719291687, 0.7379967570304871, 0.6888284087181091, 0.6501176357269287, 0.653096079826355, 0.5944216251373291, 0.7409071922302246, 0.6324191689491272, 0.6590813398361206, 0.5440945625305176, 0.6436463594436646, 0.7257972955703735, 0.7802503108978271, 0.684546947479248, 0.6039158701896667, 0.9220276474952698, 0.5939968228340149, 0.6665972471237183, 0.6055055260658264, 0.6067691445350647, 0.6231531500816345, 0.6090561151504517, 0.7267603874206543, 0.6202500462532043, 0.7860102653503418, 0.8240683674812317, 0.6218598484992981, 0.6465606093406677, 0.7220641374588013, 0.5780370235443115, 0.5844978094100952, 0.6628621220588684, 0.48673874139785767, 0.5909050703048706, 0.6057463884353638, 0.6284008622169495, 0.79112708568573, 0.6790693998336792, 0.6496915817260742, 0.8283442258834839, 0.5431907773017883, 0.6366913318634033, 0.6248679161071777, 0.7371450066566467, 0.8923895955085754, 0.6034046411514282, 0.6727539300918579, 0.6821790933609009, 0.5642576813697815, 0.8014122247695923, 0.6681756973266602, 0.7299159169197083, 0.676166832447052, 0.6072103977203369, 0.7117485404014587, 0.6834009289741516, 0.5626665353775024, 0.6585953235626221, 0.5886964797973633, 0.6843031644821167, 0.6951092481613159, 0.8664882183074951, 0.6063142418861389, 0.6822590231895447, 0.6331846714019775, 0.6323438882827759, 0.5761454701423645, 0.6343963742256165, 0.7249165177345276, 0.652837872505188, 0.7822752594947815, 0.5770500898361206, 0.7130039930343628, 0.781308114528656, 0.9478396773338318, 0.5616382956504822, 0.6589239835739136, 0.8644930124282837, 0.7178435921669006, 0.6093930006027222, 0.5344198346138, 0.6403485536575317, 0.8210306763648987, 0.7221984267234802, 0.6499152183532715, 0.6779822707176208, 0.8764054179191589, 0.7032948136329651, 0.6294283270835876, 0.7248662114143372, 0.6823387145996094, 0.6460973620414734, 0.7633641958236694, 0.8683089017868042, 0.6365594863891602, 0.5225853323936462, 0.74997878074646, 0.9567821621894836, 0.6444352865219116, 0.7827111482620239, 0.7061094045639038, 0.5212787389755249, 0.6920695900917053, 0.7799442410469055, 0.6890073418617249, 0.7617438435554504, 0.6105969548225403, 0.7275196313858032, 0.8441625833511353, 0.6856359839439392, 0.7171311974525452, 0.7193929553031921, 0.7001158595085144, 0.679297149181366, 0.5941384434700012, 0.8647561073303223, 0.5825583338737488, 0.5608241558074951, 0.6108307242393494, 0.7122000455856323, 0.6347112059593201, 0.5824278593063354, 0.666322648525238, 0.6844215989112854, 0.6965218782424927]}, {\"mode\": \"lines+markers\", \"name\": \"Test loss\", \"type\": \"scatter\", \"x\": [1, 2, 3, 4, 5, 6, 7, 8, 9, 10, 11, 12, 13, 14, 15, 16, 17, 18, 19, 20], \"y\": [1.1194002628326416, 1.2067906856536865, 0.9836961030960083, 0.9533999562263489, 0.7173103094100952, 1.108618974685669, 1.1646236181259155, 0.9375886917114258, 1.020999550819397, 1.0683826208114624, 0.8717814087867737, 0.823809802532196, 0.9979453086853027, 1.0754283666610718, 0.8257122039794922, 1.1976838111877441, 0.85691237449646, 1.1465121507644653, 1.0318278074264526, 1.3037854433059692, 0.9946920275688171, 1.1686396598815918, 1.02849280834198, 1.0574376583099365, 0.898354172706604, 1.1061609983444214, 1.1477302312850952, 1.0128748416900635, 0.8888012766838074, 1.143942952156067, 0.9503854513168335, 0.9354045391082764, 1.0718075037002563, 0.9916664958000183, 0.936951220035553, 1.1197532415390015, 1.0070130825042725, 1.0454798936843872, 0.9139770269393921, 1.007084846496582, 1.0659114122390747, 0.9844616055488586, 1.0284219980239868, 0.9940452575683594, 1.0919859409332275, 0.8813791275024414, 1.0632349252700806, 0.9679062366485596, 1.0131072998046875, 1.0445351600646973, 1.1604433059692383, 1.0080214738845825, 1.1664204597473145, 0.9838742613792419, 1.3476482629776, 0.9659758806228638, 1.016208291053772, 0.953589677810669, 0.9412569403648376, 1.0135999917984009, 0.8670985102653503, 1.2295176982879639, 0.9518425464630127, 1.108985185623169, 1.1217113733291626, 0.9761551022529602, 1.1085717678070068, 1.1901774406433105, 1.0290710926055908, 0.8093512058258057, 1.0079126358032227, 0.891019344329834, 1.0579416751861572, 1.1050523519515991, 0.8995527029037476, 1.0545628070831299, 1.2342315912246704, 1.0989348888397217, 0.7325676083564758]}],\n",
              "                        {\"template\": {\"data\": {\"bar\": [{\"error_x\": {\"color\": \"#2a3f5f\"}, \"error_y\": {\"color\": \"#2a3f5f\"}, \"marker\": {\"line\": {\"color\": \"#E5ECF6\", \"width\": 0.5}}, \"type\": \"bar\"}], \"barpolar\": [{\"marker\": {\"line\": {\"color\": \"#E5ECF6\", \"width\": 0.5}}, \"type\": \"barpolar\"}], \"carpet\": [{\"aaxis\": {\"endlinecolor\": \"#2a3f5f\", \"gridcolor\": \"white\", \"linecolor\": \"white\", \"minorgridcolor\": \"white\", \"startlinecolor\": \"#2a3f5f\"}, \"baxis\": {\"endlinecolor\": \"#2a3f5f\", \"gridcolor\": \"white\", \"linecolor\": \"white\", \"minorgridcolor\": \"white\", \"startlinecolor\": \"#2a3f5f\"}, \"type\": \"carpet\"}], \"choropleth\": [{\"colorbar\": {\"outlinewidth\": 0, \"ticks\": \"\"}, \"type\": \"choropleth\"}], \"contour\": [{\"colorbar\": {\"outlinewidth\": 0, \"ticks\": \"\"}, \"colorscale\": [[0.0, \"#0d0887\"], [0.1111111111111111, \"#46039f\"], [0.2222222222222222, \"#7201a8\"], [0.3333333333333333, \"#9c179e\"], [0.4444444444444444, \"#bd3786\"], [0.5555555555555556, \"#d8576b\"], [0.6666666666666666, \"#ed7953\"], [0.7777777777777778, \"#fb9f3a\"], [0.8888888888888888, \"#fdca26\"], [1.0, \"#f0f921\"]], \"type\": \"contour\"}], \"contourcarpet\": [{\"colorbar\": {\"outlinewidth\": 0, \"ticks\": \"\"}, \"type\": \"contourcarpet\"}], \"heatmap\": [{\"colorbar\": {\"outlinewidth\": 0, \"ticks\": \"\"}, \"colorscale\": [[0.0, \"#0d0887\"], [0.1111111111111111, \"#46039f\"], [0.2222222222222222, \"#7201a8\"], [0.3333333333333333, \"#9c179e\"], [0.4444444444444444, \"#bd3786\"], [0.5555555555555556, \"#d8576b\"], [0.6666666666666666, \"#ed7953\"], [0.7777777777777778, \"#fb9f3a\"], [0.8888888888888888, \"#fdca26\"], [1.0, \"#f0f921\"]], \"type\": \"heatmap\"}], \"heatmapgl\": [{\"colorbar\": {\"outlinewidth\": 0, \"ticks\": \"\"}, \"colorscale\": [[0.0, \"#0d0887\"], [0.1111111111111111, \"#46039f\"], [0.2222222222222222, \"#7201a8\"], [0.3333333333333333, \"#9c179e\"], [0.4444444444444444, \"#bd3786\"], [0.5555555555555556, \"#d8576b\"], [0.6666666666666666, \"#ed7953\"], [0.7777777777777778, \"#fb9f3a\"], [0.8888888888888888, \"#fdca26\"], [1.0, \"#f0f921\"]], \"type\": \"heatmapgl\"}], \"histogram\": [{\"marker\": {\"colorbar\": {\"outlinewidth\": 0, \"ticks\": \"\"}}, \"type\": \"histogram\"}], \"histogram2d\": [{\"colorbar\": {\"outlinewidth\": 0, \"ticks\": \"\"}, \"colorscale\": [[0.0, \"#0d0887\"], [0.1111111111111111, \"#46039f\"], [0.2222222222222222, \"#7201a8\"], [0.3333333333333333, \"#9c179e\"], [0.4444444444444444, \"#bd3786\"], [0.5555555555555556, \"#d8576b\"], [0.6666666666666666, \"#ed7953\"], [0.7777777777777778, \"#fb9f3a\"], [0.8888888888888888, \"#fdca26\"], [1.0, \"#f0f921\"]], \"type\": \"histogram2d\"}], \"histogram2dcontour\": [{\"colorbar\": {\"outlinewidth\": 0, \"ticks\": \"\"}, \"colorscale\": [[0.0, \"#0d0887\"], [0.1111111111111111, \"#46039f\"], [0.2222222222222222, \"#7201a8\"], [0.3333333333333333, \"#9c179e\"], [0.4444444444444444, \"#bd3786\"], [0.5555555555555556, \"#d8576b\"], [0.6666666666666666, \"#ed7953\"], [0.7777777777777778, \"#fb9f3a\"], [0.8888888888888888, \"#fdca26\"], [1.0, \"#f0f921\"]], \"type\": \"histogram2dcontour\"}], \"mesh3d\": [{\"colorbar\": {\"outlinewidth\": 0, \"ticks\": \"\"}, \"type\": \"mesh3d\"}], \"parcoords\": [{\"line\": {\"colorbar\": {\"outlinewidth\": 0, \"ticks\": \"\"}}, \"type\": \"parcoords\"}], \"pie\": [{\"automargin\": true, \"type\": \"pie\"}], \"scatter\": [{\"marker\": {\"colorbar\": {\"outlinewidth\": 0, \"ticks\": \"\"}}, \"type\": \"scatter\"}], \"scatter3d\": [{\"line\": {\"colorbar\": {\"outlinewidth\": 0, \"ticks\": \"\"}}, \"marker\": {\"colorbar\": {\"outlinewidth\": 0, \"ticks\": \"\"}}, \"type\": \"scatter3d\"}], \"scattercarpet\": [{\"marker\": {\"colorbar\": {\"outlinewidth\": 0, \"ticks\": \"\"}}, \"type\": \"scattercarpet\"}], \"scattergeo\": [{\"marker\": {\"colorbar\": {\"outlinewidth\": 0, \"ticks\": \"\"}}, \"type\": \"scattergeo\"}], \"scattergl\": [{\"marker\": {\"colorbar\": {\"outlinewidth\": 0, \"ticks\": \"\"}}, \"type\": \"scattergl\"}], \"scattermapbox\": [{\"marker\": {\"colorbar\": {\"outlinewidth\": 0, \"ticks\": \"\"}}, \"type\": \"scattermapbox\"}], \"scatterpolar\": [{\"marker\": {\"colorbar\": {\"outlinewidth\": 0, \"ticks\": \"\"}}, \"type\": \"scatterpolar\"}], \"scatterpolargl\": [{\"marker\": {\"colorbar\": {\"outlinewidth\": 0, \"ticks\": \"\"}}, \"type\": \"scatterpolargl\"}], \"scatterternary\": [{\"marker\": {\"colorbar\": {\"outlinewidth\": 0, \"ticks\": \"\"}}, \"type\": \"scatterternary\"}], \"surface\": [{\"colorbar\": {\"outlinewidth\": 0, \"ticks\": \"\"}, \"colorscale\": [[0.0, \"#0d0887\"], [0.1111111111111111, \"#46039f\"], [0.2222222222222222, \"#7201a8\"], [0.3333333333333333, \"#9c179e\"], [0.4444444444444444, \"#bd3786\"], [0.5555555555555556, \"#d8576b\"], [0.6666666666666666, \"#ed7953\"], [0.7777777777777778, \"#fb9f3a\"], [0.8888888888888888, \"#fdca26\"], [1.0, \"#f0f921\"]], \"type\": \"surface\"}], \"table\": [{\"cells\": {\"fill\": {\"color\": \"#EBF0F8\"}, \"line\": {\"color\": \"white\"}}, \"header\": {\"fill\": {\"color\": \"#C8D4E3\"}, \"line\": {\"color\": \"white\"}}, \"type\": \"table\"}]}, \"layout\": {\"annotationdefaults\": {\"arrowcolor\": \"#2a3f5f\", \"arrowhead\": 0, \"arrowwidth\": 1}, \"coloraxis\": {\"colorbar\": {\"outlinewidth\": 0, \"ticks\": \"\"}}, \"colorscale\": {\"diverging\": [[0, \"#8e0152\"], [0.1, \"#c51b7d\"], [0.2, \"#de77ae\"], [0.3, \"#f1b6da\"], [0.4, \"#fde0ef\"], [0.5, \"#f7f7f7\"], [0.6, \"#e6f5d0\"], [0.7, \"#b8e186\"], [0.8, \"#7fbc41\"], [0.9, \"#4d9221\"], [1, \"#276419\"]], \"sequential\": [[0.0, \"#0d0887\"], [0.1111111111111111, \"#46039f\"], [0.2222222222222222, \"#7201a8\"], [0.3333333333333333, \"#9c179e\"], [0.4444444444444444, \"#bd3786\"], [0.5555555555555556, \"#d8576b\"], [0.6666666666666666, \"#ed7953\"], [0.7777777777777778, \"#fb9f3a\"], [0.8888888888888888, \"#fdca26\"], [1.0, \"#f0f921\"]], \"sequentialminus\": [[0.0, \"#0d0887\"], [0.1111111111111111, \"#46039f\"], [0.2222222222222222, \"#7201a8\"], [0.3333333333333333, \"#9c179e\"], [0.4444444444444444, \"#bd3786\"], [0.5555555555555556, \"#d8576b\"], [0.6666666666666666, \"#ed7953\"], [0.7777777777777778, \"#fb9f3a\"], [0.8888888888888888, \"#fdca26\"], [1.0, \"#f0f921\"]]}, \"colorway\": [\"#636efa\", \"#EF553B\", \"#00cc96\", \"#ab63fa\", \"#FFA15A\", \"#19d3f3\", \"#FF6692\", \"#B6E880\", \"#FF97FF\", \"#FECB52\"], \"font\": {\"color\": \"#2a3f5f\"}, \"geo\": {\"bgcolor\": \"white\", \"lakecolor\": \"white\", \"landcolor\": \"#E5ECF6\", \"showlakes\": true, \"showland\": true, \"subunitcolor\": \"white\"}, \"hoverlabel\": {\"align\": \"left\"}, \"hovermode\": \"closest\", \"mapbox\": {\"style\": \"light\"}, \"paper_bgcolor\": \"white\", \"plot_bgcolor\": \"#E5ECF6\", \"polar\": {\"angularaxis\": {\"gridcolor\": \"white\", \"linecolor\": \"white\", \"ticks\": \"\"}, \"bgcolor\": \"#E5ECF6\", \"radialaxis\": {\"gridcolor\": \"white\", \"linecolor\": \"white\", \"ticks\": \"\"}}, \"scene\": {\"xaxis\": {\"backgroundcolor\": \"#E5ECF6\", \"gridcolor\": \"white\", \"gridwidth\": 2, \"linecolor\": \"white\", \"showbackground\": true, \"ticks\": \"\", \"zerolinecolor\": \"white\"}, \"yaxis\": {\"backgroundcolor\": \"#E5ECF6\", \"gridcolor\": \"white\", \"gridwidth\": 2, \"linecolor\": \"white\", \"showbackground\": true, \"ticks\": \"\", \"zerolinecolor\": \"white\"}, \"zaxis\": {\"backgroundcolor\": \"#E5ECF6\", \"gridcolor\": \"white\", \"gridwidth\": 2, \"linecolor\": \"white\", \"showbackground\": true, \"ticks\": \"\", \"zerolinecolor\": \"white\"}}, \"shapedefaults\": {\"line\": {\"color\": \"#2a3f5f\"}}, \"ternary\": {\"aaxis\": {\"gridcolor\": \"white\", \"linecolor\": \"white\", \"ticks\": \"\"}, \"baxis\": {\"gridcolor\": \"white\", \"linecolor\": \"white\", \"ticks\": \"\"}, \"bgcolor\": \"#E5ECF6\", \"caxis\": {\"gridcolor\": \"white\", \"linecolor\": \"white\", \"ticks\": \"\"}}, \"title\": {\"x\": 0.05}, \"xaxis\": {\"automargin\": true, \"gridcolor\": \"white\", \"linecolor\": \"white\", \"ticks\": \"\", \"title\": {\"standoff\": 15}, \"zerolinecolor\": \"white\", \"zerolinewidth\": 2}, \"yaxis\": {\"automargin\": true, \"gridcolor\": \"white\", \"linecolor\": \"white\", \"ticks\": \"\", \"title\": {\"standoff\": 15}, \"zerolinecolor\": \"white\", \"zerolinewidth\": 2}}}},\n",
              "                        {\"responsive\": true}\n",
              "                    ).then(function(){\n",
              "                            \n",
              "var gd = document.getElementById('50ea33df-4a4e-452a-9b66-d30d626edf37');\n",
              "var x = new MutationObserver(function (mutations, observer) {{\n",
              "        var display = window.getComputedStyle(gd).display;\n",
              "        if (!display || display === 'none') {{\n",
              "            console.log([gd, 'removed!']);\n",
              "            Plotly.purge(gd);\n",
              "            observer.disconnect();\n",
              "        }}\n",
              "}});\n",
              "\n",
              "// Listen for the removal of the full notebook cells\n",
              "var notebookContainer = gd.closest('#notebook-container');\n",
              "if (notebookContainer) {{\n",
              "    x.observe(notebookContainer, {childList: true});\n",
              "}}\n",
              "\n",
              "// Listen for the clearing of the current output cell\n",
              "var outputEl = gd.closest('.output');\n",
              "if (outputEl) {{\n",
              "    x.observe(outputEl, {childList: true});\n",
              "}}\n",
              "\n",
              "                        })\n",
              "                };\n",
              "                \n",
              "            </script>\n",
              "        </div>\n",
              "</body>\n",
              "</html>"
            ]
          },
          "metadata": {
            "tags": []
          }
        }
      ]
    },
    {
      "cell_type": "code",
      "metadata": {
        "id": "EgiQSNhx85O-",
        "colab_type": "code",
        "colab": {
          "base_uri": "https://localhost:8080/",
          "height": 51
        },
        "outputId": "31b9e913-528b-43a5-9b1b-1e7eff1e330e"
      },
      "source": [
        "test_preds = test_preds.astype(np.uint8)\n",
        "test_inputs = test_data.data\n",
        "test_targets = np.array(test_data.targets)\n",
        "misclassified_idx = np.where(test_preds != test_targets)[0]\n",
        "print(f\"Total misclassified image count is {len(misclassified_idx)}\")\n",
        "print(f\"{(len(misclassified_idx)/test_targets.shape[0]) * 100:.2f}% of the images are misclassified by the model.\")"
      ],
      "execution_count": 13,
      "outputs": [
        {
          "output_type": "stream",
          "text": [
            "Total misclassified image count is 3477\n",
            "34.77% of the images are misclassified by the model.\n"
          ],
          "name": "stdout"
        }
      ]
    },
    {
      "cell_type": "code",
      "metadata": {
        "id": "GuMaTSvp_r9V",
        "colab_type": "code",
        "colab": {
          "base_uri": "https://localhost:8080/",
          "height": 281
        },
        "outputId": "d652d43c-8414-487d-8623-42c37feff817"
      },
      "source": [
        "# plot a random example\n",
        "r = np.random.choice(misclassified_idx)\n",
        "plt.imshow(test_inputs[r].reshape(32,32,3), cmap = 'gray')\n",
        "plt.title(f\"True label: {test_data.classes[test_targets[r]]} | Predicted: {test_data.classes[test_preds[r]]}\")\n",
        "plt.show()"
      ],
      "execution_count": 14,
      "outputs": [
        {
          "output_type": "display_data",
          "data": {
            "image/png": "[encoded data removed]",
            "text/plain": [
              "<Figure size 432x288 with 1 Axes>"
            ]
          },
          "metadata": {
            "tags": [],
            "needs_background": "light"
          }
        }
      ]
    }
  ]
}