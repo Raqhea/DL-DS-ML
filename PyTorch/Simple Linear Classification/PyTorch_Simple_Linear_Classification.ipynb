{
  "nbformat": 4,
  "nbformat_minor": 0,
  "metadata": {
    "colab": {
      "name": "PyTorch Simple Linear Classification.ipynb",
      "provenance": [],
      "collapsed_sections": []
    },
    "kernelspec": {
      "name": "python3",
      "display_name": "Python 3"
    }
  },
  "cells": [
    {
      "cell_type": "code",
      "metadata": {
        "id": "_1GYLAiB6qqN",
        "colab_type": "code",
        "colab": {}
      },
      "source": [
        "import torch\n",
        "import torch.nn as nn\n",
        "import numpy as np\n",
        "import matplotlib.pyplot as plt\n",
        "import pandas as pd\n",
        "from sklearn.model_selection import train_test_split\n",
        "from sklearn.preprocessing import StandardScaler \n",
        "from sklearn.datasets import load_breast_cancer"
      ],
      "execution_count": 1,
      "outputs": []
    },
    {
      "cell_type": "code",
      "metadata": {
        "id": "YXH02Bd06yl2",
        "colab_type": "code",
        "colab": {}
      },
      "source": [
        "# import and process the data\n",
        "X,Y = load_breast_cancer(return_X_y=True)\n",
        "\n",
        "X_train, X_test, y_train, y_test = train_test_split(X,Y, test_size = 0.33)\n",
        "\n",
        "# Scale the features\n",
        "scaler = StandardScaler()\n",
        "X_train = scaler.fit_transform(X_train)\n",
        "X_test = scaler.transform(X_test)\n",
        "\n",
        "# reshape the targets to (N,1) to specify 1 target, features already in the shape of (N,D) where N is the number of samples and D is the number of features\n",
        "y_train = y_train.reshape(-1,1)\n",
        "y_test = y_test.reshape(-1,1)\n",
        "\n",
        "# convert everything to pytorch tensor (float32)\n",
        "X_train = torch.from_numpy(X_train.astype(np.float32))\n",
        "X_test = torch.from_numpy(X_test.astype(np.float32))\n",
        "y_train = torch.from_numpy(y_train.astype(np.float32))\n",
        "y_test = torch.from_numpy(y_test.astype(np.float32))"
      ],
      "execution_count": 2,
      "outputs": []
    },
    {
      "cell_type": "code",
      "metadata": {
        "id": "VTV3x5nN7151",
        "colab_type": "code",
        "colab": {}
      },
      "source": [
        "# Specify the input and output shape\n",
        "D1, D2 = X_train.shape[1], y_train.shape[1] # D1 is the number of features for input and D2 is the number of targets for output\n",
        "\n",
        "# initalize the model\n",
        "model = nn.Sequential(\n",
        "    nn.Linear(D1,D2),\n",
        "    nn.Sigmoid() # apply sigmoid activation function in order to receive probabilities\n",
        ")\n",
        "# declare the cost function and optimizer\n",
        "criterion = nn.BCELoss()\n",
        "optimizer = torch.optim.Adam(model.parameters(), lr = 0.01)"
      ],
      "execution_count": 3,
      "outputs": []
    },
    {
      "cell_type": "code",
      "metadata": {
        "id": "FGxwJc5R8aAg",
        "colab_type": "code",
        "colab": {
          "base_uri": "https://localhost:8080/",
          "height": 85
        },
        "outputId": "a2226d2a-3eff-45f0-8d7a-e779b05cb665"
      },
      "source": [
        "# Training phase\n",
        "n_epochs = 200\n",
        "train_losses = np.zeros(n_epochs)\n",
        "test_losses = np.zeros(n_epochs)\n",
        "\n",
        "for i in range(n_epochs):\n",
        "  # forward propagation\n",
        "  train_outputs = model(X_train)\n",
        "  train_loss = criterion(train_outputs, y_train)\n",
        "\n",
        "  # backprop\n",
        "  train_loss.backward()\n",
        "  optimizer.step()\n",
        "  optimizer.zero_grad()\n",
        "\n",
        "    #\n",
        "\n",
        "  # predict test data and calculate the loss\n",
        "  test_outputs = model(X_test)\n",
        "  test_loss = criterion(test_outputs, y_test)\n",
        "\n",
        "  # keep the losses in order to plot them after training\n",
        "  test_losses[i] = test_loss.item()\n",
        "  train_losses[i] = train_loss.item()\n",
        "\n",
        "  if ( (i+1) % 50 == 0):\n",
        "    print(f\"Epoch {i+1}/{n_epochs}, train_loss: {train_loss.item():.4f}, test_loss: {test_loss.item():.4f}\")"
      ],
      "execution_count": 4,
      "outputs": [
        {
          "output_type": "stream",
          "text": [
            "Epoch 50/200, train_loss: 0.1432, test_loss: 0.1393\n",
            "Epoch 100/200, train_loss: 0.1043, test_loss: 0.1059\n",
            "Epoch 150/200, train_loss: 0.0885, test_loss: 0.0919\n",
            "Epoch 200/200, train_loss: 0.0795, test_loss: 0.0838\n"
          ],
          "name": "stdout"
        }
      ]
    },
    {
      "cell_type": "code",
      "metadata": {
        "id": "JoMhJO3q-sAE",
        "colab_type": "code",
        "colab": {
          "base_uri": "https://localhost:8080/",
          "height": 269
        },
        "outputId": "1464cff7-6e93-426f-bc71-30a2802615cd"
      },
      "source": [
        "# plot the losses\n",
        "plt.plot(train_losses, label = 'train')\n",
        "plt.plot(test_losses, label = 'test')\n",
        "plt.legend()\n",
        "plt.show()"
      ],
      "execution_count": 5,
      "outputs": [
        {
          "output_type": "display_data",
          "data": {
            "image/png": "[encoded data removed]",
            "text/plain": [
              "<Figure size 432x288 with 1 Axes>"
            ]
          },
          "metadata": {
            "tags": [],
            "needs_background": "light"
          }
        }
      ]
    },
    {
      "cell_type": "code",
      "metadata": {
        "id": "MkwWKd6F_P1o",
        "colab_type": "code",
        "colab": {
          "base_uri": "https://localhost:8080/",
          "height": 34
        },
        "outputId": "e9223322-cfb9-40d8-aff7-a1edd60fcf3c"
      },
      "source": [
        "# calculate accuracies\n",
        "with torch.no_grad():\n",
        "  train_predictions = np.round(model(X_train).numpy())\n",
        "  train_accuracy = (train_predictions == y_train.numpy()).sum() / train_predictions.shape[0]\n",
        "  test_predictions = np.round(model(X_test).numpy())\n",
        "  test_accuracy = (test_predictions == y_test.numpy()).sum() / test_predictions.shape[0]\n",
        "  print(f\"Prediction accuracy for train and training sets: %{train_accuracy * 100:.3f} | %{test_accuracy * 100:.3f}\")"
      ],
      "execution_count": 6,
      "outputs": [
        {
          "output_type": "stream",
          "text": [
            "Prediction accuracy for train and training sets: %98.425 | %97.872\n"
          ],
          "name": "stdout"
        }
      ]
    }
  ]
}
