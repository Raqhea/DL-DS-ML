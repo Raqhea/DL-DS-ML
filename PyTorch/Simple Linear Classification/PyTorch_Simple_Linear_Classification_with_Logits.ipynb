{
  "nbformat": 4,
  "nbformat_minor": 0,
  "metadata": {
    "colab": {
      "name": "PyTorch Simple Linear Classification with Logits.ipynb",
      "provenance": [],
      "collapsed_sections": []
    },
    "kernelspec": {
      "name": "python3",
      "display_name": "Python 3"
    }
  },
  "cells": [
    {
      "cell_type": "code",
      "metadata": {
        "id": "xo8wHGGE3mVu",
        "colab_type": "code",
        "colab": {}
      },
      "source": [
        "# TORCH\n",
        "import torch\n",
        "import torch.nn as nn\n",
        "# computational\n",
        "import numpy as np \n",
        "import pandas as pd\n",
        "# visual\n",
        "import matplotlib.pyplot as plt\n",
        "# preprocessing\n",
        "from sklearn.model_selection import train_test_split\n",
        "from sklearn.preprocessing import StandardScaler\n",
        "\n",
        "# dataset\n",
        "from sklearn.datasets import load_breast_cancer"
      ],
      "execution_count": 1,
      "outputs": []
    },
    {
      "cell_type": "code",
      "metadata": {
        "id": "7rLoRur_4dC2",
        "colab_type": "code",
        "colab": {
          "base_uri": "https://localhost:8080/",
          "height": 51
        },
        "outputId": "17af8751-2749-4690-9cb1-f726f4447980"
      },
      "source": [
        "# load the dataset and process the data\n",
        "X,Y = load_breast_cancer(return_X_y = True)\n",
        "print(X.shape, Y.shape)\n",
        "\n",
        "# now X and Y are numpy arrays, we need to split the data into train and test sets.\n",
        "# Then I'll apply standardization to the features and reshape targets to have NxD where N is the number of the samples and D is the number of targets\n",
        "# We don't need to reshape features since they're already in the shape of NxD\n",
        "# And before training, we should convert numpy arrays to torch tensors in order to create and train the network\n",
        "\n",
        "# First reshape the target because it'll be harder to do it later\n",
        "Y = Y.reshape(-1,1)\n",
        "\n",
        "# Then split the dataset into train and test sets\n",
        "X_train, X_test, y_train, y_test = train_test_split(X,Y, test_size =.33)\n",
        "print(X_train.shape, y_train.shape)\n",
        "\n",
        "D1, D2 = X_train.shape[1], y_train.shape[1]\n",
        "\n",
        "# Now scale the features\n",
        "scaler = StandardScaler()\n",
        "X_train = scaler.fit_transform(X_train)\n",
        "X_test = scaler.transform(X_test)\n",
        "\n",
        "# Convert everything to pytorch tensors\n",
        "X_train = torch.from_numpy(X_train.astype(np.float32))\n",
        "X_test = torch.from_numpy(X_test.astype(np.float32))\n",
        "y_train = torch.from_numpy(y_train.astype(np.float32))\n",
        "y_test = torch.from_numpy(y_test.astype(np.float32))"
      ],
      "execution_count": 9,
      "outputs": [
        {
          "output_type": "stream",
          "text": [
            "(569, 30) (569,)\n",
            "(381, 30) (381, 1)\n"
          ],
          "name": "stdout"
        }
      ]
    },
    {
      "cell_type": "code",
      "metadata": {
        "id": "EYdgOxhJ7UOw",
        "colab_type": "code",
        "colab": {}
      },
      "source": [
        "# Initialize the model, select criterion and optimizer\n",
        "model = nn.Linear(D1, D2) # we'll have D1=30 inputs and D2=1 outputs\n",
        "\n",
        "criterion = nn.BCEWithLogitsLoss() # since we apply the BCE with logits, we don't need to apply sigmoid function seperately. It'll be applied in loss function.\n",
        "optimizer = torch.optim.Adam(model.parameters(), lr = .01)"
      ],
      "execution_count": 10,
      "outputs": []
    },
    {
      "cell_type": "code",
      "metadata": {
        "id": "FGxwJc5R8aAg",
        "colab_type": "code",
        "colab": {
          "base_uri": "https://localhost:8080/",
          "height": 85
        },
        "outputId": "934ef2ee-7aa1-45b0-d396-d941c6127ee6"
      },
      "source": [
        "# Train the model (I'll copy this section from the other Linear Classification notebook I made.)\n",
        "\n",
        "# Training phase\n",
        "n_epochs = 200\n",
        "train_losses = np.zeros(n_epochs)\n",
        "test_losses = np.zeros(n_epochs)\n",
        "\n",
        "for i in range(n_epochs):\n",
        "  # forward propagation\n",
        "  train_outputs = model(X_train)\n",
        "  train_loss = criterion(train_outputs, y_train)\n",
        "\n",
        "  # backprop\n",
        "  train_loss.backward()\n",
        "  optimizer.step()\n",
        "  optimizer.zero_grad()\n",
        "\n",
        "    #\n",
        "\n",
        "  # predict test data and calculate the loss\n",
        "  test_outputs = model(X_test)\n",
        "  test_loss = criterion(test_outputs, y_test)\n",
        "\n",
        "  # keep the losses in order to plot them after training\n",
        "  test_losses[i] = test_loss.item()\n",
        "  train_losses[i] = train_loss.item()\n",
        "\n",
        "  if ( (i+1) % 50 == 0):\n",
        "    print(f\"Epoch {i+1}/{n_epochs}, train_loss: {train_loss.item():.4f}, test_loss: {test_loss.item():.4f}\")"
      ],
      "execution_count": 11,
      "outputs": [
        {
          "output_type": "stream",
          "text": [
            "Epoch 50/200, train_loss: 0.1467, test_loss: 0.1256\n",
            "Epoch 100/200, train_loss: 0.1015, test_loss: 0.0970\n",
            "Epoch 150/200, train_loss: 0.0835, test_loss: 0.0874\n",
            "Epoch 200/200, train_loss: 0.0732, test_loss: 0.0829\n"
          ],
          "name": "stdout"
        }
      ]
    },
    {
      "cell_type": "code",
      "metadata": {
        "id": "JoMhJO3q-sAE",
        "colab_type": "code",
        "colab": {
          "base_uri": "https://localhost:8080/",
          "height": 265
        },
        "outputId": "7d8bbbfa-8b82-4f75-b07c-d6130cd86482"
      },
      "source": [
        "# plot the losses\n",
        "plt.plot(train_losses, label = 'train')\n",
        "plt.plot(test_losses, label = 'test')\n",
        "plt.legend()\n",
        "plt.show()"
      ],
      "execution_count": 12,
      "outputs": [
        {
          "output_type": "display_data",
          "data": {
            "image/png": "[encoded data removed]",
            "text/plain": [
              "<Figure size 432x288 with 1 Axes>"
            ]
          },
          "metadata": {
            "tags": [],
            "needs_background": "light"
          }
        }
      ]
    },
    {
      "cell_type": "markdown",
      "metadata": {
        "id": "GEAIcpMeBtjc",
        "colab_type": "text"
      },
      "source": [
        "We already apply sigmoid to the function while training. So the results should be able to be classified by sigmoid function. Let's look at it's graph!\n",
        "\n",
        "\n",
        "![Sigmoid Function](https://i.imgur.com/2Ns7xAj.png)\n",
        "\n",
        "\n",
        "Recall that we apply sigmoid with the cost function! We get outputs from our model, then we apply sigmoid function while calculating cost. So model doesn't output the sigmoid applied results. In order to get our __predictions__, we should apply the sigmoid ourselves. Now  if x > 0, then we can say that number is closer to 1 (that makes it classified as 1), if x < 0, then we can say that number is closer to 0 (also this make it classified as 0)"
      ]
    },
    {
      "cell_type": "code",
      "metadata": {
        "id": "MkwWKd6F_P1o",
        "colab_type": "code",
        "colab": {
          "base_uri": "https://localhost:8080/",
          "height": 34
        },
        "outputId": "aa3be6b3-8e66-4007-8dfe-c3cd7654de50"
      },
      "source": [
        "# calculate accuracies\n",
        "# since the model already applies sigmoid while training, there's no point of rounding the results. We should apply x>0 or x<0 condition to \n",
        "# have predictions. \n",
        "with torch.no_grad():\n",
        "  train_predictions = model(X_train).numpy()\n",
        "  train_predictions = ( train_predictions > 0)\n",
        "  train_accuracy = (train_predictions == y_train.numpy()).sum() / train_predictions.shape[0]\n",
        "  \n",
        "  test_predictions = model(X_test).numpy()\n",
        "  test_predictions = ( test_predictions > 0 )\n",
        "  test_accuracy = (test_predictions == y_test.numpy()).sum() / test_predictions.shape[0]\n",
        "  print(f\"Prediction accuracy for train and training sets: %{train_accuracy * 100:.3f} | %{test_accuracy * 100:.3f}\")"
      ],
      "execution_count": 18,
      "outputs": [
        {
          "output_type": "stream",
          "text": [
            "Prediction accuracy for train and training sets: %98.425 | %97.872\n"
          ],
          "name": "stdout"
        }
      ]
    }
  ]
}