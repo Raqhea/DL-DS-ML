{
  "nbformat": 4,
  "nbformat_minor": 0,
  "metadata": {
    "colab": {
      "name": "MNIST Digit Recognition with PyTorch ANNs.ipynb",
      "provenance": []
    },
    "kernelspec": {
      "name": "python3",
      "display_name": "Python 3"
    },
    "accelerator": "GPU"
  },
  "cells": [
    {
      "cell_type": "code",
      "metadata": {
        "id": "P-PZoEgQAPwJ",
        "colab_type": "code",
        "colab": {}
      },
      "source": [
        "import torch \n",
        "import torch.nn as nn\n",
        "import torchvision\n",
        "import torchvision.transforms as transforms\n",
        "import numpy as np\n",
        "import matplotlib.pyplot as plt"
      ],
      "execution_count": 1,
      "outputs": []
    },
    {
      "cell_type": "code",
      "metadata": {
        "id": "S_F0olllAf0E",
        "colab_type": "code",
        "colab": {}
      },
      "source": [
        "# Get train and test datasets from torchvision\n",
        "train_dataset = torchvision.datasets.MNIST(\n",
        "    root = '.', # specify downloading path\n",
        "    train = True, # we want to get train set\n",
        "    transform = transforms.ToTensor(), # convert data to torch tensors\n",
        "    download = True, # download it from cloud\n",
        ")\n",
        "# This returns train_x and train_y as train_dataset.data and train_dataset.target\n",
        "\n",
        "\n",
        "test_dataset = torchvision.datasets.MNIST(\n",
        "    root = '.', # specify downloading path\n",
        "    train = False, # we want to get test set\n",
        "    transform = transforms.ToTensor(), # convert data to torch tensors\n",
        "    download = True, # download it from cloud\n",
        ")\n",
        "# this returns the same as above but with test"
      ],
      "execution_count": 2,
      "outputs": []
    },
    {
      "cell_type": "code",
      "metadata": {
        "id": "bJxvV0VABJpD",
        "colab_type": "code",
        "colab": {
          "base_uri": "https://localhost:8080/",
          "height": 34
        },
        "outputId": "64f58c6e-39c4-452f-f6e7-342b2202140f"
      },
      "source": [
        "train_dataset.data.max() # what's the maximum pixel value for given data?\n",
        "# so the data is 8bit integer and maximum value is 255."
      ],
      "execution_count": 3,
      "outputs": [
        {
          "output_type": "execute_result",
          "data": {
            "text/plain": [
              "tensor(255, dtype=torch.uint8)"
            ]
          },
          "metadata": {
            "tags": []
          },
          "execution_count": 3
        }
      ]
    },
    {
      "cell_type": "code",
      "metadata": {
        "id": "AjR0lOmFB82J",
        "colab_type": "code",
        "colab": {
          "base_uri": "https://localhost:8080/",
          "height": 34
        },
        "outputId": "7ff32189-2f51-404b-9584-fbdedda2bc55"
      },
      "source": [
        "train_dataset.data.shape # we have 60k samples of 28x28 images"
      ],
      "execution_count": 4,
      "outputs": [
        {
          "output_type": "execute_result",
          "data": {
            "text/plain": [
              "torch.Size([60000, 28, 28])"
            ]
          },
          "metadata": {
            "tags": []
          },
          "execution_count": 4
        }
      ]
    },
    {
      "cell_type": "code",
      "metadata": {
        "id": "xYLvpRkLCHV9",
        "colab_type": "code",
        "colab": {
          "base_uri": "https://localhost:8080/",
          "height": 34
        },
        "outputId": "aeb749b7-63e4-4f0f-e41f-e9256ebe8c4b"
      },
      "source": [
        "train_dataset.targets.shape # we have 60k target value."
      ],
      "execution_count": 5,
      "outputs": [
        {
          "output_type": "execute_result",
          "data": {
            "text/plain": [
              "torch.Size([60000])"
            ]
          },
          "metadata": {
            "tags": []
          },
          "execution_count": 5
        }
      ]
    },
    {
      "cell_type": "code",
      "metadata": {
        "id": "4__2TegICRJ8",
        "colab_type": "code",
        "colab": {}
      },
      "source": [
        "# Build the model\n",
        "\n",
        "# Since the data is 28x28, one image contains 784 in it.\n",
        "# We convert them to flat arrays of images. So 1 sample will have the\n",
        "# shape of (,784). It's clear that the layer will process 784 pixels.\n",
        "model = nn.Sequential(\n",
        "    nn.Linear(784, 128), # 128 in here is hyper-parameter for output value\n",
        "    nn.ReLU(), # well, when we didn't use ReLU?\n",
        "    nn.Linear(128, 10) # (NOTE)\n",
        ")\n",
        "#NOTE:\n",
        "# First linear layer's output is (,128). \n",
        "# And in neural networks, one layer's output is the next one's input. \n",
        "# We need to specify 128 as a input size of 2nd Linear layer because layer's input will be the output of the first layer which outputs in the size of 128.\n",
        "# Also we didn't add a layer for Softmax activation function since we apply it with cost function."
      ],
      "execution_count": 6,
      "outputs": []
    },
    {
      "cell_type": "code",
      "metadata": {
        "id": "oQ1UaHxDEKzI",
        "colab_type": "code",
        "colab": {
          "base_uri": "https://localhost:8080/",
          "height": 119
        },
        "outputId": "64d162f3-5aa8-4793-f0e2-b2d8e96ec824"
      },
      "source": [
        "# If we have a ready-for-use GPU device, it'll be specified as \"cuda:0\"\n",
        "# So we're checking if this string is in available device list. \n",
        "# If it doesn't available, we'll use \"cpu\" device.\n",
        "device = torch.device(\"cuda:0\" if torch.cuda.is_available() else \"cpu\")\n",
        "print(device)\n",
        "model.to(device) # specify which device we will use to make computations with model."
      ],
      "execution_count": 7,
      "outputs": [
        {
          "output_type": "stream",
          "text": [
            "cuda:0\n"
          ],
          "name": "stdout"
        },
        {
          "output_type": "execute_result",
          "data": {
            "text/plain": [
              "Sequential(\n",
              "  (0): Linear(in_features=784, out_features=128, bias=True)\n",
              "  (1): ReLU()\n",
              "  (2): Linear(in_features=128, out_features=10, bias=True)\n",
              ")"
            ]
          },
          "metadata": {
            "tags": []
          },
          "execution_count": 7
        }
      ]
    },
    {
      "cell_type": "code",
      "metadata": {
        "id": "yzTXZzMRE_Ap",
        "colab_type": "code",
        "colab": {}
      },
      "source": [
        "# Define cost and optimizer objects.\n",
        "# If you want to add seperate Softmax layer to the model, \n",
        "# you should use nn.NLLLoss as a Loss function.\n",
        "# In PyTorch, CrossEntropyLoss() applies softmax function to given input data\n",
        "# So we'll need to process the predictions before getting what we want.\n",
        "criterion = nn.CrossEntropyLoss() # applies Softmax automatically\n",
        "optimizer = torch.optim.Adam(model.parameters(), lr = 0.01)"
      ],
      "execution_count": 8,
      "outputs": []
    },
    {
      "cell_type": "code",
      "metadata": {
        "id": "ntu7CIgOFgPn",
        "colab_type": "code",
        "colab": {}
      },
      "source": [
        "# Data loader is useful \n",
        "# because it automatically generates batches in the training loop and \n",
        "# takes care of shuffling\n",
        "\n",
        "batch_size = 128 # doesn't have to do anything with 128 in the model layers\n",
        "train_loader = torch.utils.data.DataLoader(\n",
        "    dataset = train_dataset,\n",
        "    batch_size = batch_size,\n",
        "    shuffle = True,\n",
        ")\n",
        "\n",
        "test_loader = torch.utils.data.DataLoader(\n",
        "    dataset = test_dataset,\n",
        "    batch_size = batch_size,\n",
        "    shuffle = False,\n",
        ")"
      ],
      "execution_count": 9,
      "outputs": []
    },
    {
      "cell_type": "code",
      "metadata": {
        "id": "_9wLayjGIhXV",
        "colab_type": "code",
        "colab": {
          "base_uri": "https://localhost:8080/",
          "height": 1000
        },
        "outputId": "204bad6b-6c65-452b-fce9-c5996aaa1b47"
      },
      "source": [
        "# The DataLoader maps the values to (0,1),\n",
        "# makes the data of shape (batch_size, color, height, width)\n",
        "tmp_loader = torch.utils.data.DataLoader(\n",
        "    dataset = train_dataset,\n",
        "    batch_size = 1,\n",
        "    shuffle = True)\n",
        "\n",
        "for x, y in tmp_loader:\n",
        "  print(x)\n",
        "  print(x.shape)\n",
        "  print(y.shape)\n",
        "  break"
      ],
      "execution_count": 10,
      "outputs": [
        {
          "output_type": "stream",
          "text": [
            "tensor([[[[0.0000, 0.0000, 0.0000, 0.0000, 0.0000, 0.0000, 0.0000, 0.0000,\n",
            "           0.0000, 0.0000, 0.0000, 0.0000, 0.0000, 0.0000, 0.0000, 0.0000,\n",
            "           0.0000, 0.0000, 0.0000, 0.0000, 0.0000, 0.0000, 0.0000, 0.0000,\n",
            "           0.0000, 0.0000, 0.0000, 0.0000],\n",
            "          [0.0000, 0.0000, 0.0000, 0.0000, 0.0000, 0.0000, 0.0000, 0.0000,\n",
            "           0.0000, 0.0000, 0.0000, 0.0000, 0.0000, 0.0000, 0.0000, 0.0000,\n",
            "           0.0000, 0.0000, 0.0000, 0.0000, 0.0000, 0.0000, 0.0000, 0.0000,\n",
            "           0.0000, 0.0000, 0.0000, 0.0000],\n",
            "          [0.0000, 0.0000, 0.0000, 0.0000, 0.0000, 0.0000, 0.0000, 0.0000,\n",
            "           0.0000, 0.0000, 0.0000, 0.0000, 0.0000, 0.0000, 0.0000, 0.0000,\n",
            "           0.0000, 0.0000, 0.0000, 0.0000, 0.0000, 0.0000, 0.0000, 0.0000,\n",
            "           0.0000, 0.0000, 0.0000, 0.0000],\n",
            "          [0.0000, 0.0000, 0.0000, 0.0000, 0.0000, 0.0000, 0.0000, 0.0000,\n",
            "           0.0000, 0.0000, 0.0000, 0.0000, 0.0000, 0.0000, 0.0000, 0.0000,\n",
            "           0.0000, 0.0000, 0.0000, 0.0000, 0.0000, 0.0000, 0.0000, 0.0000,\n",
            "           0.0000, 0.0000, 0.0000, 0.0000],\n",
            "          [0.0000, 0.0000, 0.0000, 0.0000, 0.0000, 0.0000, 0.0000, 0.0000,\n",
            "           0.0000, 0.0000, 0.0000, 0.0000, 0.0902, 0.8549, 0.9961, 0.8784,\n",
            "           0.5176, 0.0000, 0.0000, 0.0000, 0.0000, 0.0000, 0.0000, 0.0000,\n",
            "           0.0000, 0.0000, 0.0000, 0.0000],\n",
            "          [0.0000, 0.0000, 0.0000, 0.0000, 0.0000, 0.0000, 0.0000, 0.0000,\n",
            "           0.0000, 0.0000, 0.0000, 0.0000, 0.5608, 0.9961, 0.9961, 0.9961,\n",
            "           0.9725, 0.3725, 0.0000, 0.0000, 0.0000, 0.0000, 0.0000, 0.0000,\n",
            "           0.0000, 0.0000, 0.0000, 0.0000],\n",
            "          [0.0000, 0.0000, 0.0000, 0.0000, 0.0000, 0.0000, 0.0000, 0.0000,\n",
            "           0.0000, 0.0000, 0.0000, 0.0000, 0.7686, 0.9961, 0.9961, 0.9961,\n",
            "           0.9961, 0.8784, 0.0000, 0.0000, 0.0000, 0.0000, 0.0000, 0.0000,\n",
            "           0.0000, 0.0000, 0.0000, 0.0000],\n",
            "          [0.0000, 0.0000, 0.0000, 0.0000, 0.0000, 0.0000, 0.0000, 0.0000,\n",
            "           0.0000, 0.0000, 0.0000, 0.0000, 0.2078, 0.4627, 0.8549, 0.9961,\n",
            "           0.9961, 0.9961, 0.0000, 0.0000, 0.0000, 0.0000, 0.0000, 0.0000,\n",
            "           0.0000, 0.0000, 0.0000, 0.0000],\n",
            "          [0.0000, 0.0000, 0.0000, 0.0000, 0.0000, 0.0000, 0.0000, 0.0000,\n",
            "           0.0000, 0.0000, 0.0000, 0.0000, 0.0000, 0.0000, 0.1373, 0.8784,\n",
            "           0.9961, 0.9961, 0.0000, 0.0000, 0.0000, 0.0000, 0.0000, 0.0000,\n",
            "           0.0000, 0.0000, 0.0000, 0.0000],\n",
            "          [0.0000, 0.0000, 0.0000, 0.0000, 0.0000, 0.0000, 0.0000, 0.0000,\n",
            "           0.0000, 0.0000, 0.0000, 0.0000, 0.0000, 0.0000, 0.0000, 0.6039,\n",
            "           0.9961, 0.9961, 0.0000, 0.0000, 0.0000, 0.0000, 0.0000, 0.0000,\n",
            "           0.0000, 0.0000, 0.0000, 0.0000],\n",
            "          [0.0000, 0.0000, 0.0000, 0.0000, 0.0000, 0.0000, 0.0000, 0.0000,\n",
            "           0.0000, 0.0000, 0.0000, 0.0000, 0.2118, 0.6980, 0.6667, 0.7725,\n",
            "           0.9961, 0.9961, 0.0000, 0.0000, 0.0000, 0.0000, 0.0000, 0.0000,\n",
            "           0.0000, 0.0000, 0.0000, 0.0000],\n",
            "          [0.0000, 0.0000, 0.0000, 0.0000, 0.0000, 0.0000, 0.0000, 0.0000,\n",
            "           0.0000, 0.0000, 0.0000, 0.0000, 0.7686, 0.9961, 0.9961, 0.9961,\n",
            "           0.9961, 0.9961, 0.0000, 0.0000, 0.0000, 0.0000, 0.0000, 0.0000,\n",
            "           0.0000, 0.0000, 0.0000, 0.0000],\n",
            "          [0.0000, 0.0000, 0.0000, 0.0000, 0.0000, 0.0000, 0.0000, 0.0000,\n",
            "           0.0000, 0.0000, 0.0000, 0.0000, 0.7686, 0.9961, 0.9961, 0.9961,\n",
            "           0.9961, 0.9333, 0.0000, 0.0000, 0.0000, 0.0000, 0.0000, 0.0000,\n",
            "           0.0000, 0.0000, 0.0000, 0.0000],\n",
            "          [0.0000, 0.0000, 0.0000, 0.0000, 0.0000, 0.0000, 0.0000, 0.0000,\n",
            "           0.0000, 0.0000, 0.0000, 0.0000, 0.6196, 0.9961, 0.9961, 0.9961,\n",
            "           0.9961, 0.4667, 0.0000, 0.0000, 0.0000, 0.0000, 0.0000, 0.0000,\n",
            "           0.0000, 0.0000, 0.0000, 0.0000],\n",
            "          [0.0000, 0.0000, 0.0000, 0.0000, 0.0000, 0.0000, 0.0000, 0.0000,\n",
            "           0.0000, 0.0000, 0.0000, 0.0000, 0.0000, 0.5255, 0.9961, 0.9961,\n",
            "           0.9961, 0.3176, 0.0000, 0.0000, 0.0000, 0.0000, 0.0000, 0.0000,\n",
            "           0.0000, 0.0000, 0.0000, 0.0000],\n",
            "          [0.0000, 0.0000, 0.0000, 0.0000, 0.0000, 0.0000, 0.0000, 0.0000,\n",
            "           0.0000, 0.0000, 0.0000, 0.0000, 0.0000, 0.0353, 0.6902, 0.9961,\n",
            "           0.9961, 0.6078, 0.0000, 0.0000, 0.0000, 0.0000, 0.0000, 0.0000,\n",
            "           0.0000, 0.0000, 0.0000, 0.0000],\n",
            "          [0.0000, 0.0000, 0.0000, 0.0000, 0.0000, 0.0000, 0.0000, 0.0000,\n",
            "           0.0000, 0.0000, 0.0000, 0.0000, 0.0000, 0.0000, 0.4627, 0.9961,\n",
            "           0.9961, 0.8784, 0.0000, 0.0000, 0.0000, 0.0000, 0.0000, 0.0000,\n",
            "           0.0000, 0.0000, 0.0000, 0.0000],\n",
            "          [0.0000, 0.0000, 0.0000, 0.0000, 0.0000, 0.0000, 0.0000, 0.0000,\n",
            "           0.0000, 0.0000, 0.0000, 0.0000, 0.0000, 0.0000, 0.4627, 0.9961,\n",
            "           0.9961, 0.9961, 0.0000, 0.0000, 0.0000, 0.0000, 0.0000, 0.0000,\n",
            "           0.0000, 0.0000, 0.0000, 0.0000],\n",
            "          [0.0000, 0.0000, 0.0000, 0.0000, 0.0000, 0.0000, 0.0000, 0.0000,\n",
            "           0.0000, 0.0000, 0.0000, 0.0000, 0.0000, 0.0000, 0.4627, 0.9961,\n",
            "           0.9961, 0.9961, 0.0000, 0.0000, 0.0000, 0.0000, 0.0000, 0.0000,\n",
            "           0.0000, 0.0000, 0.0000, 0.0000],\n",
            "          [0.0000, 0.0000, 0.0000, 0.0000, 0.0000, 0.0000, 0.0000, 0.0000,\n",
            "           0.4706, 0.6118, 0.4980, 0.0196, 0.0000, 0.0000, 0.4667, 0.9961,\n",
            "           0.9961, 0.9961, 0.0000, 0.0000, 0.0000, 0.0000, 0.0000, 0.0000,\n",
            "           0.0000, 0.0000, 0.0000, 0.0000],\n",
            "          [0.0000, 0.0000, 0.0000, 0.0000, 0.0000, 0.0000, 0.0000, 0.0000,\n",
            "           0.9961, 0.9961, 0.9961, 0.5020, 0.1647, 0.3176, 0.7059, 0.9961,\n",
            "           0.9961, 0.9961, 0.0000, 0.0000, 0.0000, 0.0000, 0.0000, 0.0000,\n",
            "           0.0000, 0.0000, 0.0000, 0.0000],\n",
            "          [0.0000, 0.0000, 0.0000, 0.0000, 0.0000, 0.0000, 0.0000, 0.0000,\n",
            "           0.7294, 0.9961, 0.9961, 0.9961, 0.9961, 0.9961, 0.9961, 0.9961,\n",
            "           0.9961, 0.7255, 0.0000, 0.0000, 0.0000, 0.0000, 0.0000, 0.0000,\n",
            "           0.0000, 0.0000, 0.0000, 0.0000],\n",
            "          [0.0000, 0.0000, 0.0000, 0.0000, 0.0000, 0.0000, 0.0000, 0.0000,\n",
            "           0.1373, 0.4588, 0.7686, 0.9961, 0.9961, 1.0000, 0.9961, 0.9961,\n",
            "           0.8510, 0.1333, 0.0000, 0.0000, 0.0000, 0.0000, 0.0000, 0.0000,\n",
            "           0.0000, 0.0000, 0.0000, 0.0000],\n",
            "          [0.0000, 0.0000, 0.0000, 0.0000, 0.0000, 0.0000, 0.0000, 0.0000,\n",
            "           0.0000, 0.0000, 0.0706, 0.2902, 0.7569, 0.9961, 0.8157, 0.6078,\n",
            "           0.1333, 0.0000, 0.0000, 0.0000, 0.0000, 0.0000, 0.0000, 0.0000,\n",
            "           0.0000, 0.0000, 0.0000, 0.0000],\n",
            "          [0.0000, 0.0000, 0.0000, 0.0000, 0.0000, 0.0000, 0.0000, 0.0000,\n",
            "           0.0000, 0.0000, 0.0000, 0.0000, 0.0000, 0.0000, 0.0000, 0.0000,\n",
            "           0.0000, 0.0000, 0.0000, 0.0000, 0.0000, 0.0000, 0.0000, 0.0000,\n",
            "           0.0000, 0.0000, 0.0000, 0.0000],\n",
            "          [0.0000, 0.0000, 0.0000, 0.0000, 0.0000, 0.0000, 0.0000, 0.0000,\n",
            "           0.0000, 0.0000, 0.0000, 0.0000, 0.0000, 0.0000, 0.0000, 0.0000,\n",
            "           0.0000, 0.0000, 0.0000, 0.0000, 0.0000, 0.0000, 0.0000, 0.0000,\n",
            "           0.0000, 0.0000, 0.0000, 0.0000],\n",
            "          [0.0000, 0.0000, 0.0000, 0.0000, 0.0000, 0.0000, 0.0000, 0.0000,\n",
            "           0.0000, 0.0000, 0.0000, 0.0000, 0.0000, 0.0000, 0.0000, 0.0000,\n",
            "           0.0000, 0.0000, 0.0000, 0.0000, 0.0000, 0.0000, 0.0000, 0.0000,\n",
            "           0.0000, 0.0000, 0.0000, 0.0000],\n",
            "          [0.0000, 0.0000, 0.0000, 0.0000, 0.0000, 0.0000, 0.0000, 0.0000,\n",
            "           0.0000, 0.0000, 0.0000, 0.0000, 0.0000, 0.0000, 0.0000, 0.0000,\n",
            "           0.0000, 0.0000, 0.0000, 0.0000, 0.0000, 0.0000, 0.0000, 0.0000,\n",
            "           0.0000, 0.0000, 0.0000, 0.0000]]]])\n",
            "torch.Size([1, 1, 28, 28])\n",
            "torch.Size([1])\n"
          ],
          "name": "stdout"
        }
      ]
    },
    {
      "cell_type": "code",
      "metadata": {
        "id": "Y--eoY2WIsyp",
        "colab_type": "code",
        "colab": {
          "base_uri": "https://localhost:8080/",
          "height": 187
        },
        "outputId": "c46028b5-5bd2-4da6-d605-5eaf6969e0a4"
      },
      "source": [
        "# measure the time for 1 epoch\n",
        "import time\n",
        "\n",
        "# Train the model\n",
        "n_epochs = 10\n",
        "\n",
        "# To store the loss\n",
        "train_losses = np.zeros(n_epochs)\n",
        "test_losses = np.zeros(n_epochs)\n",
        "\n",
        "# apply batch gradient descent\n",
        "for i in range(n_epochs):\n",
        "  t0 = time.time()\n",
        "\n",
        "  train_loss = []\n",
        "  test_loss = []\n",
        "\n",
        "  # train loop\n",
        "  for inputs, targets in train_loader:\n",
        "    # move data to GPU device\n",
        "    inputs, targets = inputs.to(device), targets.to(device)\n",
        "\n",
        "    # reshape the input to have flat array of images\n",
        "    inputs = inputs.view(-1, 784) # 28x28 = 784\n",
        "\n",
        "    # Forward propagation\n",
        "    outputs = model(inputs)\n",
        "    loss = criterion(outputs, targets)\n",
        "\n",
        "    # Backprop\n",
        "    loss.backward()\n",
        "    optimizer.step()\n",
        "    # zero the parameter gradients in order to prevent gradient accumulation\n",
        "    optimizer.zero_grad()\n",
        "\n",
        "    # store the loss\n",
        "    train_loss.append(loss.item()) # we still want one element but as matrix\n",
        "\n",
        "  # test prediction loop  \n",
        "  for inputs, targets in train_loader:\n",
        "    inputs, targets = inputs.to(device), targets.to(device)\n",
        "    inputs = inputs.view(-1, 784)\n",
        "    outputs = model(inputs)\n",
        "    loss = criterion(outputs, targets)\n",
        "    test_loss.append(loss.item())\n",
        "  \n",
        "  # since we have arrays of losses, it's good to compare with means\n",
        "  train_loss = np.mean(train_loss)\n",
        "  test_loss = np.mean(test_loss)\n",
        "\n",
        "  # save the losses to main arrays\n",
        "  train_losses[i] = train_loss\n",
        "  test_losses[i] = test_loss\n",
        "\n",
        "  # print out the log\n",
        "  t1 = time.time()\n",
        "  print(f\"Epoch {i+1}/{n_epochs} done in {t1 - t0:.3f}s, train loss: {train_loss:.4f} | test loss: {test_loss:.4f}\")"
      ],
      "execution_count": 12,
      "outputs": [
        {
          "output_type": "stream",
          "text": [
            "Epoch 1/10 done in 13.263s, train loss: 0.2247 | test loss: 0.1197\n",
            "Epoch 2/10 done in 13.114s, train loss: 0.1099 | test loss: 0.0780\n",
            "Epoch 3/10 done in 13.421s, train loss: 0.0879 | test loss: 0.0607\n",
            "Epoch 4/10 done in 13.357s, train loss: 0.0725 | test loss: 0.0490\n",
            "Epoch 5/10 done in 13.234s, train loss: 0.0666 | test loss: 0.0557\n",
            "Epoch 6/10 done in 13.384s, train loss: 0.0612 | test loss: 0.0491\n",
            "Epoch 7/10 done in 13.338s, train loss: 0.0542 | test loss: 0.0447\n",
            "Epoch 8/10 done in 13.354s, train loss: 0.0531 | test loss: 0.0490\n",
            "Epoch 9/10 done in 13.423s, train loss: 0.0443 | test loss: 0.0443\n",
            "Epoch 10/10 done in 13.362s, train loss: 0.0503 | test loss: 0.0408\n"
          ],
          "name": "stdout"
        }
      ]
    },
    {
      "cell_type": "code",
      "metadata": {
        "id": "a-nBLfrhOqrU",
        "colab_type": "code",
        "colab": {
          "base_uri": "https://localhost:8080/",
          "height": 265
        },
        "outputId": "80ceb1ef-40bf-4c19-b0d7-7682d3724513"
      },
      "source": [
        "# plot the losses\n",
        "plt.plot(train_losses, label = 'train')\n",
        "plt.plot(test_losses, label = 'test')\n",
        "plt.legend()\n",
        "plt.show()"
      ],
      "execution_count": 13,
      "outputs": [
        {
          "output_type": "display_data",
          "data": {
            "image/png": "[encoded data removed]",
            "text/plain": [
              "<Figure size 432x288 with 1 Axes>"
            ]
          },
          "metadata": {
            "tags": [],
            "needs_background": "light"
          }
        }
      ]
    },
    {
      "cell_type": "code",
      "metadata": {
        "id": "zAbljbWYOwN6",
        "colab_type": "code",
        "colab": {
          "base_uri": "https://localhost:8080/",
          "height": 34
        },
        "outputId": "8ed5aced-55cb-44c0-e1a2-0e5fdc8a1f3a"
      },
      "source": [
        "# make predictions and calculate accuracies\n",
        "\n",
        "# for train\n",
        "n_correct = 0.\n",
        "n_total = 0.\n",
        "for inputs, targets in train_loader:\n",
        "  inputs, targets = inputs.to(device), targets.to(device)\n",
        "  inputs = inputs.view(-1, 784)\n",
        "  # forward pass\n",
        "  outputs = model(inputs)\n",
        "  # torch.max returns both maximum value and argmax\n",
        "  _, preds = torch.max(outputs, 1) # specify axis = 1 in order to pick maximum for a column.\n",
        "\n",
        "  n_correct += (preds == targets ).sum().item() # add up the correct prediction count\n",
        "  n_total += targets.shape[0] # add up the batch size\n",
        "train_acc = n_correct / n_total\n",
        "\n",
        "# for test\n",
        "n_correct = 0.\n",
        "n_total = 0.\n",
        "for inputs, targets in test_loader:\n",
        "  inputs, targets = inputs.to(device), targets.to(device)\n",
        "  inputs = inputs.view(-1, 784)\n",
        "  # forward pass\n",
        "  outputs = model(inputs)\n",
        "  # torch.max returns both maximum value and argmax\n",
        "  _, preds = torch.max(outputs, 1) # specify axis = 1 in order to pick maximum for a column.\n",
        "\n",
        "  n_correct += (preds == targets).sum().item() # add up the correct prediction count\n",
        "  n_total += targets.shape[0] # add up the batch size\n",
        "test_acc = n_correct / n_total\n",
        "\n",
        "print(f\"Train Accuracy: {train_acc:.3f}, Test Accuracy: {test_acc:.3f}\")"
      ],
      "execution_count": 14,
      "outputs": [
        {
          "output_type": "stream",
          "text": [
            "Train Accuracy: 0.988, Test Accuracy: 0.972\n"
          ],
          "name": "stdout"
        }
      ]
    },
    {
      "cell_type": "code",
      "metadata": {
        "id": "s3uRi8-zSiX2",
        "colab_type": "code",
        "colab": {}
      },
      "source": [
        "# Plot confusion matrix (code snippet)\n",
        "from sklearn.metrics import confusion_matrix\n",
        "import itertools\n",
        "\n",
        "def plot_confusion_matrix(cm, classes,\n",
        "                          normalize=False,\n",
        "                          title='Confusion matrix',\n",
        "                          cmap=plt.cm.Blues):\n",
        "  \"\"\"\n",
        "  This function prints and plots the confusion matrix.\n",
        "  Normalization can be applied by setting `normalize=True`.\n",
        "  \"\"\"\n",
        "  if normalize:\n",
        "      cm = cm.astype('float') / cm.sum(axis=1)[:, np.newaxis]\n",
        "      print(\"Normalized confusion matrix\")\n",
        "  else:\n",
        "      print('Confusion matrix, without normalization')\n",
        "\n",
        "  print(cm)\n",
        "\n",
        "  plt.imshow(cm, interpolation='nearest', cmap=cmap)\n",
        "  plt.title(title)\n",
        "  plt.colorbar()\n",
        "  tick_marks = np.arange(len(classes))\n",
        "  plt.xticks(tick_marks, classes, rotation=45)\n",
        "  plt.yticks(tick_marks, classes)\n",
        "\n",
        "  fmt = '.2f' if normalize else 'd'\n",
        "  thresh = cm.max() / 2.\n",
        "  for i, j in itertools.product(range(cm.shape[0]), range(cm.shape[1])):\n",
        "      plt.text(j, i, format(cm[i, j], fmt),\n",
        "               horizontalalignment=\"center\",\n",
        "               color=\"white\" if cm[i, j] > thresh else \"black\")\n",
        "\n",
        "  plt.tight_layout()\n",
        "  plt.ylabel('True label')\n",
        "  plt.xlabel('Predicted label')\n",
        "  plt.show()\n"
      ],
      "execution_count": 15,
      "outputs": []
    },
    {
      "cell_type": "code",
      "metadata": {
        "id": "TaEnycsSTQ36",
        "colab_type": "code",
        "colab": {
          "base_uri": "https://localhost:8080/",
          "height": 498
        },
        "outputId": "d1c13d3e-ae57-4fd4-81f8-c47b077c0bf2"
      },
      "source": [
        "x_test = test_dataset.data.numpy()\n",
        "y_test = test_dataset.targets.numpy()\n",
        "p_test = np.array([])\n",
        "for inputs, targets in test_loader:\n",
        "  inputs = inputs.to(device)\n",
        "  inputs = inputs.view(-1, 784)\n",
        "  outputs = model(inputs)\n",
        "  _, preds = torch.max(outputs, 1) # this returns maximum value and argmax but I only need argmax since it represents the same label for image.\n",
        "\n",
        "  # concatenate preds with p_test\n",
        "  # I use .cpu() to copy predictions to the CPU. Since model calculated it on GPU, I need to get it back to CPU in order to make something with it. \n",
        "  # Because we're doing our calculations (operations) mainly on CPU.\n",
        "  p_test = np.concatenate((p_test, preds.cpu().numpy()))\n",
        "\n",
        "cm = confusion_matrix(y_test, p_test)\n",
        "plot_confusion_matrix(cm, list(range(10)), title = 'Confusion Matrix for MNIST Digit Recognition')"
      ],
      "execution_count": 16,
      "outputs": [
        {
          "output_type": "stream",
          "text": [
            "Confusion matrix, without normalization\n",
            "[[ 967    0    4    0    1    2    2    0    2    2]\n",
            " [   0 1125    5    0    0    0    1    0    4    0]\n",
            " [   1    3 1009    1    0    1    1   11    2    3]\n",
            " [   0    2    7  982    0    4    0    3    3    9]\n",
            " [   0    1    8    0  934    0    3    4    1   31]\n",
            " [   1    2    0    9    1  855    6    1    8    9]\n",
            " [   2    2    3    2    3    5  935    0    3    3]\n",
            " [   1    6   10    3    0    0    0  999    0    9]\n",
            " [   8    0    3    7    4    4    5    4  931    8]\n",
            " [   0    4    0    4    4    1    1    5    3  987]]\n"
          ],
          "name": "stdout"
        },
        {
          "output_type": "display_data",
          "data": {
            "image/png": "[encoded data removed]",
            "text/plain": [
              "<Figure size 432x288 with 2 Axes>"
            ]
          },
          "metadata": {
            "tags": [],
            "needs_background": "light"
          }
        }
      ]
    },
    {
      "cell_type": "code",
      "metadata": {
        "id": "BcE1Lx7kWBwC",
        "colab_type": "code",
        "colab": {
          "base_uri": "https://localhost:8080/",
          "height": 281
        },
        "outputId": "8ca49005-0658-49a0-8d93-2d169d33abd9"
      },
      "source": [
        "misclassified_idx = np.where(p_test != y_test)[0]\n",
        "i = np.random.choice(misclassified_idx)\n",
        "plt.imshow(x_test[i], cmap = 'gray')\n",
        "plt.title(\"True label %s | Predicted : %s\" % (y_test[i], int(p_test[i])));"
      ],
      "execution_count": 17,
      "outputs": [
        {
          "output_type": "display_data",
          "data": {
            "image/png": "[encoded data removed]",
            "text/plain": [
              "<Figure size 432x288 with 1 Axes>"
            ]
          },
          "metadata": {
            "tags": [],
            "needs_background": "light"
          }
        }
      ]
    }
  ]
}
