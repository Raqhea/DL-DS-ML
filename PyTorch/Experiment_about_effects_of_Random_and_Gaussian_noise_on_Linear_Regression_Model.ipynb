{
  "nbformat": 4,
  "nbformat_minor": 0,
  "metadata": {
    "colab": {
      "name": "Experiment about effects of Random and Gaussian noise on Linear Regression Model",
      "provenance": []
    },
    "kernelspec": {
      "name": "python3",
      "display_name": "Python 3"
    }
  },
  "cells": [
    {
      "cell_type": "code",
      "metadata": {
        "id": "Ldz4vcWCQKER",
        "colab_type": "code",
        "colab": {}
      },
      "source": [
        "import torch\n",
        "import torch.nn as nn\n",
        "import numpy as np\n",
        "import matplotlib.pyplot as plt"
      ],
      "execution_count": null,
      "outputs": []
    },
    {
      "cell_type": "code",
      "metadata": {
        "id": "POwCOtWCQVRj",
        "colab_type": "code",
        "colab": {
          "base_uri": "https://localhost:8080/",
          "height": 613
        },
        "outputId": "eb92b1db-33fc-4542-d4d9-3b3b536547f6"
      },
      "source": [
        "## Generate random synthetic data\n",
        "\n",
        "# number of samples\n",
        "N = 200\n",
        "\n",
        "# generate random synthetic data in between -5 and 5\n",
        "X = np.random.random(N) * 10 - 5 \n",
        "\n",
        "\n",
        "# rng object\n",
        "rng = np.random.default_rng()\n",
        "# adding gaussian noise to the target\n",
        "gaussian_noise = rng.standard_normal(N)\n",
        "Y_1 = 0.5 * X - 1 + gaussian_noise\n",
        "# adding random noise to the target\n",
        "random_noise = rng.random(N)\n",
        "Y_2 = 0.5 * X - 1 + random_noise\n",
        "print('Variances of Y_1 and Y_2 and only Y')\n",
        "print(Y_1.var(), Y_2.var(), (0.5*X -1 ).var())\n",
        "print('Variances of gaussian noise and random noise')\n",
        "print(gaussian_noise.var(), random_noise.var())\n",
        "# plot the data\n",
        "plt.scatter(X,Y_1)\n",
        "plt.title('Target with Gaussian noise')\n",
        "plt.show()\n",
        "plt.scatter(X,Y_2)\n",
        "plt.title('Target with random noise')\n",
        "plt.show()"
      ],
      "execution_count": null,
      "outputs": [
        {
          "output_type": "stream",
          "text": [
            "Variances of Y_1 and Y_2 and only Y\n",
            "3.159482415069837 2.3547968745030303 2.180217921404366\n",
            "Variances of gaussian noise and random noise\n",
            "0.9197802944280198 0.07527425606222708\n"
          ],
          "name": "stdout"
        },
        {
          "output_type": "display_data",
          "data": {
            "image/png": "[encoded data removed]",
            "text/plain": [
              "<Figure size 432x288 with 1 Axes>"
            ]
          },
          "metadata": {
            "tags": [],
            "needs_background": "light"
          }
        },
        {
          "output_type": "display_data",
          "data": {
            "image/png": "[encoded data removed]",
            "text/plain": [
              "<Figure size 432x288 with 1 Axes>"
            ]
          },
          "metadata": {
            "tags": [],
            "needs_background": "light"
          }
        }
      ]
    },
    {
      "cell_type": "code",
      "metadata": {
        "id": "sXfff3OdRXzo",
        "colab_type": "code",
        "colab": {}
      },
      "source": [
        "# Create the linear model\n",
        "# we have 1 feature and 1 target so our input and output is 1 \n",
        "model1 = nn.Linear(1,1) \n",
        "model2 = nn.Linear(1,1)"
      ],
      "execution_count": null,
      "outputs": []
    },
    {
      "cell_type": "code",
      "metadata": {
        "id": "mz8dcXkdRJQ9",
        "colab_type": "code",
        "colab": {}
      },
      "source": [
        "criterion = nn.MSELoss()\n",
        "optimizer1 = torch.optim.SGD(model1.parameters(), lr = 0.1)\n",
        "optimizer2 = torch.optim.SGD(model2.parameters(), lr = 0.1)"
      ],
      "execution_count": null,
      "outputs": []
    },
    {
      "cell_type": "code",
      "metadata": {
        "id": "iZ6oeCZMRqyP",
        "colab_type": "code",
        "colab": {}
      },
      "source": [
        "# reshape the data to have NxM data where N is number of samples and M is number of features/targets\n",
        "X = X.reshape(N, 1)\n",
        "Y_1 = Y_1.reshape(N, 1)\n",
        "Y_2 = Y_2.reshape(N, 1)"
      ],
      "execution_count": null,
      "outputs": []
    },
    {
      "cell_type": "code",
      "metadata": {
        "id": "FQJe0B53SYUE",
        "colab_type": "code",
        "colab": {}
      },
      "source": [
        "# convert input and target arrays to pytorch tensors \n",
        "# numpy arrays are float64 by default but pytorch tensors are float32\n",
        "# so first I need to convert numpy arrays to float32, then I can initialize pytorch tensors from numpy arrays\n",
        "inputs = torch.from_numpy(X.astype(np.float32))\n",
        "targets_1 = torch.from_numpy(Y_1.astype(np.float32))\n",
        "targets_2 = torch.from_numpy(Y_2.astype(np.float32))"
      ],
      "execution_count": null,
      "outputs": []
    },
    {
      "cell_type": "markdown",
      "metadata": {
        "id": "dYvgTPv5TmpS",
        "colab_type": "text"
      },
      "source": [
        "# Expectations\n",
        "I expect to have more error (higher MSE score) in the data with random noise since it has variance greater than 1 (the variance of gaussian distribution is 1)\n",
        "\n",
        "To put it simply, take look of variance and MSE \n",
        "\n",
        "$\n",
        "MSE = \\frac{1}{n} \\sum_{i=1}^{n} (y_i-h(x^{i}))^2 \\\\\n",
        "$\n",
        "\n",
        "The variance of simple vector $ \\vec{u} $ is $ ||\\vec{u}||^2 $. So if I say $\\overrightarrow{ (h(x^{i})y_i) } $ is a vector, we can find it's length with $ y_i-h(x^{i}) $. Take a square of it, now we got $(y_i-h(x^{i}))^2$ which is the same expression with $||\\overrightarrow{(h(x^{i})y_i)}||^2$. And this is the variance of given vector. As a result we can say that MSE may change according to given datasets variance. So adding noise with variance 1 would've higher MSE score than adding noise with variance 0.5 would've resulted \n",
        "\n",
        "TLDR; MSE and variance of the data is related with each other because of definition of variance and MSE. "
      ]
    },
    {
      "cell_type": "code",
      "metadata": {
        "id": "cnvfqJTtSwZ5",
        "colab_type": "code",
        "colab": {
          "base_uri": "https://localhost:8080/",
          "height": 357
        },
        "outputId": "8ef9302b-1006-498b-9450-dcbc8a8f7d04"
      },
      "source": [
        "# Training\n",
        "n_epochs = 20\n",
        "losses_1 = []\n",
        "losses_2 = []\n",
        "\n",
        "# train model1 with Y_1 and model2 with Y_2. Then compare the losses\n",
        "for _ in range(n_epochs):\n",
        "  # forward propagation\n",
        "  # predict\n",
        "  outputs1 = model1(inputs)\n",
        "  outputs2 = model2(inputs)\n",
        "  # calculate losses\n",
        "  loss1 = criterion(outputs1, targets_1)\n",
        "  loss2 = criterion(outputs2, targets_2)\n",
        "\n",
        "  # keep the losses to plot them later\n",
        "  losses_1.append(loss1.item())\n",
        "  losses_2.append(loss2.item())\n",
        "\n",
        "  # backprop\n",
        "  loss1.backward()\n",
        "  loss2.backward()\n",
        "  optimizer1.step()\n",
        "  optimizer2.step()\n",
        "\n",
        "\n",
        "  # reset the gradients (by setting them to 0) in order to prevent gradient accumulation.\n",
        "  optimizer1.zero_grad()\n",
        "  optimizer2.zero_grad()\n",
        "\n",
        "  # print out the epoch, losses and difference between losses\n",
        "  print(f\"Epoch {_+1}/{n_epochs}, Loss for model1: {loss1.item():.4f}, Loss for model2: {loss2.item():.4f}, Difference between losses {np.abs(loss1.item()-loss2.item())}\")"
      ],
      "execution_count": null,
      "outputs": [
        {
          "output_type": "stream",
          "text": [
            "Epoch 1/20, Loss for model1: 5.8493, Loss for model2: 2.3531, Difference between losses 3.496196746826172\n",
            "Epoch 2/20, Loss for model1: 3.7598, Loss for model2: 1.3546, Difference between losses 2.4051958322525024\n",
            "Epoch 3/20, Loss for model1: 2.5622, Loss for model2: 0.7946, Difference between losses 1.7676106691360474\n",
            "Epoch 4/20, Loss for model1: 1.8734, Loss for model2: 0.4801, Difference between losses 1.393293708562851\n",
            "Epoch 5/20, Loss for model1: 1.4758, Loss for model2: 0.3033, Difference between losses 1.1724924445152283\n",
            "Epoch 6/20, Loss for model1: 1.2454, Loss for model2: 0.2038, Difference between losses 1.0416124016046524\n",
            "Epoch 7/20, Loss for model1: 1.1113, Loss for model2: 0.1476, Difference between losses 0.9636506736278534\n",
            "Epoch 8/20, Loss for model1: 1.0329, Loss for model2: 0.1159, Difference between losses 0.9169810265302658\n",
            "Epoch 9/20, Loss for model1: 0.9868, Loss for model2: 0.0979, Difference between losses 0.8889063820242882\n",
            "Epoch 10/20, Loss for model1: 0.9597, Loss for model2: 0.0877, Difference between losses 0.8719355091452599\n",
            "Epoch 11/20, Loss for model1: 0.9436, Loss for model2: 0.0819, Difference between losses 0.8616285026073456\n",
            "Epoch 12/20, Loss for model1: 0.9340, Loss for model2: 0.0786, Difference between losses 0.8553401902318001\n",
            "Epoch 13/20, Loss for model1: 0.9282, Loss for model2: 0.0767, Difference between losses 0.8514869064092636\n",
            "Epoch 14/20, Loss for model1: 0.9248, Loss for model2: 0.0756, Difference between losses 0.8491160348057747\n",
            "Epoch 15/20, Loss for model1: 0.9227, Loss for model2: 0.0750, Difference between losses 0.8476513102650642\n",
            "Epoch 16/20, Loss for model1: 0.9214, Loss for model2: 0.0747, Difference between losses 0.8467434644699097\n",
            "Epoch 17/20, Loss for model1: 0.9206, Loss for model2: 0.0744, Difference between losses 0.8461788296699524\n",
            "Epoch 18/20, Loss for model1: 0.9201, Loss for model2: 0.0743, Difference between losses 0.8458262234926224\n",
            "Epoch 19/20, Loss for model1: 0.9199, Loss for model2: 0.0742, Difference between losses 0.8456057533621788\n",
            "Epoch 20/20, Loss for model1: 0.9197, Loss for model2: 0.0742, Difference between losses 0.8454674482345581\n"
          ],
          "name": "stdout"
        }
      ]
    },
    {
      "cell_type": "code",
      "metadata": {
        "id": "lQ_ke4fNeZFq",
        "colab_type": "code",
        "colab": {
          "base_uri": "https://localhost:8080/",
          "height": 282
        },
        "outputId": "1d15b43f-bf4d-485b-90c5-191477afd70b"
      },
      "source": [
        "# plot both losses\n",
        "plt.plot(losses_1, label = 'loss of model1')\n",
        "plt.plot(losses_2, label = 'loss of model2')\n",
        "plt.legend()\n",
        "plt.plot()"
      ],
      "execution_count": null,
      "outputs": [
        {
          "output_type": "execute_result",
          "data": {
            "text/plain": [
              "[]"
            ]
          },
          "metadata": {
            "tags": []
          },
          "execution_count": 8
        },
        {
          "output_type": "display_data",
          "data": {
            "image/png": "[encoded data removed]",
            "text/plain": [
              "<Figure size 432x288 with 1 Axes>"
            ]
          },
          "metadata": {
            "tags": [],
            "needs_background": "light"
          }
        }
      ]
    },
    {
      "cell_type": "code",
      "metadata": {
        "id": "0eS2rp5XniyU",
        "colab_type": "code",
        "colab": {
          "base_uri": "https://localhost:8080/",
          "height": 136
        },
        "outputId": "30630179-fd0e-436e-d033-b57796d366b4"
      },
      "source": [
        "# Let's see the weights and biases that our models found\n",
        "print('Model1')\n",
        "print(model1.weight.data.numpy(), model1.bias.data.numpy())\n",
        "print('Model2')\n",
        "print(model2.weight.data.numpy(), model2.bias.data.numpy())\n",
        "\n",
        "print('Correct value for weight is .5 and for bias is -1')\n",
        "\n",
        "print('As a result, we can say that model1 did kinda better job.')\n",
        "print('This result concludes my experiment, as a conclusion we can say that the model did better with gaussian noise rather than random noise')"
      ],
      "execution_count": null,
      "outputs": [
        {
          "output_type": "stream",
          "text": [
            "Model1\n",
            "[[0.504816]] [-1.0246989]\n",
            "Model2\n",
            "[[0.5099346]] [-0.43307078]\n",
            "Correct value for weight is .5 and for bias is -1\n",
            "As a result, we can say that model1 did kinda better job.\n",
            "This result concludes my experiment, as a conclusion we can say that the model did better with gaussian noise rather than random noise\n"
          ],
          "name": "stdout"
        }
      ]
    }
  ]
}